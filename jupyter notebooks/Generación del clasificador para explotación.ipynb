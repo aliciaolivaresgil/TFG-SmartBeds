{
 "cells": [
  {
   "cell_type": "markdown",
   "metadata": {},
   "source": [
    "# Generación del clasificador para explotación \n",
    "## Grado en Ingeniería Informática. Universidad de Burgos\n",
    "**Autor:** Alicia Olivares Gil"
   ]
  },
  {
   "cell_type": "code",
   "execution_count": 1,
   "metadata": {},
   "outputs": [],
   "source": [
    "%matplotlib inline \n",
    "#para dibujar en el propio notebook\n",
    "import pandas as pd # se importa pandas como pd\n",
    "import numpy as np  #numpy como np\n",
    "import matplotlib.pyplot as plt #matplotlib.pyplot como plot\n",
    "import pickle as pk\n",
    "import loadData as ld\n",
    "from sklearn.ensemble import RandomForestClassifier\n",
    "from sklearn.model_selection import train_test_split\n",
    "from sklearn.metrics import confusion_matrix\n",
    "from sklearn import metrics as mtr\n",
    "import seaborn as sns\n",
    "import tsfresh as tf"
   ]
  },
  {
   "cell_type": "markdown",
   "metadata": {},
   "source": [
    "### Cargar días de la crisis 1 y 2: "
   ]
  },
  {
   "cell_type": "code",
   "execution_count": 2,
   "metadata": {},
   "outputs": [
    {
     "name": "stdout",
     "output_type": "stream",
     "text": [
      "121979\n"
     ]
    }
   ],
   "source": [
    "with open('diacrisis1.pdd','rb') as f: \n",
    "    diacrisis1 = pk.load(f) \n",
    "print(len(diacrisis1))"
   ]
  },
  {
   "cell_type": "code",
   "execution_count": 3,
   "metadata": {},
   "outputs": [
    {
     "name": "stdout",
     "output_type": "stream",
     "text": [
      "123525\n"
     ]
    }
   ],
   "source": [
    "with open('diacrisis2.pdd','rb') as f: \n",
    "    diacrisis2 = pk.load(f) \n",
    "print(len(diacrisis2))"
   ]
  },
  {
   "cell_type": "markdown",
   "metadata": {},
   "source": [
    "### Función de extracción de características por ventana: "
   ]
  },
  {
   "cell_type": "code",
   "execution_count": 4,
   "metadata": {},
   "outputs": [],
   "source": [
    "import tsfresh as tf\n",
    "\n",
    "def rolling_extract_features(X, window, fc_parameters): \n",
    "    features = pd.DataFrame()\n",
    "    for i in range(len(X)-window): \n",
    "        X_rolling = X.iloc[i:i+window]\n",
    "        features_rolling = tf.extract_features(X_rolling, default_fc_parameters=fc_parameters, column_id='id', column_sort='DateTime')\n",
    "        features = pd.concat([features,features_rolling],axis=0)\n",
    "    return features"
   ]
  },
  {
   "cell_type": "markdown",
   "metadata": {},
   "source": [
    "### Extracción de características de los días de la crisis 1 y 2: "
   ]
  },
  {
   "cell_type": "code",
   "execution_count": 5,
   "metadata": {},
   "outputs": [],
   "source": [
    "#características a calcular \n",
    "#para más info: https://tsfresh.readthedocs.io/en/latest/text/list_of_features.html \n",
    "# y https://tsfresh.readthedocs.io/en/latest/text/feature_extraction_settings.html\n",
    "fc_parameters = {\n",
    "    \"agg_linear_trend\": [{\"attr\":\"intercept\", \"chunk_len\":5, \"f_agg\":\"var\"},{\"attr\":\"stderr\", \"chunk_len\":5, \"f_agg\":\"min\"}],\n",
    "    \"symmetry_looking\": [{\"r\":0.6}],\n",
    "    \"change_quantiles\":[{\"ql\":0.2,\"qh\":1.0,\"isabs\":False,\"f_agg\":\"var\"},{\"ql\":0.4,\"qh\":0.8,\"isabs\":False,\"f_agg\":\"var\"},{\"ql\":0.4,\"qh\":0.6,\"isabs\":True,\"f_agg\":\"var\"},{\"ql\":0.0,\"qh\":0.6,\"isabs\":True,\"f_agg\":\"mean\"},{\"ql\":0.4,\"qh\":1.0,\"isabs\":True,\"f_agg\":\"mean\"}],\n",
    "    \"last_location_of_minimum\": None, \n",
    "    \"number_peaks\": [{\"n\":1}]\n",
    "}"
   ]
  },
  {
   "cell_type": "code",
   "execution_count": null,
   "metadata": {},
   "outputs": [],
   "source": [
    "X1,y1 = diacrisis1.drop(['target'],axis=1), diacrisis1['target']\n",
    "X1['id'] = 1\n",
    "X1 = X1.reset_index(drop=True)\n",
    "X2,y2 = diacrisis2.drop(['target'],axis=1), diacrisis2['target']\n",
    "X2['id'] = 1\n",
    "X2 = X2.reset_index(drop=True)\n",
    "X1.head()"
   ]
  },
  {
   "cell_type": "code",
   "execution_count": null,
   "metadata": {},
   "outputs": [],
   "source": [
    "#ejemplo de cómo obtener las características \n",
    "\n",
    "#features_diacrisis1 = rolling_extract_features(X1,90,fc_parameters)\n",
    "#features_diacrisis2 = rolling_extract_features(X2,90,fc_parameters)"
   ]
  },
  {
   "cell_type": "markdown",
   "metadata": {},
   "source": [
    "### Añadir target a las características calculadas: "
   ]
  },
  {
   "cell_type": "code",
   "execution_count": null,
   "metadata": {},
   "outputs": [],
   "source": [
    "features_diacrisis1.reset_index(drop=True)\n",
    "y=y1[90:].reset_index(drop=True)\n",
    "features_diacrisis1 = pd.concat([features_diacrisis1,y],axis=1)\n",
    "features_diacrisis2.reset_index(drop=True)\n",
    "y=y2[90:].reset_index(drop=True)\n",
    "features_diacrisis2 = pd.concat([features_diacrisis2,y],axis=1)"
   ]
  },
  {
   "cell_type": "markdown",
   "metadata": {},
   "source": [
    "### Guardar características: "
   ]
  },
  {
   "cell_type": "code",
   "execution_count": null,
   "metadata": {},
   "outputs": [],
   "source": [
    "#guardar resultados\n",
    "with open('seleccion_genetico_diacrisis1_prc.pdd','wb') as f:\n",
    "    pk.dump(features_diacrisis1,f)\n",
    "with open('seleccion_genetico_diacrisis2_prc.pdd','wb') as f: \n",
    "    pk.dump(features_diacrisis2,f)"
   ]
  },
  {
   "cell_type": "markdown",
   "metadata": {},
   "source": [
    "### Cargar características: "
   ]
  },
  {
   "cell_type": "code",
   "execution_count": 27,
   "metadata": {},
   "outputs": [
    {
     "data": {
      "text/html": [
       "<div>\n",
       "<style scoped>\n",
       "    .dataframe tbody tr th:only-of-type {\n",
       "        vertical-align: middle;\n",
       "    }\n",
       "\n",
       "    .dataframe tbody tr th {\n",
       "        vertical-align: top;\n",
       "    }\n",
       "\n",
       "    .dataframe thead th {\n",
       "        text-align: right;\n",
       "    }\n",
       "</style>\n",
       "<table border=\"1\" class=\"dataframe\">\n",
       "  <thead>\n",
       "    <tr style=\"text-align: right;\">\n",
       "      <th></th>\n",
       "      <th>DateTime</th>\n",
       "      <th>P1__agg_linear_trend__f_agg_\"var\"__chunk_len_5__attr_\"intercept\"</th>\n",
       "      <th>P2__agg_linear_trend__f_agg_\"var\"__chunk_len_5__attr_\"intercept\"</th>\n",
       "      <th>P3__agg_linear_trend__f_agg_\"var\"__chunk_len_5__attr_\"intercept\"</th>\n",
       "      <th>P4__agg_linear_trend__f_agg_\"var\"__chunk_len_5__attr_\"intercept\"</th>\n",
       "      <th>P5__agg_linear_trend__f_agg_\"var\"__chunk_len_5__attr_\"intercept\"</th>\n",
       "      <th>P6__agg_linear_trend__f_agg_\"var\"__chunk_len_5__attr_\"intercept\"</th>\n",
       "      <th>P1__symmetry_looking__r_0.6000000000000001</th>\n",
       "      <th>P2__symmetry_looking__r_0.6000000000000001</th>\n",
       "      <th>P3__symmetry_looking__r_0.6000000000000001</th>\n",
       "      <th>...</th>\n",
       "      <th>P4__change_quantiles__f_agg_\"mean\"__isabs_True__qh_1.0__ql_0.4</th>\n",
       "      <th>P5__change_quantiles__f_agg_\"mean\"__isabs_True__qh_1.0__ql_0.4</th>\n",
       "      <th>P6__change_quantiles__f_agg_\"mean\"__isabs_True__qh_1.0__ql_0.4</th>\n",
       "      <th>P1__agg_linear_trend__f_agg_\"min\"__chunk_len_5__attr_\"stderr\"</th>\n",
       "      <th>P2__agg_linear_trend__f_agg_\"min\"__chunk_len_5__attr_\"stderr\"</th>\n",
       "      <th>P3__agg_linear_trend__f_agg_\"min\"__chunk_len_5__attr_\"stderr\"</th>\n",
       "      <th>P4__agg_linear_trend__f_agg_\"min\"__chunk_len_5__attr_\"stderr\"</th>\n",
       "      <th>P5__agg_linear_trend__f_agg_\"min\"__chunk_len_5__attr_\"stderr\"</th>\n",
       "      <th>P6__agg_linear_trend__f_agg_\"min\"__chunk_len_5__attr_\"stderr\"</th>\n",
       "      <th>target</th>\n",
       "    </tr>\n",
       "  </thead>\n",
       "  <tbody>\n",
       "    <tr>\n",
       "      <th>0</th>\n",
       "      <td>2018-11-09 21:04:01</td>\n",
       "      <td>3.726911</td>\n",
       "      <td>0.148360</td>\n",
       "      <td>0.006601</td>\n",
       "      <td>-0.111270</td>\n",
       "      <td>0.010687</td>\n",
       "      <td>0.025146</td>\n",
       "      <td>1.0</td>\n",
       "      <td>1.0</td>\n",
       "      <td>1.0</td>\n",
       "      <td>...</td>\n",
       "      <td>0.297131</td>\n",
       "      <td>0.219215</td>\n",
       "      <td>0.149031</td>\n",
       "      <td>0.053178</td>\n",
       "      <td>1.711944e-16</td>\n",
       "      <td>0.031777</td>\n",
       "      <td>0.038042</td>\n",
       "      <td>0.025058</td>\n",
       "      <td>0.008302</td>\n",
       "      <td>False</td>\n",
       "    </tr>\n",
       "    <tr>\n",
       "      <th>1</th>\n",
       "      <td>2018-11-09 21:04:02</td>\n",
       "      <td>3.569750</td>\n",
       "      <td>0.099326</td>\n",
       "      <td>-0.060664</td>\n",
       "      <td>-0.127300</td>\n",
       "      <td>-0.024831</td>\n",
       "      <td>0.015087</td>\n",
       "      <td>1.0</td>\n",
       "      <td>1.0</td>\n",
       "      <td>1.0</td>\n",
       "      <td>...</td>\n",
       "      <td>0.290517</td>\n",
       "      <td>0.221794</td>\n",
       "      <td>0.141323</td>\n",
       "      <td>0.053178</td>\n",
       "      <td>1.660484e-02</td>\n",
       "      <td>0.031777</td>\n",
       "      <td>0.038042</td>\n",
       "      <td>0.025058</td>\n",
       "      <td>0.008302</td>\n",
       "      <td>False</td>\n",
       "    </tr>\n",
       "    <tr>\n",
       "      <th>2</th>\n",
       "      <td>2018-11-09 21:04:03</td>\n",
       "      <td>3.222425</td>\n",
       "      <td>0.100897</td>\n",
       "      <td>-0.037090</td>\n",
       "      <td>-0.055321</td>\n",
       "      <td>-0.004715</td>\n",
       "      <td>-0.006915</td>\n",
       "      <td>1.0</td>\n",
       "      <td>1.0</td>\n",
       "      <td>1.0</td>\n",
       "      <td>...</td>\n",
       "      <td>0.283733</td>\n",
       "      <td>0.224434</td>\n",
       "      <td>0.133435</td>\n",
       "      <td>0.064143</td>\n",
       "      <td>1.660484e-02</td>\n",
       "      <td>0.031777</td>\n",
       "      <td>0.038449</td>\n",
       "      <td>0.025058</td>\n",
       "      <td>0.008302</td>\n",
       "      <td>False</td>\n",
       "    </tr>\n",
       "    <tr>\n",
       "      <th>3</th>\n",
       "      <td>2018-11-09 21:04:03</td>\n",
       "      <td>3.662475</td>\n",
       "      <td>0.133587</td>\n",
       "      <td>-0.037719</td>\n",
       "      <td>-0.053120</td>\n",
       "      <td>-0.010373</td>\n",
       "      <td>0.008487</td>\n",
       "      <td>1.0</td>\n",
       "      <td>1.0</td>\n",
       "      <td>1.0</td>\n",
       "      <td>...</td>\n",
       "      <td>0.287418</td>\n",
       "      <td>0.227138</td>\n",
       "      <td>0.133435</td>\n",
       "      <td>0.049745</td>\n",
       "      <td>1.660484e-02</td>\n",
       "      <td>0.030731</td>\n",
       "      <td>0.038473</td>\n",
       "      <td>0.023893</td>\n",
       "      <td>0.008302</td>\n",
       "      <td>False</td>\n",
       "    </tr>\n",
       "    <tr>\n",
       "      <th>4</th>\n",
       "      <td>2018-11-09 21:04:04</td>\n",
       "      <td>3.995970</td>\n",
       "      <td>0.143645</td>\n",
       "      <td>0.034261</td>\n",
       "      <td>0.027660</td>\n",
       "      <td>0.036461</td>\n",
       "      <td>0.010373</td>\n",
       "      <td>1.0</td>\n",
       "      <td>1.0</td>\n",
       "      <td>1.0</td>\n",
       "      <td>...</td>\n",
       "      <td>0.291199</td>\n",
       "      <td>0.229908</td>\n",
       "      <td>0.133435</td>\n",
       "      <td>0.052657</td>\n",
       "      <td>1.660484e-02</td>\n",
       "      <td>0.030731</td>\n",
       "      <td>0.036501</td>\n",
       "      <td>0.024316</td>\n",
       "      <td>0.008302</td>\n",
       "      <td>False</td>\n",
       "    </tr>\n",
       "  </tbody>\n",
       "</table>\n",
       "<p>5 rows × 62 columns</p>\n",
       "</div>"
      ],
      "text/plain": [
       "             DateTime  \\\n",
       "0 2018-11-09 21:04:01   \n",
       "1 2018-11-09 21:04:02   \n",
       "2 2018-11-09 21:04:03   \n",
       "3 2018-11-09 21:04:03   \n",
       "4 2018-11-09 21:04:04   \n",
       "\n",
       "   P1__agg_linear_trend__f_agg_\"var\"__chunk_len_5__attr_\"intercept\"  \\\n",
       "0                                           3.726911                  \n",
       "1                                           3.569750                  \n",
       "2                                           3.222425                  \n",
       "3                                           3.662475                  \n",
       "4                                           3.995970                  \n",
       "\n",
       "   P2__agg_linear_trend__f_agg_\"var\"__chunk_len_5__attr_\"intercept\"  \\\n",
       "0                                           0.148360                  \n",
       "1                                           0.099326                  \n",
       "2                                           0.100897                  \n",
       "3                                           0.133587                  \n",
       "4                                           0.143645                  \n",
       "\n",
       "   P3__agg_linear_trend__f_agg_\"var\"__chunk_len_5__attr_\"intercept\"  \\\n",
       "0                                           0.006601                  \n",
       "1                                          -0.060664                  \n",
       "2                                          -0.037090                  \n",
       "3                                          -0.037719                  \n",
       "4                                           0.034261                  \n",
       "\n",
       "   P4__agg_linear_trend__f_agg_\"var\"__chunk_len_5__attr_\"intercept\"  \\\n",
       "0                                          -0.111270                  \n",
       "1                                          -0.127300                  \n",
       "2                                          -0.055321                  \n",
       "3                                          -0.053120                  \n",
       "4                                           0.027660                  \n",
       "\n",
       "   P5__agg_linear_trend__f_agg_\"var\"__chunk_len_5__attr_\"intercept\"  \\\n",
       "0                                           0.010687                  \n",
       "1                                          -0.024831                  \n",
       "2                                          -0.004715                  \n",
       "3                                          -0.010373                  \n",
       "4                                           0.036461                  \n",
       "\n",
       "   P6__agg_linear_trend__f_agg_\"var\"__chunk_len_5__attr_\"intercept\"  \\\n",
       "0                                           0.025146                  \n",
       "1                                           0.015087                  \n",
       "2                                          -0.006915                  \n",
       "3                                           0.008487                  \n",
       "4                                           0.010373                  \n",
       "\n",
       "   P1__symmetry_looking__r_0.6000000000000001  \\\n",
       "0                                         1.0   \n",
       "1                                         1.0   \n",
       "2                                         1.0   \n",
       "3                                         1.0   \n",
       "4                                         1.0   \n",
       "\n",
       "   P2__symmetry_looking__r_0.6000000000000001  \\\n",
       "0                                         1.0   \n",
       "1                                         1.0   \n",
       "2                                         1.0   \n",
       "3                                         1.0   \n",
       "4                                         1.0   \n",
       "\n",
       "   P3__symmetry_looking__r_0.6000000000000001   ...    \\\n",
       "0                                         1.0   ...     \n",
       "1                                         1.0   ...     \n",
       "2                                         1.0   ...     \n",
       "3                                         1.0   ...     \n",
       "4                                         1.0   ...     \n",
       "\n",
       "   P4__change_quantiles__f_agg_\"mean\"__isabs_True__qh_1.0__ql_0.4  \\\n",
       "0                                           0.297131                \n",
       "1                                           0.290517                \n",
       "2                                           0.283733                \n",
       "3                                           0.287418                \n",
       "4                                           0.291199                \n",
       "\n",
       "   P5__change_quantiles__f_agg_\"mean\"__isabs_True__qh_1.0__ql_0.4  \\\n",
       "0                                           0.219215                \n",
       "1                                           0.221794                \n",
       "2                                           0.224434                \n",
       "3                                           0.227138                \n",
       "4                                           0.229908                \n",
       "\n",
       "   P6__change_quantiles__f_agg_\"mean\"__isabs_True__qh_1.0__ql_0.4  \\\n",
       "0                                           0.149031                \n",
       "1                                           0.141323                \n",
       "2                                           0.133435                \n",
       "3                                           0.133435                \n",
       "4                                           0.133435                \n",
       "\n",
       "   P1__agg_linear_trend__f_agg_\"min\"__chunk_len_5__attr_\"stderr\"  \\\n",
       "0                                           0.053178               \n",
       "1                                           0.053178               \n",
       "2                                           0.064143               \n",
       "3                                           0.049745               \n",
       "4                                           0.052657               \n",
       "\n",
       "   P2__agg_linear_trend__f_agg_\"min\"__chunk_len_5__attr_\"stderr\"  \\\n",
       "0                                       1.711944e-16               \n",
       "1                                       1.660484e-02               \n",
       "2                                       1.660484e-02               \n",
       "3                                       1.660484e-02               \n",
       "4                                       1.660484e-02               \n",
       "\n",
       "   P3__agg_linear_trend__f_agg_\"min\"__chunk_len_5__attr_\"stderr\"  \\\n",
       "0                                           0.031777               \n",
       "1                                           0.031777               \n",
       "2                                           0.031777               \n",
       "3                                           0.030731               \n",
       "4                                           0.030731               \n",
       "\n",
       "   P4__agg_linear_trend__f_agg_\"min\"__chunk_len_5__attr_\"stderr\"  \\\n",
       "0                                           0.038042               \n",
       "1                                           0.038042               \n",
       "2                                           0.038449               \n",
       "3                                           0.038473               \n",
       "4                                           0.036501               \n",
       "\n",
       "   P5__agg_linear_trend__f_agg_\"min\"__chunk_len_5__attr_\"stderr\"  \\\n",
       "0                                           0.025058               \n",
       "1                                           0.025058               \n",
       "2                                           0.025058               \n",
       "3                                           0.023893               \n",
       "4                                           0.024316               \n",
       "\n",
       "   P6__agg_linear_trend__f_agg_\"min\"__chunk_len_5__attr_\"stderr\"  target  \n",
       "0                                           0.008302               False  \n",
       "1                                           0.008302               False  \n",
       "2                                           0.008302               False  \n",
       "3                                           0.008302               False  \n",
       "4                                           0.008302               False  \n",
       "\n",
       "[5 rows x 62 columns]"
      ]
     },
     "execution_count": 27,
     "metadata": {},
     "output_type": "execute_result"
    }
   ],
   "source": [
    "features_diacrisis1 = pk.load(open('seleccion_genetico_diacrisis1_prc.pdd','rb'))\n",
    "features_diacrisis2 = pk.load(open('seleccion_genetico_diacrisis2_prc.pdd','rb'))\n",
    "#concatenar los dos días \n",
    "features = pd.concat([features_diacrisis1,features_diacrisis2], axis = 0, ignore_index = True)\n",
    "features.head()"
   ]
  },
  {
   "cell_type": "markdown",
   "metadata": {},
   "source": [
    "### Entrenar clasificador "
   ]
  },
  {
   "cell_type": "code",
   "execution_count": 32,
   "metadata": {},
   "outputs": [],
   "source": [
    "X = features.drop(['DateTime','target'], axis=1)\n",
    "y = features['target']"
   ]
  },
  {
   "cell_type": "code",
   "execution_count": 35,
   "metadata": {},
   "outputs": [
    {
     "data": {
      "text/plain": [
       "RandomForestClassifier(bootstrap=True, class_weight=None, criterion='gini',\n",
       "            max_depth=2, max_features='auto', max_leaf_nodes=None,\n",
       "            min_impurity_decrease=0.0, min_impurity_split=None,\n",
       "            min_samples_leaf=1, min_samples_split=2,\n",
       "            min_weight_fraction_leaf=0.0, n_estimators=100, n_jobs=None,\n",
       "            oob_score=False, random_state=0, verbose=0, warm_start=False)"
      ]
     },
     "execution_count": 35,
     "metadata": {},
     "output_type": "execute_result"
    }
   ],
   "source": [
    "from sklearn.ensemble import RandomForestClassifier\n",
    "from sklearn.model_selection import cross_val_score\n",
    "from sklearn import metrics as mtr\n",
    "\n",
    "rfc = RandomForestClassifier(n_estimators=100, max_depth=2, random_state=0)\n",
    "\n",
    "rfc.fit(X,y)"
   ]
  },
  {
   "cell_type": "markdown",
   "metadata": {},
   "source": [
    "### Guardar clasificador"
   ]
  },
  {
   "cell_type": "code",
   "execution_count": 36,
   "metadata": {},
   "outputs": [],
   "source": [
    "with open('rfc.pkl','wb') as f: \n",
    "    pk.dump(rfc,f)"
   ]
  },
  {
   "cell_type": "code",
   "execution_count": null,
   "metadata": {},
   "outputs": [],
   "source": []
  }
 ],
 "metadata": {
  "kernelspec": {
   "display_name": "Python 3",
   "language": "python",
   "name": "python3"
  },
  "language_info": {
   "codemirror_mode": {
    "name": "ipython",
    "version": 3
   },
   "file_extension": ".py",
   "mimetype": "text/x-python",
   "name": "python",
   "nbconvert_exporter": "python",
   "pygments_lexer": "ipython3",
   "version": "3.6.8"
  }
 },
 "nbformat": 4,
 "nbformat_minor": 2
}
