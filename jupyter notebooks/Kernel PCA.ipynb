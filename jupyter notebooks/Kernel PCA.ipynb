{
 "cells": [
  {
   "cell_type": "markdown",
   "metadata": {},
   "source": [
    "# Detección de anomalías One-Class\n",
    "## Grado en Ingeniería Informática. Universidad de Burgos\n",
    "**Autor:** Alicia Olivares Gil"
   ]
  },
  {
   "cell_type": "code",
   "execution_count": 1,
   "metadata": {},
   "outputs": [],
   "source": [
    "%matplotlib inline \n",
    "#para dibujar en el propio notebook\n",
    "import pandas as pd # se importa pandas como pd\n",
    "import numpy as np  #numpy como np\n",
    "import matplotlib.pyplot as plt #matplotlib.pyplot como plot\n",
    "import pickle as pk\n",
    "import loadData as ld"
   ]
  },
  {
   "cell_type": "markdown",
   "metadata": {},
   "source": [
    "## Leer datos: "
   ]
  },
  {
   "cell_type": "code",
   "execution_count": 2,
   "metadata": {},
   "outputs": [
    {
     "name": "stdout",
     "output_type": "stream",
     "text": [
      "91\n"
     ]
    }
   ],
   "source": [
    "with open('trozos_limpios.pkl','rb') as f: \n",
    "    trozos_limpios = pk.load(f) \n",
    "\n",
    "print(len(trozos_limpios))"
   ]
  },
  {
   "cell_type": "code",
   "execution_count": 3,
   "metadata": {},
   "outputs": [
    {
     "data": {
      "text/html": [
       "<div>\n",
       "<style scoped>\n",
       "    .dataframe tbody tr th:only-of-type {\n",
       "        vertical-align: middle;\n",
       "    }\n",
       "\n",
       "    .dataframe tbody tr th {\n",
       "        vertical-align: top;\n",
       "    }\n",
       "\n",
       "    .dataframe thead th {\n",
       "        text-align: right;\n",
       "    }\n",
       "</style>\n",
       "<table border=\"1\" class=\"dataframe\">\n",
       "  <thead>\n",
       "    <tr style=\"text-align: right;\">\n",
       "      <th></th>\n",
       "      <th>DateTime</th>\n",
       "      <th>P1</th>\n",
       "      <th>P2</th>\n",
       "      <th>P3</th>\n",
       "      <th>P4</th>\n",
       "      <th>P5</th>\n",
       "      <th>P6</th>\n",
       "      <th>target</th>\n",
       "    </tr>\n",
       "  </thead>\n",
       "  <tbody>\n",
       "    <tr>\n",
       "      <th>3849685</th>\n",
       "      <td>2018-11-09 21:03:27</td>\n",
       "      <td>4.098361</td>\n",
       "      <td>18.852459</td>\n",
       "      <td>22.131148</td>\n",
       "      <td>22.131148</td>\n",
       "      <td>13.114754</td>\n",
       "      <td>6.557377</td>\n",
       "      <td>False</td>\n",
       "    </tr>\n",
       "    <tr>\n",
       "      <th>3849686</th>\n",
       "      <td>2018-11-09 21:03:27</td>\n",
       "      <td>4.098361</td>\n",
       "      <td>18.852459</td>\n",
       "      <td>21.311475</td>\n",
       "      <td>22.131148</td>\n",
       "      <td>13.114754</td>\n",
       "      <td>6.557377</td>\n",
       "      <td>False</td>\n",
       "    </tr>\n",
       "    <tr>\n",
       "      <th>3849687</th>\n",
       "      <td>2018-11-09 21:03:28</td>\n",
       "      <td>4.918033</td>\n",
       "      <td>19.672131</td>\n",
       "      <td>22.131148</td>\n",
       "      <td>22.950820</td>\n",
       "      <td>13.934426</td>\n",
       "      <td>7.377049</td>\n",
       "      <td>False</td>\n",
       "    </tr>\n",
       "    <tr>\n",
       "      <th>3849688</th>\n",
       "      <td>2018-11-09 21:03:29</td>\n",
       "      <td>4.098361</td>\n",
       "      <td>18.852459</td>\n",
       "      <td>21.311475</td>\n",
       "      <td>22.131148</td>\n",
       "      <td>13.114754</td>\n",
       "      <td>6.557377</td>\n",
       "      <td>False</td>\n",
       "    </tr>\n",
       "    <tr>\n",
       "      <th>3849689</th>\n",
       "      <td>2018-11-09 21:03:30</td>\n",
       "      <td>0.000000</td>\n",
       "      <td>18.852459</td>\n",
       "      <td>22.131148</td>\n",
       "      <td>22.950820</td>\n",
       "      <td>13.114754</td>\n",
       "      <td>6.557377</td>\n",
       "      <td>False</td>\n",
       "    </tr>\n",
       "  </tbody>\n",
       "</table>\n",
       "</div>"
      ],
      "text/plain": [
       "                   DateTime        P1         P2         P3         P4  \\\n",
       "3849685 2018-11-09 21:03:27  4.098361  18.852459  22.131148  22.131148   \n",
       "3849686 2018-11-09 21:03:27  4.098361  18.852459  21.311475  22.131148   \n",
       "3849687 2018-11-09 21:03:28  4.918033  19.672131  22.131148  22.950820   \n",
       "3849688 2018-11-09 21:03:29  4.098361  18.852459  21.311475  22.131148   \n",
       "3849689 2018-11-09 21:03:30  0.000000  18.852459  22.131148  22.950820   \n",
       "\n",
       "                P5        P6  target  \n",
       "3849685  13.114754  6.557377   False  \n",
       "3849686  13.114754  6.557377   False  \n",
       "3849687  13.934426  7.377049   False  \n",
       "3849688  13.114754  6.557377   False  \n",
       "3849689  13.114754  6.557377   False  "
      ]
     },
     "execution_count": 3,
     "metadata": {},
     "output_type": "execute_result"
    }
   ],
   "source": [
    "diacrisis1 = trozos_limpios[70]\n",
    "diacrisis1.head()"
   ]
  },
  {
   "cell_type": "code",
   "execution_count": 4,
   "metadata": {},
   "outputs": [
    {
     "name": "stdout",
     "output_type": "stream",
     "text": [
      "665\n"
     ]
    },
    {
     "data": {
      "text/html": [
       "<div>\n",
       "<style scoped>\n",
       "    .dataframe tbody tr th:only-of-type {\n",
       "        vertical-align: middle;\n",
       "    }\n",
       "\n",
       "    .dataframe tbody tr th {\n",
       "        vertical-align: top;\n",
       "    }\n",
       "\n",
       "    .dataframe thead th {\n",
       "        text-align: right;\n",
       "    }\n",
       "</style>\n",
       "<table border=\"1\" class=\"dataframe\">\n",
       "  <thead>\n",
       "    <tr style=\"text-align: right;\">\n",
       "      <th></th>\n",
       "      <th>DateTime</th>\n",
       "      <th>P1</th>\n",
       "      <th>P2</th>\n",
       "      <th>P3</th>\n",
       "      <th>P4</th>\n",
       "      <th>P5</th>\n",
       "      <th>P6</th>\n",
       "      <th>target</th>\n",
       "    </tr>\n",
       "  </thead>\n",
       "  <tbody>\n",
       "    <tr>\n",
       "      <th>3908249</th>\n",
       "      <td>2018-11-10 03:36:11</td>\n",
       "      <td>0.0</td>\n",
       "      <td>24.590164</td>\n",
       "      <td>24.590164</td>\n",
       "      <td>30.327869</td>\n",
       "      <td>31.967213</td>\n",
       "      <td>21.311475</td>\n",
       "      <td>True</td>\n",
       "    </tr>\n",
       "    <tr>\n",
       "      <th>3908250</th>\n",
       "      <td>2018-11-10 03:36:11</td>\n",
       "      <td>0.0</td>\n",
       "      <td>22.131148</td>\n",
       "      <td>22.950820</td>\n",
       "      <td>27.868852</td>\n",
       "      <td>27.868852</td>\n",
       "      <td>19.672131</td>\n",
       "      <td>True</td>\n",
       "    </tr>\n",
       "    <tr>\n",
       "      <th>3908251</th>\n",
       "      <td>2018-11-10 03:36:11</td>\n",
       "      <td>0.0</td>\n",
       "      <td>18.032787</td>\n",
       "      <td>18.852459</td>\n",
       "      <td>26.229508</td>\n",
       "      <td>27.868852</td>\n",
       "      <td>18.032787</td>\n",
       "      <td>True</td>\n",
       "    </tr>\n",
       "    <tr>\n",
       "      <th>3908253</th>\n",
       "      <td>2018-11-10 03:36:12</td>\n",
       "      <td>0.0</td>\n",
       "      <td>22.131148</td>\n",
       "      <td>25.409836</td>\n",
       "      <td>34.426230</td>\n",
       "      <td>36.885246</td>\n",
       "      <td>24.590164</td>\n",
       "      <td>True</td>\n",
       "    </tr>\n",
       "    <tr>\n",
       "      <th>3908252</th>\n",
       "      <td>2018-11-10 03:36:12</td>\n",
       "      <td>0.0</td>\n",
       "      <td>19.672131</td>\n",
       "      <td>23.770492</td>\n",
       "      <td>34.426230</td>\n",
       "      <td>36.885246</td>\n",
       "      <td>23.770492</td>\n",
       "      <td>True</td>\n",
       "    </tr>\n",
       "  </tbody>\n",
       "</table>\n",
       "</div>"
      ],
      "text/plain": [
       "                   DateTime   P1         P2         P3         P4         P5  \\\n",
       "3908249 2018-11-10 03:36:11  0.0  24.590164  24.590164  30.327869  31.967213   \n",
       "3908250 2018-11-10 03:36:11  0.0  22.131148  22.950820  27.868852  27.868852   \n",
       "3908251 2018-11-10 03:36:11  0.0  18.032787  18.852459  26.229508  27.868852   \n",
       "3908253 2018-11-10 03:36:12  0.0  22.131148  25.409836  34.426230  36.885246   \n",
       "3908252 2018-11-10 03:36:12  0.0  19.672131  23.770492  34.426230  36.885246   \n",
       "\n",
       "                P6  target  \n",
       "3908249  21.311475    True  \n",
       "3908250  19.672131    True  \n",
       "3908251  18.032787    True  \n",
       "3908253  24.590164    True  \n",
       "3908252  23.770492    True  "
      ]
     },
     "execution_count": 4,
     "metadata": {},
     "output_type": "execute_result"
    }
   ],
   "source": [
    "# momentos antes y después del ataque \n",
    "inicio =pd.to_datetime('2018-11-10 3:36:10')\n",
    "fin = pd.to_datetime('2018-11-10 3:40:37')\n",
    "\n",
    "crisis1 = diacrisis1.loc[diacrisis1['DateTime']>inicio]\n",
    "crisis1 = crisis1.loc[crisis1['DateTime']<fin]\n",
    "\n",
    "print(len(crisis1))\n",
    "crisis1.head()"
   ]
  },
  {
   "cell_type": "code",
   "execution_count": 5,
   "metadata": {},
   "outputs": [
    {
     "data": {
      "text/html": [
       "<div>\n",
       "<style scoped>\n",
       "    .dataframe tbody tr th:only-of-type {\n",
       "        vertical-align: middle;\n",
       "    }\n",
       "\n",
       "    .dataframe tbody tr th {\n",
       "        vertical-align: top;\n",
       "    }\n",
       "\n",
       "    .dataframe thead th {\n",
       "        text-align: right;\n",
       "    }\n",
       "</style>\n",
       "<table border=\"1\" class=\"dataframe\">\n",
       "  <thead>\n",
       "    <tr style=\"text-align: right;\">\n",
       "      <th></th>\n",
       "      <th>P1</th>\n",
       "      <th>P2</th>\n",
       "      <th>P3</th>\n",
       "      <th>P4</th>\n",
       "      <th>P5</th>\n",
       "      <th>P6</th>\n",
       "    </tr>\n",
       "  </thead>\n",
       "  <tbody>\n",
       "    <tr>\n",
       "      <th>3849685</th>\n",
       "      <td>4.098361</td>\n",
       "      <td>18.852459</td>\n",
       "      <td>22.131148</td>\n",
       "      <td>22.131148</td>\n",
       "      <td>13.114754</td>\n",
       "      <td>6.557377</td>\n",
       "    </tr>\n",
       "    <tr>\n",
       "      <th>3849686</th>\n",
       "      <td>4.098361</td>\n",
       "      <td>18.852459</td>\n",
       "      <td>21.311475</td>\n",
       "      <td>22.131148</td>\n",
       "      <td>13.114754</td>\n",
       "      <td>6.557377</td>\n",
       "    </tr>\n",
       "    <tr>\n",
       "      <th>3849687</th>\n",
       "      <td>4.918033</td>\n",
       "      <td>19.672131</td>\n",
       "      <td>22.131148</td>\n",
       "      <td>22.950820</td>\n",
       "      <td>13.934426</td>\n",
       "      <td>7.377049</td>\n",
       "    </tr>\n",
       "    <tr>\n",
       "      <th>3849688</th>\n",
       "      <td>4.098361</td>\n",
       "      <td>18.852459</td>\n",
       "      <td>21.311475</td>\n",
       "      <td>22.131148</td>\n",
       "      <td>13.114754</td>\n",
       "      <td>6.557377</td>\n",
       "    </tr>\n",
       "    <tr>\n",
       "      <th>3849689</th>\n",
       "      <td>0.000000</td>\n",
       "      <td>18.852459</td>\n",
       "      <td>22.131148</td>\n",
       "      <td>22.950820</td>\n",
       "      <td>13.114754</td>\n",
       "      <td>6.557377</td>\n",
       "    </tr>\n",
       "  </tbody>\n",
       "</table>\n",
       "</div>"
      ],
      "text/plain": [
       "               P1         P2         P3         P4         P5        P6\n",
       "3849685  4.098361  18.852459  22.131148  22.131148  13.114754  6.557377\n",
       "3849686  4.098361  18.852459  21.311475  22.131148  13.114754  6.557377\n",
       "3849687  4.918033  19.672131  22.131148  22.950820  13.934426  7.377049\n",
       "3849688  4.098361  18.852459  21.311475  22.131148  13.114754  6.557377\n",
       "3849689  0.000000  18.852459  22.131148  22.950820  13.114754  6.557377"
      ]
     },
     "execution_count": 5,
     "metadata": {},
     "output_type": "execute_result"
    }
   ],
   "source": [
    "presionesCrisis1 = diacrisis1[[\"P1\", \"P2\", \"P3\", \"P4\", \"P5\", \"P6\"]]\n",
    "presionesCrisis1.head()"
   ]
  },
  {
   "cell_type": "markdown",
   "metadata": {},
   "source": [
    "# Kernel PCA"
   ]
  },
  {
   "cell_type": "code",
   "execution_count": 6,
   "metadata": {},
   "outputs": [],
   "source": [
    "from sklearn.decomposition import KernelPCA"
   ]
  },
  {
   "cell_type": "markdown",
   "metadata": {},
   "source": [
    "## - Datos brutos: "
   ]
  },
  {
   "cell_type": "code",
   "execution_count": null,
   "metadata": {},
   "outputs": [],
   "source": [
    "transformer = KernelPCA(n_components=2, kernel='linear')\n",
    "model = transformer.fit(presionesCrisis1)"
   ]
  },
  {
   "cell_type": "code",
   "execution_count": 9,
   "metadata": {},
   "outputs": [
    {
     "ename": "NameError",
     "evalue": "name 'model' is not defined",
     "output_type": "error",
     "traceback": [
      "\u001b[0;31m---------------------------------------------------------------------------\u001b[0m",
      "\u001b[0;31mNameError\u001b[0m                                 Traceback (most recent call last)",
      "\u001b[0;32m<ipython-input-9-8be9434142ba>\u001b[0m in \u001b[0;36m<module>\u001b[0;34m\u001b[0m\n\u001b[0;32m----> 1\u001b[0;31m \u001b[0mdatos2D\u001b[0m \u001b[0;34m=\u001b[0m \u001b[0mmodel\u001b[0m\u001b[0;34m.\u001b[0m\u001b[0mtransform\u001b[0m\u001b[0;34m(\u001b[0m\u001b[0mpresionesDiaCrisis1\u001b[0m\u001b[0;34m)\u001b[0m\u001b[0;34m\u001b[0m\u001b[0;34m\u001b[0m\u001b[0m\n\u001b[0m",
      "\u001b[0;31mNameError\u001b[0m: name 'model' is not defined"
     ]
    }
   ],
   "source": [
    "datos2D = model.transform(presionesDiaCrisis1)"
   ]
  },
  {
   "cell_type": "code",
   "execution_count": null,
   "metadata": {},
   "outputs": [],
   "source": []
  }
 ],
 "metadata": {
  "kernelspec": {
   "display_name": "Python 3",
   "language": "python",
   "name": "python3"
  },
  "language_info": {
   "codemirror_mode": {
    "name": "ipython",
    "version": 3
   },
   "file_extension": ".py",
   "mimetype": "text/x-python",
   "name": "python",
   "nbconvert_exporter": "python",
   "pygments_lexer": "ipython3",
   "version": "3.6.8"
  }
 },
 "nbformat": 4,
 "nbformat_minor": 2
}
