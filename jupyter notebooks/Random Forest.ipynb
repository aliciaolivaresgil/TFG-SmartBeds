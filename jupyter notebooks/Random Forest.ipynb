{
 "cells": [
  {
   "cell_type": "markdown",
   "metadata": {},
   "source": [
    "# Random Forest\n",
    "## Grado en Ingeniería Informática. Universidad de Burgos\n",
    "**Autor:** Alicia Olivares Gil"
   ]
  },
  {
   "cell_type": "code",
   "execution_count": 1,
   "metadata": {},
   "outputs": [],
   "source": [
    "%matplotlib inline \n",
    "#para dibujar en el propio notebook\n",
    "import pandas as pd # se importa pandas como pd\n",
    "import numpy as np  #numpy como np\n",
    "import matplotlib.pyplot as plt #matplotlib.pyplot como plot\n",
    "import pickle as pk\n",
    "import loadData as ld"
   ]
  },
  {
   "cell_type": "markdown",
   "metadata": {},
   "source": [
    "## Leer datos:"
   ]
  },
  {
   "cell_type": "code",
   "execution_count": 2,
   "metadata": {},
   "outputs": [
    {
     "name": "stdout",
     "output_type": "stream",
     "text": [
      "124\n"
     ]
    }
   ],
   "source": [
    "with open('datos_normalizados.pkl','rb') as f: \n",
    "    datos = pk.load(f) \n",
    "\n",
    "print(len(datos))"
   ]
  },
  {
   "cell_type": "code",
   "execution_count": 3,
   "metadata": {},
   "outputs": [
    {
     "name": "stdout",
     "output_type": "stream",
     "text": [
      "124\n"
     ]
    }
   ],
   "source": [
    "with open('datos_estadisticos.pkl','rb') as f: \n",
    "    datos_estadisticos = pk.load(f) \n",
    "\n",
    "print(len(datos))"
   ]
  },
  {
   "cell_type": "code",
   "execution_count": null,
   "metadata": {},
   "outputs": [],
   "source": [
    "#buscar días con ataque\n",
    "\n",
    "indices=[]\n",
    "\n",
    "for i in range(len(datos)): \n",
    "    for index, row in datos[i].iterrows(): \n",
    "        if(row['target'] == True): \n",
    "            indices.append(i)\n",
    "            break; "
   ]
  },
  {
   "cell_type": "code",
   "execution_count": 7,
   "metadata": {},
   "outputs": [
    {
     "data": {
      "text/plain": [
       "[74, 109, 121]"
      ]
     },
     "execution_count": 7,
     "metadata": {},
     "output_type": "execute_result"
    }
   ],
   "source": [
    "indices"
   ]
  },
  {
   "cell_type": "code",
   "execution_count": 4,
   "metadata": {},
   "outputs": [
    {
     "data": {
      "text/html": [
       "<div>\n",
       "<style scoped>\n",
       "    .dataframe tbody tr th:only-of-type {\n",
       "        vertical-align: middle;\n",
       "    }\n",
       "\n",
       "    .dataframe tbody tr th {\n",
       "        vertical-align: top;\n",
       "    }\n",
       "\n",
       "    .dataframe thead th {\n",
       "        text-align: right;\n",
       "    }\n",
       "</style>\n",
       "<table border=\"1\" class=\"dataframe\">\n",
       "  <thead>\n",
       "    <tr style=\"text-align: right;\">\n",
       "      <th></th>\n",
       "      <th>DateTime</th>\n",
       "      <th>P1</th>\n",
       "      <th>P2</th>\n",
       "      <th>P3</th>\n",
       "      <th>P4</th>\n",
       "      <th>P5</th>\n",
       "      <th>P6</th>\n",
       "      <th>target</th>\n",
       "    </tr>\n",
       "  </thead>\n",
       "  <tbody>\n",
       "    <tr>\n",
       "      <th>3396348</th>\n",
       "      <td>2018-11-09 21:02:53</td>\n",
       "      <td>0.0</td>\n",
       "      <td>18.852459</td>\n",
       "      <td>22.131148</td>\n",
       "      <td>22.950820</td>\n",
       "      <td>13.934426</td>\n",
       "      <td>6.557377</td>\n",
       "      <td>False</td>\n",
       "    </tr>\n",
       "    <tr>\n",
       "      <th>3396346</th>\n",
       "      <td>2018-11-09 21:02:53</td>\n",
       "      <td>0.0</td>\n",
       "      <td>19.672131</td>\n",
       "      <td>22.950820</td>\n",
       "      <td>23.770492</td>\n",
       "      <td>13.934426</td>\n",
       "      <td>7.377049</td>\n",
       "      <td>False</td>\n",
       "    </tr>\n",
       "    <tr>\n",
       "      <th>3396345</th>\n",
       "      <td>2018-11-09 21:02:53</td>\n",
       "      <td>0.0</td>\n",
       "      <td>18.852459</td>\n",
       "      <td>22.131148</td>\n",
       "      <td>22.950820</td>\n",
       "      <td>13.934426</td>\n",
       "      <td>6.557377</td>\n",
       "      <td>False</td>\n",
       "    </tr>\n",
       "    <tr>\n",
       "      <th>3396347</th>\n",
       "      <td>2018-11-09 21:02:53</td>\n",
       "      <td>0.0</td>\n",
       "      <td>19.672131</td>\n",
       "      <td>22.950820</td>\n",
       "      <td>22.950820</td>\n",
       "      <td>13.934426</td>\n",
       "      <td>6.557377</td>\n",
       "      <td>False</td>\n",
       "    </tr>\n",
       "    <tr>\n",
       "      <th>3396349</th>\n",
       "      <td>2018-11-09 21:02:53</td>\n",
       "      <td>0.0</td>\n",
       "      <td>18.852459</td>\n",
       "      <td>22.131148</td>\n",
       "      <td>22.950820</td>\n",
       "      <td>13.934426</td>\n",
       "      <td>6.557377</td>\n",
       "      <td>False</td>\n",
       "    </tr>\n",
       "  </tbody>\n",
       "</table>\n",
       "</div>"
      ],
      "text/plain": [
       "                   DateTime   P1         P2         P3         P4         P5  \\\n",
       "3396348 2018-11-09 21:02:53  0.0  18.852459  22.131148  22.950820  13.934426   \n",
       "3396346 2018-11-09 21:02:53  0.0  19.672131  22.950820  23.770492  13.934426   \n",
       "3396345 2018-11-09 21:02:53  0.0  18.852459  22.131148  22.950820  13.934426   \n",
       "3396347 2018-11-09 21:02:53  0.0  19.672131  22.950820  22.950820  13.934426   \n",
       "3396349 2018-11-09 21:02:53  0.0  18.852459  22.131148  22.950820  13.934426   \n",
       "\n",
       "               P6  target  \n",
       "3396348  6.557377   False  \n",
       "3396346  7.377049   False  \n",
       "3396345  6.557377   False  \n",
       "3396347  6.557377   False  \n",
       "3396349  6.557377   False  "
      ]
     },
     "execution_count": 4,
     "metadata": {},
     "output_type": "execute_result"
    }
   ],
   "source": [
    "diacrisis1 = datos[74]\n",
    "diacrisis1.head()"
   ]
  },
  {
   "cell_type": "code",
   "execution_count": 5,
   "metadata": {},
   "outputs": [
    {
     "data": {
      "text/html": [
       "<div>\n",
       "<style scoped>\n",
       "    .dataframe tbody tr th:only-of-type {\n",
       "        vertical-align: middle;\n",
       "    }\n",
       "\n",
       "    .dataframe tbody tr th {\n",
       "        vertical-align: top;\n",
       "    }\n",
       "\n",
       "    .dataframe thead th {\n",
       "        text-align: right;\n",
       "    }\n",
       "</style>\n",
       "<table border=\"1\" class=\"dataframe\">\n",
       "  <thead>\n",
       "    <tr style=\"text-align: right;\">\n",
       "      <th></th>\n",
       "      <th>DateTime</th>\n",
       "      <th>P1</th>\n",
       "      <th>P2</th>\n",
       "      <th>P3</th>\n",
       "      <th>P4</th>\n",
       "      <th>P5</th>\n",
       "      <th>P6</th>\n",
       "      <th>target</th>\n",
       "    </tr>\n",
       "  </thead>\n",
       "  <tbody>\n",
       "    <tr>\n",
       "      <th>5375569</th>\n",
       "      <td>2019-01-09 21:18:44</td>\n",
       "      <td>0.000000</td>\n",
       "      <td>13.114754</td>\n",
       "      <td>5.737705</td>\n",
       "      <td>0.000000</td>\n",
       "      <td>0.000000</td>\n",
       "      <td>0.0</td>\n",
       "      <td>False</td>\n",
       "    </tr>\n",
       "    <tr>\n",
       "      <th>5375570</th>\n",
       "      <td>2019-01-09 21:18:44</td>\n",
       "      <td>0.000000</td>\n",
       "      <td>22.950820</td>\n",
       "      <td>20.491803</td>\n",
       "      <td>11.475410</td>\n",
       "      <td>0.000000</td>\n",
       "      <td>0.0</td>\n",
       "      <td>False</td>\n",
       "    </tr>\n",
       "    <tr>\n",
       "      <th>5375568</th>\n",
       "      <td>2019-01-09 21:18:44</td>\n",
       "      <td>0.000000</td>\n",
       "      <td>21.311475</td>\n",
       "      <td>13.934426</td>\n",
       "      <td>4.098361</td>\n",
       "      <td>0.000000</td>\n",
       "      <td>0.0</td>\n",
       "      <td>False</td>\n",
       "    </tr>\n",
       "    <tr>\n",
       "      <th>5375566</th>\n",
       "      <td>2019-01-09 21:18:44</td>\n",
       "      <td>4.098361</td>\n",
       "      <td>27.049180</td>\n",
       "      <td>22.950820</td>\n",
       "      <td>12.295082</td>\n",
       "      <td>0.000000</td>\n",
       "      <td>0.0</td>\n",
       "      <td>False</td>\n",
       "    </tr>\n",
       "    <tr>\n",
       "      <th>5375565</th>\n",
       "      <td>2019-01-09 21:18:44</td>\n",
       "      <td>0.000000</td>\n",
       "      <td>27.049180</td>\n",
       "      <td>29.508197</td>\n",
       "      <td>24.590164</td>\n",
       "      <td>7.377049</td>\n",
       "      <td>0.0</td>\n",
       "      <td>False</td>\n",
       "    </tr>\n",
       "  </tbody>\n",
       "</table>\n",
       "</div>"
      ],
      "text/plain": [
       "                   DateTime        P1         P2         P3         P4  \\\n",
       "5375569 2019-01-09 21:18:44  0.000000  13.114754   5.737705   0.000000   \n",
       "5375570 2019-01-09 21:18:44  0.000000  22.950820  20.491803  11.475410   \n",
       "5375568 2019-01-09 21:18:44  0.000000  21.311475  13.934426   4.098361   \n",
       "5375566 2019-01-09 21:18:44  4.098361  27.049180  22.950820  12.295082   \n",
       "5375565 2019-01-09 21:18:44  0.000000  27.049180  29.508197  24.590164   \n",
       "\n",
       "               P5   P6  target  \n",
       "5375569  0.000000  0.0   False  \n",
       "5375570  0.000000  0.0   False  \n",
       "5375568  0.000000  0.0   False  \n",
       "5375566  0.000000  0.0   False  \n",
       "5375565  7.377049  0.0   False  "
      ]
     },
     "execution_count": 5,
     "metadata": {},
     "output_type": "execute_result"
    }
   ],
   "source": [
    "diacrisis2 = datos[109]\n",
    "diacrisis2.head()"
   ]
  },
  {
   "cell_type": "code",
   "execution_count": 6,
   "metadata": {},
   "outputs": [
    {
     "data": {
      "text/html": [
       "<div>\n",
       "<style scoped>\n",
       "    .dataframe tbody tr th:only-of-type {\n",
       "        vertical-align: middle;\n",
       "    }\n",
       "\n",
       "    .dataframe tbody tr th {\n",
       "        vertical-align: top;\n",
       "    }\n",
       "\n",
       "    .dataframe thead th {\n",
       "        text-align: right;\n",
       "    }\n",
       "</style>\n",
       "<table border=\"1\" class=\"dataframe\">\n",
       "  <thead>\n",
       "    <tr style=\"text-align: right;\">\n",
       "      <th></th>\n",
       "      <th>DateTime</th>\n",
       "      <th>P1 mean 25</th>\n",
       "      <th>P2 mean 25</th>\n",
       "      <th>P3 mean 25</th>\n",
       "      <th>P4 mean 25</th>\n",
       "      <th>P5 mean 25</th>\n",
       "      <th>P6 mean 25</th>\n",
       "      <th>P1 std 25</th>\n",
       "      <th>P2 std 25</th>\n",
       "      <th>P3 std 25</th>\n",
       "      <th>P4 std 25</th>\n",
       "      <th>P5 std 25</th>\n",
       "      <th>P6 std 25</th>\n",
       "      <th>P1 range 25</th>\n",
       "      <th>P2 range 25</th>\n",
       "      <th>P3 range 25</th>\n",
       "      <th>P4 range 25</th>\n",
       "      <th>P5 range 25</th>\n",
       "      <th>P6 range 25</th>\n",
       "      <th>target</th>\n",
       "    </tr>\n",
       "  </thead>\n",
       "  <tbody>\n",
       "    <tr>\n",
       "      <th>3396369</th>\n",
       "      <td>2018-11-09 21:03:08</td>\n",
       "      <td>3.549061</td>\n",
       "      <td>40.640223</td>\n",
       "      <td>47.807933</td>\n",
       "      <td>49.199722</td>\n",
       "      <td>29.297147</td>\n",
       "      <td>14.057063</td>\n",
       "      <td>11.659387</td>\n",
       "      <td>2.233533</td>\n",
       "      <td>2.324735</td>\n",
       "      <td>2.089279</td>\n",
       "      <td>2.154585</td>\n",
       "      <td>1.262380</td>\n",
       "      <td>10.169492</td>\n",
       "      <td>1.694915</td>\n",
       "      <td>1.694915</td>\n",
       "      <td>1.694915</td>\n",
       "      <td>3.389831</td>\n",
       "      <td>1.694915</td>\n",
       "      <td>False</td>\n",
       "    </tr>\n",
       "    <tr>\n",
       "      <th>3396370</th>\n",
       "      <td>2018-11-09 21:03:09</td>\n",
       "      <td>3.897008</td>\n",
       "      <td>40.709812</td>\n",
       "      <td>47.807933</td>\n",
       "      <td>49.199722</td>\n",
       "      <td>29.297147</td>\n",
       "      <td>14.057063</td>\n",
       "      <td>11.792337</td>\n",
       "      <td>2.279591</td>\n",
       "      <td>2.324735</td>\n",
       "      <td>2.089279</td>\n",
       "      <td>2.154585</td>\n",
       "      <td>1.262380</td>\n",
       "      <td>10.169492</td>\n",
       "      <td>1.694915</td>\n",
       "      <td>1.694915</td>\n",
       "      <td>1.694915</td>\n",
       "      <td>3.389831</td>\n",
       "      <td>1.694915</td>\n",
       "      <td>False</td>\n",
       "    </tr>\n",
       "    <tr>\n",
       "      <th>3396371</th>\n",
       "      <td>2018-11-09 21:03:10</td>\n",
       "      <td>4.244955</td>\n",
       "      <td>40.709812</td>\n",
       "      <td>47.738344</td>\n",
       "      <td>49.060543</td>\n",
       "      <td>29.227557</td>\n",
       "      <td>13.987474</td>\n",
       "      <td>11.850948</td>\n",
       "      <td>2.279591</td>\n",
       "      <td>2.309785</td>\n",
       "      <td>2.279591</td>\n",
       "      <td>2.279591</td>\n",
       "      <td>0.911836</td>\n",
       "      <td>10.169492</td>\n",
       "      <td>1.694915</td>\n",
       "      <td>1.694915</td>\n",
       "      <td>3.389831</td>\n",
       "      <td>3.389831</td>\n",
       "      <td>1.694915</td>\n",
       "      <td>False</td>\n",
       "    </tr>\n",
       "    <tr>\n",
       "      <th>3396372</th>\n",
       "      <td>2018-11-09 21:03:10</td>\n",
       "      <td>4.244955</td>\n",
       "      <td>40.640223</td>\n",
       "      <td>47.738344</td>\n",
       "      <td>49.060543</td>\n",
       "      <td>29.227557</td>\n",
       "      <td>13.987474</td>\n",
       "      <td>11.850948</td>\n",
       "      <td>2.233533</td>\n",
       "      <td>2.309785</td>\n",
       "      <td>2.279591</td>\n",
       "      <td>2.279591</td>\n",
       "      <td>0.911836</td>\n",
       "      <td>10.169492</td>\n",
       "      <td>1.694915</td>\n",
       "      <td>1.694915</td>\n",
       "      <td>3.389831</td>\n",
       "      <td>3.389831</td>\n",
       "      <td>1.694915</td>\n",
       "      <td>False</td>\n",
       "    </tr>\n",
       "    <tr>\n",
       "      <th>3396373</th>\n",
       "      <td>2018-11-09 21:03:11</td>\n",
       "      <td>4.244955</td>\n",
       "      <td>40.640223</td>\n",
       "      <td>47.668754</td>\n",
       "      <td>49.060543</td>\n",
       "      <td>29.227557</td>\n",
       "      <td>13.987474</td>\n",
       "      <td>11.850948</td>\n",
       "      <td>2.233533</td>\n",
       "      <td>2.279591</td>\n",
       "      <td>2.279591</td>\n",
       "      <td>2.279591</td>\n",
       "      <td>0.911836</td>\n",
       "      <td>10.169492</td>\n",
       "      <td>1.694915</td>\n",
       "      <td>1.694915</td>\n",
       "      <td>3.389831</td>\n",
       "      <td>3.389831</td>\n",
       "      <td>1.694915</td>\n",
       "      <td>False</td>\n",
       "    </tr>\n",
       "  </tbody>\n",
       "</table>\n",
       "</div>"
      ],
      "text/plain": [
       "                   DateTime  P1 mean 25  P2 mean 25  P3 mean 25  P4 mean 25  \\\n",
       "3396369 2018-11-09 21:03:08    3.549061   40.640223   47.807933   49.199722   \n",
       "3396370 2018-11-09 21:03:09    3.897008   40.709812   47.807933   49.199722   \n",
       "3396371 2018-11-09 21:03:10    4.244955   40.709812   47.738344   49.060543   \n",
       "3396372 2018-11-09 21:03:10    4.244955   40.640223   47.738344   49.060543   \n",
       "3396373 2018-11-09 21:03:11    4.244955   40.640223   47.668754   49.060543   \n",
       "\n",
       "         P5 mean 25  P6 mean 25  P1 std 25  P2 std 25  P3 std 25  P4 std 25  \\\n",
       "3396369   29.297147   14.057063  11.659387   2.233533   2.324735   2.089279   \n",
       "3396370   29.297147   14.057063  11.792337   2.279591   2.324735   2.089279   \n",
       "3396371   29.227557   13.987474  11.850948   2.279591   2.309785   2.279591   \n",
       "3396372   29.227557   13.987474  11.850948   2.233533   2.309785   2.279591   \n",
       "3396373   29.227557   13.987474  11.850948   2.233533   2.279591   2.279591   \n",
       "\n",
       "         P5 std 25  P6 std 25  P1 range 25  P2 range 25  P3 range 25  \\\n",
       "3396369   2.154585   1.262380    10.169492     1.694915     1.694915   \n",
       "3396370   2.154585   1.262380    10.169492     1.694915     1.694915   \n",
       "3396371   2.279591   0.911836    10.169492     1.694915     1.694915   \n",
       "3396372   2.279591   0.911836    10.169492     1.694915     1.694915   \n",
       "3396373   2.279591   0.911836    10.169492     1.694915     1.694915   \n",
       "\n",
       "         P4 range 25  P5 range 25  P6 range 25  target  \n",
       "3396369     1.694915     3.389831     1.694915   False  \n",
       "3396370     1.694915     3.389831     1.694915   False  \n",
       "3396371     3.389831     3.389831     1.694915   False  \n",
       "3396372     3.389831     3.389831     1.694915   False  \n",
       "3396373     3.389831     3.389831     1.694915   False  "
      ]
     },
     "execution_count": 6,
     "metadata": {},
     "output_type": "execute_result"
    }
   ],
   "source": [
    "diacrisis1_estadisticos = datos_estadisticos[74]\n",
    "diacrisis1_estadisticos.head()"
   ]
  },
  {
   "cell_type": "code",
   "execution_count": 7,
   "metadata": {},
   "outputs": [
    {
     "data": {
      "text/html": [
       "<div>\n",
       "<style scoped>\n",
       "    .dataframe tbody tr th:only-of-type {\n",
       "        vertical-align: middle;\n",
       "    }\n",
       "\n",
       "    .dataframe tbody tr th {\n",
       "        vertical-align: top;\n",
       "    }\n",
       "\n",
       "    .dataframe thead th {\n",
       "        text-align: right;\n",
       "    }\n",
       "</style>\n",
       "<table border=\"1\" class=\"dataframe\">\n",
       "  <thead>\n",
       "    <tr style=\"text-align: right;\">\n",
       "      <th></th>\n",
       "      <th>DateTime</th>\n",
       "      <th>P1 mean 25</th>\n",
       "      <th>P2 mean 25</th>\n",
       "      <th>P3 mean 25</th>\n",
       "      <th>P4 mean 25</th>\n",
       "      <th>P5 mean 25</th>\n",
       "      <th>P6 mean 25</th>\n",
       "      <th>P1 std 25</th>\n",
       "      <th>P2 std 25</th>\n",
       "      <th>P3 std 25</th>\n",
       "      <th>P4 std 25</th>\n",
       "      <th>P5 std 25</th>\n",
       "      <th>P6 std 25</th>\n",
       "      <th>P1 range 25</th>\n",
       "      <th>P2 range 25</th>\n",
       "      <th>P3 range 25</th>\n",
       "      <th>P4 range 25</th>\n",
       "      <th>P5 range 25</th>\n",
       "      <th>P6 range 25</th>\n",
       "      <th>target</th>\n",
       "    </tr>\n",
       "  </thead>\n",
       "  <tbody>\n",
       "    <tr>\n",
       "      <th>5375588</th>\n",
       "      <td>2019-01-09 21:18:59</td>\n",
       "      <td>0.445236</td>\n",
       "      <td>56.277827</td>\n",
       "      <td>54.140695</td>\n",
       "      <td>34.728406</td>\n",
       "      <td>2.493321</td>\n",
       "      <td>0.62333</td>\n",
       "      <td>4.195599</td>\n",
       "      <td>14.908651</td>\n",
       "      <td>29.035647</td>\n",
       "      <td>34.063682</td>\n",
       "      <td>17.354775</td>\n",
       "      <td>5.873839</td>\n",
       "      <td>9.259259</td>\n",
       "      <td>31.481481</td>\n",
       "      <td>75.925926</td>\n",
       "      <td>85.185185</td>\n",
       "      <td>35.185185</td>\n",
       "      <td>12.962963</td>\n",
       "      <td>False</td>\n",
       "    </tr>\n",
       "    <tr>\n",
       "      <th>5375589</th>\n",
       "      <td>2019-01-09 21:19:00</td>\n",
       "      <td>0.445236</td>\n",
       "      <td>56.544969</td>\n",
       "      <td>55.565450</td>\n",
       "      <td>36.420303</td>\n",
       "      <td>2.493321</td>\n",
       "      <td>0.62333</td>\n",
       "      <td>4.195599</td>\n",
       "      <td>12.586797</td>\n",
       "      <td>24.806128</td>\n",
       "      <td>31.159680</td>\n",
       "      <td>17.354775</td>\n",
       "      <td>5.873839</td>\n",
       "      <td>9.259259</td>\n",
       "      <td>20.370370</td>\n",
       "      <td>57.407407</td>\n",
       "      <td>75.925926</td>\n",
       "      <td>35.185185</td>\n",
       "      <td>12.962963</td>\n",
       "      <td>False</td>\n",
       "    </tr>\n",
       "    <tr>\n",
       "      <th>5375590</th>\n",
       "      <td>2019-01-09 21:19:00</td>\n",
       "      <td>0.445236</td>\n",
       "      <td>56.990205</td>\n",
       "      <td>55.654497</td>\n",
       "      <td>36.242208</td>\n",
       "      <td>2.493321</td>\n",
       "      <td>0.62333</td>\n",
       "      <td>4.195599</td>\n",
       "      <td>12.586797</td>\n",
       "      <td>24.791932</td>\n",
       "      <td>31.221760</td>\n",
       "      <td>17.354775</td>\n",
       "      <td>5.873839</td>\n",
       "      <td>9.259259</td>\n",
       "      <td>20.370370</td>\n",
       "      <td>57.407407</td>\n",
       "      <td>75.925926</td>\n",
       "      <td>35.185185</td>\n",
       "      <td>12.962963</td>\n",
       "      <td>False</td>\n",
       "    </tr>\n",
       "    <tr>\n",
       "      <th>5375591</th>\n",
       "      <td>2019-01-09 21:19:01</td>\n",
       "      <td>0.445236</td>\n",
       "      <td>56.277827</td>\n",
       "      <td>56.099733</td>\n",
       "      <td>37.488869</td>\n",
       "      <td>2.493321</td>\n",
       "      <td>0.62333</td>\n",
       "      <td>4.195599</td>\n",
       "      <td>12.732796</td>\n",
       "      <td>23.887910</td>\n",
       "      <td>29.535547</td>\n",
       "      <td>17.354775</td>\n",
       "      <td>5.873839</td>\n",
       "      <td>9.259259</td>\n",
       "      <td>20.370370</td>\n",
       "      <td>53.703704</td>\n",
       "      <td>66.666667</td>\n",
       "      <td>35.185185</td>\n",
       "      <td>12.962963</td>\n",
       "      <td>False</td>\n",
       "    </tr>\n",
       "    <tr>\n",
       "      <th>5375592</th>\n",
       "      <td>2019-01-09 21:19:02</td>\n",
       "      <td>0.000000</td>\n",
       "      <td>55.298308</td>\n",
       "      <td>55.654497</td>\n",
       "      <td>37.666963</td>\n",
       "      <td>2.493321</td>\n",
       "      <td>0.62333</td>\n",
       "      <td>0.000000</td>\n",
       "      <td>11.079348</td>\n",
       "      <td>23.826422</td>\n",
       "      <td>29.491808</td>\n",
       "      <td>17.354775</td>\n",
       "      <td>5.873839</td>\n",
       "      <td>0.000000</td>\n",
       "      <td>20.370370</td>\n",
       "      <td>53.703704</td>\n",
       "      <td>66.666667</td>\n",
       "      <td>35.185185</td>\n",
       "      <td>12.962963</td>\n",
       "      <td>False</td>\n",
       "    </tr>\n",
       "  </tbody>\n",
       "</table>\n",
       "</div>"
      ],
      "text/plain": [
       "                   DateTime  P1 mean 25  P2 mean 25  P3 mean 25  P4 mean 25  \\\n",
       "5375588 2019-01-09 21:18:59    0.445236   56.277827   54.140695   34.728406   \n",
       "5375589 2019-01-09 21:19:00    0.445236   56.544969   55.565450   36.420303   \n",
       "5375590 2019-01-09 21:19:00    0.445236   56.990205   55.654497   36.242208   \n",
       "5375591 2019-01-09 21:19:01    0.445236   56.277827   56.099733   37.488869   \n",
       "5375592 2019-01-09 21:19:02    0.000000   55.298308   55.654497   37.666963   \n",
       "\n",
       "         P5 mean 25  P6 mean 25  P1 std 25  P2 std 25  P3 std 25  P4 std 25  \\\n",
       "5375588    2.493321     0.62333   4.195599  14.908651  29.035647  34.063682   \n",
       "5375589    2.493321     0.62333   4.195599  12.586797  24.806128  31.159680   \n",
       "5375590    2.493321     0.62333   4.195599  12.586797  24.791932  31.221760   \n",
       "5375591    2.493321     0.62333   4.195599  12.732796  23.887910  29.535547   \n",
       "5375592    2.493321     0.62333   0.000000  11.079348  23.826422  29.491808   \n",
       "\n",
       "         P5 std 25  P6 std 25  P1 range 25  P2 range 25  P3 range 25  \\\n",
       "5375588  17.354775   5.873839     9.259259    31.481481    75.925926   \n",
       "5375589  17.354775   5.873839     9.259259    20.370370    57.407407   \n",
       "5375590  17.354775   5.873839     9.259259    20.370370    57.407407   \n",
       "5375591  17.354775   5.873839     9.259259    20.370370    53.703704   \n",
       "5375592  17.354775   5.873839     0.000000    20.370370    53.703704   \n",
       "\n",
       "         P4 range 25  P5 range 25  P6 range 25  target  \n",
       "5375588    85.185185    35.185185    12.962963   False  \n",
       "5375589    75.925926    35.185185    12.962963   False  \n",
       "5375590    75.925926    35.185185    12.962963   False  \n",
       "5375591    66.666667    35.185185    12.962963   False  \n",
       "5375592    66.666667    35.185185    12.962963   False  "
      ]
     },
     "execution_count": 7,
     "metadata": {},
     "output_type": "execute_result"
    }
   ],
   "source": [
    "diacrisis2_estadisticos = datos_estadisticos[109]\n",
    "diacrisis2_estadisticos.head()"
   ]
  },
  {
   "cell_type": "markdown",
   "metadata": {},
   "source": [
    "# Clasificador Random Forest (supervisado)"
   ]
  },
  {
   "cell_type": "code",
   "execution_count": 8,
   "metadata": {},
   "outputs": [],
   "source": [
    "from sklearn.ensemble import RandomForestClassifier\n",
    "from sklearn.model_selection import train_test_split\n",
    "from sklearn.metrics import confusion_matrix\n",
    "from sklearn import metrics as mtr"
   ]
  },
  {
   "cell_type": "markdown",
   "metadata": {},
   "source": [
    "## - Datos brutos: "
   ]
  },
  {
   "cell_type": "code",
   "execution_count": 9,
   "metadata": {},
   "outputs": [],
   "source": [
    "# generar particiones de entrenamiento y testeo \n",
    "X_train, X_test, y_train, y_test = train_test_split(diacrisis1[['P1','P2','P3','P4','P5','P6']] , \n",
    "                                                    diacrisis1['target'], \n",
    "                                                    stratify=diacrisis1['target'], \n",
    "                                                    test_size=0.3, random_state=0)"
   ]
  },
  {
   "cell_type": "code",
   "execution_count": 10,
   "metadata": {},
   "outputs": [
    {
     "data": {
      "text/plain": [
       "RandomForestClassifier(bootstrap=True, class_weight=None, criterion='gini',\n",
       "            max_depth=2, max_features='auto', max_leaf_nodes=None,\n",
       "            min_impurity_decrease=0.0, min_impurity_split=None,\n",
       "            min_samples_leaf=1, min_samples_split=2,\n",
       "            min_weight_fraction_leaf=0.0, n_estimators=100, n_jobs=None,\n",
       "            oob_score=False, random_state=0, verbose=0, warm_start=False)"
      ]
     },
     "execution_count": 10,
     "metadata": {},
     "output_type": "execute_result"
    }
   ],
   "source": [
    "rfc = RandomForestClassifier(n_estimators=100, max_depth=2, random_state=0)\n",
    "rfc.fit(X_train, y_train)"
   ]
  },
  {
   "cell_type": "markdown",
   "metadata": {},
   "source": [
    "### Matriz de confusión (predecir mismo día): "
   ]
  },
  {
   "cell_type": "code",
   "execution_count": 11,
   "metadata": {},
   "outputs": [
    {
     "data": {
      "text/plain": [
       "array([False, False, False, ..., False, False, False])"
      ]
     },
     "execution_count": 11,
     "metadata": {},
     "output_type": "execute_result"
    }
   ],
   "source": [
    "y_pred = rfc.predict(X_test)\n",
    "y_pred"
   ]
  },
  {
   "cell_type": "code",
   "execution_count": 12,
   "metadata": {},
   "outputs": [
    {
     "data": {
      "text/plain": [
       "array([[36394,     0],\n",
       "       [  200,     0]])"
      ]
     },
     "execution_count": 12,
     "metadata": {},
     "output_type": "execute_result"
    }
   ],
   "source": [
    "confusion_matrix(y_test ,y_pred)"
   ]
  },
  {
   "cell_type": "markdown",
   "metadata": {},
   "source": [
    "### Área bajo la curva (predecir mismo día): "
   ]
  },
  {
   "cell_type": "code",
   "execution_count": 13,
   "metadata": {},
   "outputs": [
    {
     "data": {
      "text/plain": [
       "array([[9.99646092e-01, 3.53907526e-04],\n",
       "       [9.99716086e-01, 2.83914159e-04],\n",
       "       [9.99712764e-01, 2.87236486e-04],\n",
       "       ...,\n",
       "       [9.94685121e-01, 5.31487889e-03],\n",
       "       [9.99723513e-01, 2.76486774e-04],\n",
       "       [9.99712764e-01, 2.87236486e-04]])"
      ]
     },
     "execution_count": 13,
     "metadata": {},
     "output_type": "execute_result"
    }
   ],
   "source": [
    "## predicción probabilistica \n",
    "y_pred = rfc.predict_proba(X_test)\n",
    "y_pred"
   ]
  },
  {
   "cell_type": "code",
   "execution_count": 18,
   "metadata": {},
   "outputs": [],
   "source": [
    "y_score = [i[1] for i in y_pred]"
   ]
  },
  {
   "cell_type": "code",
   "execution_count": 16,
   "metadata": {},
   "outputs": [
    {
     "name": "stdout",
     "output_type": "stream",
     "text": [
      "0.9967777655657526\n"
     ]
    },
    {
     "data": {
      "text/plain": [
       "[<matplotlib.lines.Line2D at 0x7fb9c10ce8d0>]"
      ]
     },
     "execution_count": 16,
     "metadata": {},
     "output_type": "execute_result"
    },
    {
     "data": {
      "image/png": "[encoded data removed]",
      "text/plain": [
       "<Figure size 432x288 with 1 Axes>"
      ]
     },
     "metadata": {
      "needs_background": "light"
     },
     "output_type": "display_data"
    }
   ],
   "source": [
    "fpr, tpr, thr = mtr.roc_curve(y_test,y_score)\n",
    "print(mtr.roc_auc_score(y_test,y_score))\n",
    "plt.plot([0, 1], [0, 1], 'k--')\n",
    "plt.plot(fpr,tpr)"
   ]
  },
  {
   "cell_type": "markdown",
   "metadata": {},
   "source": [
    "### Matriz de confusión (predecir día distinto): "
   ]
  },
  {
   "cell_type": "code",
   "execution_count": 85,
   "metadata": {},
   "outputs": [
    {
     "data": {
      "text/plain": [
       "array([False, False, False, ..., False, False, False])"
      ]
     },
     "execution_count": 85,
     "metadata": {},
     "output_type": "execute_result"
    }
   ],
   "source": [
    "#intentando predecir un día distinto \n",
    "y_pred = rfc.predict(diacrisis2.drop(['DateTime','target'], axis=1))\n",
    "y_pred"
   ]
  },
  {
   "cell_type": "code",
   "execution_count": 86,
   "metadata": {},
   "outputs": [
    {
     "data": {
      "text/plain": [
       "array([[117602,      0],\n",
       "       [  2249,      0]])"
      ]
     },
     "execution_count": 86,
     "metadata": {},
     "output_type": "execute_result"
    }
   ],
   "source": [
    "confusion_matrix(diacrisis2['target'].values ,y_pred)"
   ]
  },
  {
   "cell_type": "markdown",
   "metadata": {},
   "source": [
    "### Área bajo la curva (predecir día distinto): "
   ]
  },
  {
   "cell_type": "code",
   "execution_count": 87,
   "metadata": {},
   "outputs": [
    {
     "data": {
      "text/plain": [
       "array([[9.99743711e-01, 2.56289113e-04],\n",
       "       [9.99743711e-01, 2.56289113e-04],\n",
       "       [9.99743711e-01, 2.56289113e-04],\n",
       "       ...,\n",
       "       [9.99743711e-01, 2.56289113e-04],\n",
       "       [9.99743711e-01, 2.56289113e-04],\n",
       "       [9.99743711e-01, 2.56289113e-04]])"
      ]
     },
     "execution_count": 87,
     "metadata": {},
     "output_type": "execute_result"
    }
   ],
   "source": [
    "## predicción probabilistica \n",
    "y_pred = rfc.predict_proba(diacrisis2.drop(['DateTime','target'], axis=1))\n",
    "y_pred"
   ]
  },
  {
   "cell_type": "code",
   "execution_count": 88,
   "metadata": {},
   "outputs": [],
   "source": [
    "y_score = [i[1] for i in y_pred]"
   ]
  },
  {
   "cell_type": "code",
   "execution_count": 89,
   "metadata": {},
   "outputs": [
    {
     "name": "stdout",
     "output_type": "stream",
     "text": [
      "0.638631547639082\n"
     ]
    },
    {
     "data": {
      "text/plain": [
       "[<matplotlib.lines.Line2D at 0x7f5e57ec2c18>]"
      ]
     },
     "execution_count": 89,
     "metadata": {},
     "output_type": "execute_result"
    },
    {
     "data": {
      "image/png": "[encoded data removed]",
      "text/plain": [
       "<Figure size 432x288 with 1 Axes>"
      ]
     },
     "metadata": {
      "needs_background": "light"
     },
     "output_type": "display_data"
    }
   ],
   "source": [
    "fpr, tpr, thr = mtr.roc_curve(diacrisis2['target'].values,y_score)\n",
    "print(mtr.roc_auc_score(diacrisis2['target'].values,y_score))\n",
    "plt.plot([0, 1], [0, 1], 'k--')\n",
    "plt.plot(fpr,tpr)"
   ]
  },
  {
   "cell_type": "markdown",
   "metadata": {},
   "source": [
    "## - Datos estadisticos (media, desviación y rango, ventana=25): "
   ]
  },
  {
   "cell_type": "code",
   "execution_count": 90,
   "metadata": {},
   "outputs": [],
   "source": [
    "# generar particiones de entrenamiento y testeo \n",
    "X_train, X_test, y_train, y_test = train_test_split(diacrisis1_estadisticos.drop(['DateTime','target'], axis=1 ), diacrisis1_estadisticos['target'], test_size=0.3, random_state=0)"
   ]
  },
  {
   "cell_type": "code",
   "execution_count": 91,
   "metadata": {},
   "outputs": [
    {
     "data": {
      "text/plain": [
       "RandomForestClassifier(bootstrap=True, class_weight=None, criterion='gini',\n",
       "            max_depth=2, max_features='auto', max_leaf_nodes=None,\n",
       "            min_impurity_decrease=0.0, min_impurity_split=None,\n",
       "            min_samples_leaf=1, min_samples_split=2,\n",
       "            min_weight_fraction_leaf=0.0, n_estimators=100, n_jobs=None,\n",
       "            oob_score=False, random_state=0, verbose=0, warm_start=False)"
      ]
     },
     "execution_count": 91,
     "metadata": {},
     "output_type": "execute_result"
    }
   ],
   "source": [
    "rfc = RandomForestClassifier(n_estimators=100, max_depth=2, random_state=0)\n",
    "rfc.fit(X_train, y_train)"
   ]
  },
  {
   "cell_type": "markdown",
   "metadata": {},
   "source": [
    "### Matriz de confusión (predecir mismo día):"
   ]
  },
  {
   "cell_type": "code",
   "execution_count": 92,
   "metadata": {},
   "outputs": [
    {
     "data": {
      "text/plain": [
       "array([False, False, False, ..., False, False, False])"
      ]
     },
     "execution_count": 92,
     "metadata": {},
     "output_type": "execute_result"
    }
   ],
   "source": [
    "y_pred = rfc.predict(X_test)\n",
    "y_pred"
   ]
  },
  {
   "cell_type": "code",
   "execution_count": 93,
   "metadata": {},
   "outputs": [
    {
     "data": {
      "text/plain": [
       "array([[36384,     0],\n",
       "       [   50,   153]])"
      ]
     },
     "execution_count": 93,
     "metadata": {},
     "output_type": "execute_result"
    }
   ],
   "source": [
    "confusion_matrix(y_test ,y_pred)"
   ]
  },
  {
   "cell_type": "markdown",
   "metadata": {},
   "source": [
    "### Matriz de confusión (predecir día distinto): "
   ]
  },
  {
   "cell_type": "code",
   "execution_count": 94,
   "metadata": {},
   "outputs": [
    {
     "data": {
      "text/plain": [
       "array([False, False, False, ..., False, False, False])"
      ]
     },
     "execution_count": 94,
     "metadata": {},
     "output_type": "execute_result"
    }
   ],
   "source": [
    "#intentando predecir un día distinto \n",
    "y_pred = rfc.predict(diacrisis2_estadisticos.drop(['DateTime','target'], axis=1))\n",
    "y_pred"
   ]
  },
  {
   "cell_type": "code",
   "execution_count": 95,
   "metadata": {},
   "outputs": [
    {
     "data": {
      "text/plain": [
       "array([[117578,      0],\n",
       "       [  2249,      0]])"
      ]
     },
     "execution_count": 95,
     "metadata": {},
     "output_type": "execute_result"
    }
   ],
   "source": [
    "confusion_matrix(diacrisis2_estadisticos['target'].values ,y_pred)"
   ]
  },
  {
   "cell_type": "markdown",
   "metadata": {},
   "source": [
    "### Área bajo la curva (predecir mismo día): "
   ]
  },
  {
   "cell_type": "code",
   "execution_count": 96,
   "metadata": {},
   "outputs": [
    {
     "data": {
      "text/plain": [
       "array([[9.99606878e-01, 3.93121577e-04],\n",
       "       [9.98672110e-01, 1.32789002e-03],\n",
       "       [9.99624124e-01, 3.75876334e-04],\n",
       "       ...,\n",
       "       [9.98664905e-01, 1.33509518e-03],\n",
       "       [9.99606878e-01, 3.93121577e-04],\n",
       "       [9.99640252e-01, 3.59748374e-04]])"
      ]
     },
     "execution_count": 96,
     "metadata": {},
     "output_type": "execute_result"
    }
   ],
   "source": [
    "## predicción probabilistica \n",
    "y_pred = rfc.predict_proba(X_test)\n",
    "y_pred"
   ]
  },
  {
   "cell_type": "code",
   "execution_count": 97,
   "metadata": {},
   "outputs": [],
   "source": [
    "y_score = [i[1] for i in y_pred]"
   ]
  },
  {
   "cell_type": "code",
   "execution_count": 98,
   "metadata": {},
   "outputs": [
    {
     "name": "stdout",
     "output_type": "stream",
     "text": [
      "0.9983432738257708\n"
     ]
    },
    {
     "data": {
      "text/plain": [
       "[<matplotlib.lines.Line2D at 0x7f5e71bbc6d8>]"
      ]
     },
     "execution_count": 98,
     "metadata": {},
     "output_type": "execute_result"
    },
    {
     "data": {
      "image/png": "[encoded data removed]",
      "text/plain": [
       "<Figure size 432x288 with 1 Axes>"
      ]
     },
     "metadata": {
      "needs_background": "light"
     },
     "output_type": "display_data"
    }
   ],
   "source": [
    "fpr, tpr, thr = mtr.roc_curve(y_test,y_score)\n",
    "print(mtr.roc_auc_score(y_test,y_score))\n",
    "plt.plot([0, 1], [0, 1], 'k--')\n",
    "plt.plot(fpr,tpr)"
   ]
  },
  {
   "cell_type": "markdown",
   "metadata": {},
   "source": [
    "### Área bajo la curva (predecir día distinto): "
   ]
  },
  {
   "cell_type": "code",
   "execution_count": 99,
   "metadata": {},
   "outputs": [
    {
     "data": {
      "text/plain": [
       "array([[9.91628721e-01, 8.37127897e-03],\n",
       "       [9.91628721e-01, 8.37127897e-03],\n",
       "       [9.91628721e-01, 8.37127897e-03],\n",
       "       ...,\n",
       "       [9.99656217e-01, 3.43783076e-04],\n",
       "       [9.99656217e-01, 3.43783076e-04],\n",
       "       [9.99656217e-01, 3.43783076e-04]])"
      ]
     },
     "execution_count": 99,
     "metadata": {},
     "output_type": "execute_result"
    }
   ],
   "source": [
    "#intentando predecir un día distinto \n",
    "y_pred = rfc.predict_proba(diacrisis2_estadisticos.drop(['DateTime','target'], axis=1))\n",
    "y_pred"
   ]
  },
  {
   "cell_type": "code",
   "execution_count": 100,
   "metadata": {},
   "outputs": [],
   "source": [
    "y_score = [i[1] for i in y_pred]"
   ]
  },
  {
   "cell_type": "code",
   "execution_count": 101,
   "metadata": {},
   "outputs": [
    {
     "name": "stdout",
     "output_type": "stream",
     "text": [
      "0.5519995804455846\n"
     ]
    },
    {
     "data": {
      "text/plain": [
       "[<matplotlib.lines.Line2D at 0x7f5e71a05198>]"
      ]
     },
     "execution_count": 101,
     "metadata": {},
     "output_type": "execute_result"
    },
    {
     "data": {
      "image/png": "[encoded data removed]",
      "text/plain": [
       "<Figure size 432x288 with 1 Axes>"
      ]
     },
     "metadata": {
      "needs_background": "light"
     },
     "output_type": "display_data"
    }
   ],
   "source": [
    "fpr, tpr, thr = mtr.roc_curve(diacrisis2_estadisticos['target'],y_score)\n",
    "print(mtr.roc_auc_score(diacrisis2_estadisticos['target'],y_score))\n",
    "plt.plot([0, 1], [0, 1], 'k--')\n",
    "plt.plot(fpr,tpr)"
   ]
  },
  {
   "cell_type": "code",
   "execution_count": null,
   "metadata": {},
   "outputs": [],
   "source": []
  }
 ],
 "metadata": {
  "kernelspec": {
   "display_name": "Python 3",
   "language": "python",
   "name": "python3"
  },
  "language_info": {
   "codemirror_mode": {
    "name": "ipython",
    "version": 3
   },
   "file_extension": ".py",
   "mimetype": "text/x-python",
   "name": "python",
   "nbconvert_exporter": "python",
   "pygments_lexer": "ipython3",
   "version": "3.6.8"
  }
 },
 "nbformat": 4,
 "nbformat_minor": 2
}
