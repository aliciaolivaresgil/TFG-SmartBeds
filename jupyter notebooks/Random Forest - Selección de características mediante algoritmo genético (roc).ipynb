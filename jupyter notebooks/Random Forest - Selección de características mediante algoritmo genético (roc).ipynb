{
 "cells": [
  {
   "cell_type": "markdown",
   "metadata": {},
   "source": [
    "# Random Forest - Selección de características mediante algoritmo genético\n",
    "## Grado en Ingeniería Informática. Universidad de Burgos\n",
    "**Autor:** Alicia Olivares Gil"
   ]
  },
  {
   "cell_type": "code",
   "execution_count": 1,
   "metadata": {},
   "outputs": [],
   "source": [
    "%matplotlib inline \n",
    "#para dibujar en el propio notebook\n",
    "import pandas as pd # se importa pandas como pd\n",
    "import numpy as np  #numpy como np\n",
    "import matplotlib.pyplot as plt #matplotlib.pyplot como plot\n",
    "import pickle as pk\n",
    "from sklearn.ensemble import RandomForestClassifier\n",
    "from sklearn.model_selection import train_test_split\n",
    "from sklearn.metrics import confusion_matrix\n",
    "from sklearn import metrics as mtr\n",
    "from deap import base, creator, tools, algorithms\n",
    "import random\n",
    "import time "
   ]
  },
  {
   "cell_type": "markdown",
   "metadata": {},
   "source": [
    "## Cargar características: "
   ]
  },
  {
   "cell_type": "code",
   "execution_count": 2,
   "metadata": {},
   "outputs": [
    {
     "name": "stdout",
     "output_type": "stream",
     "text": [
      "Filas característcias crisis 1:  121889\n",
      "Filas característcias crisis 2:  123435\n",
      "Número de características: 123\n"
     ]
    }
   ],
   "source": [
    "with open('selection_diacrisis1.pdd','rb') as f: \n",
    "    features_diacrisis1 = pk.load(f) \n",
    "with open('selection_diacrisis2.pdd','rb') as f: \n",
    "    features_diacrisis2 = pk.load(f)\n",
    "    \n",
    "features_diacrisis1 = features_diacrisis1.drop(['P1__sample_entropy','P2__sample_entropy','P3__sample_entropy','P4__sample_entropy','P5__sample_entropy','P6__sample_entropy'], axis=1)\n",
    "features_diacrisis2 = features_diacrisis2.drop(['P1__sample_entropy','P2__sample_entropy','P3__sample_entropy','P4__sample_entropy','P5__sample_entropy','P6__sample_entropy'], axis=1)\n",
    "\n",
    "print('Filas característcias crisis 1: ',features_diacrisis1.shape[0])\n",
    "print('Filas característcias crisis 2: ',features_diacrisis2.shape[0])\n",
    "print('Número de características:',int((features_diacrisis1.shape[1]-1)/6))\n",
    "# se divide entre 6 porque se incluye la misma característica por cada uno de los 6 tubos de presión "
   ]
  },
  {
   "cell_type": "code",
   "execution_count": 3,
   "metadata": {},
   "outputs": [
    {
     "name": "stdout",
     "output_type": "stream",
     "text": [
      "Número de características: 123\n"
     ]
    }
   ],
   "source": [
    "features_names = []\n",
    "for c in features_diacrisis1.columns: \n",
    "    if c[2:] not in features_names and c!='target': \n",
    "        features_names.append(c[2:])\n",
    "print('Número de características:',len(features_names))"
   ]
  },
  {
   "cell_type": "markdown",
   "metadata": {},
   "source": [
    "## Configurar algoritmo genético: \n",
    "#### Configuración de los individuos: "
   ]
  },
  {
   "cell_type": "code",
   "execution_count": 4,
   "metadata": {},
   "outputs": [],
   "source": [
    "def configuraPoblacion(toolbox):\n",
    "\n",
    "    #maximizar \n",
    "    creator.create(\"FitnessMax\", base.Fitness, weights=(1.0,))\n",
    "    creator.create(\"Individual\", list, fitness=creator.FitnessMax)\n",
    "\n",
    "    n_features = len(features_names)\n",
    "    \n",
    "    #Los genes son de tipo entero. Cada entero representa una característica.\n",
    "    toolbox.register(\"attribute\", random.sample, range(n_features-1), 10) \n",
    "    #El individuo se crea como una lista (o repeticion) de \"attribute\", definido justo antes. \n",
    "    #Tendrá una longitud de 10 atributos\n",
    "    toolbox.register(\"individual\", tools.initIterate, creator.Individual, toolbox.attribute)\n",
    "    \n",
    "    #La población se crea como una lista de \"individual\", definido justo antes\n",
    "    toolbox.register(\"population\", tools.initRepeat, list, toolbox.individual)"
   ]
  },
  {
   "cell_type": "markdown",
   "metadata": {},
   "source": [
    "#### Función de evaluación: \n",
    "\n",
    "Devuelve el roc obtenido mediante la combinación de características extraídas del genotipo del individuo. "
   ]
  },
  {
   "cell_type": "code",
   "execution_count": 5,
   "metadata": {},
   "outputs": [],
   "source": [
    "def evalROC(individual):\n",
    "    global metric\n",
    "\n",
    "    auc =0\n",
    "    \n",
    "    individual = list(set(individual))\n",
    "\n",
    "    rfc = RandomForestClassifier(n_estimators=100, max_depth=2, random_state=0)\n",
    "    y1 = features_diacrisis1['target']\n",
    "    y2 = features_diacrisis2['target']\n",
    "    \n",
    "    X1 = pd.DataFrame()\n",
    "    X2 = pd.DataFrame()\n",
    "\n",
    "    for i in range(len(individual)):\n",
    "        for j in range(1,7):\n",
    "            nombre = 'P'+str(j)+features_names[individual[i]]\n",
    "            X1[nombre] = features_diacrisis1[nombre]\n",
    "            X2[nombre] = features_diacrisis2[nombre]\n",
    "    \n",
    "    rfc.fit(X1, y1)\n",
    "    y_pred = rfc.predict_proba(X2)\n",
    "    y_score = [i[0] for i in y_pred]\n",
    "    auc1 = metric(y2,y_score)\n",
    "\n",
    "    rfc.fit(X2, y2)\n",
    "    y_pred = rfc.predict_proba(X1)\n",
    "    y_score = [i[0] for i in y_pred]\n",
    "    auc2 = metric(y1,y_score)\n",
    "\n",
    "    auc= (auc1+auc2)/2\n",
    "    end = time.time()\n",
    "\n",
    "    return (auc,)"
   ]
  },
  {
   "cell_type": "markdown",
   "metadata": {},
   "source": [
    "#### Configuración del algoritmo: \n",
    "\n",
    "Define: \n",
    "    - Procedimientos y parámetros de cruce, mutación y selección. \n",
    "    - La función de evaluación a emplear "
   ]
  },
  {
   "cell_type": "code",
   "execution_count": 6,
   "metadata": {},
   "outputs": [],
   "source": [
    "def configuracionAlgoritmo(toolbox): \n",
    "    n_features = len(features_names)\n",
    "    \n",
    "    # Se seleccionan procedimiento standard para cruce, mutacion y seleccion\n",
    "    toolbox.register(\"mate\", tools.cxUniform, indpb=0.5)\n",
    "    toolbox.register(\"mutate\", tools.mutUniformInt,low=0, up=(n_features-1), indpb=0.2)\n",
    "    toolbox.register(\"select\", tools.selTournament, tournsize=3)\n",
    "    \n",
    "    # Se define cómo se evaluará cada individuo\n",
    "    # En este caso, se hará uso de la función de evaluación que se ha definido en la celda anterior \n",
    "    toolbox.register(\"evaluate\", evalROC)"
   ]
  },
  {
   "cell_type": "markdown",
   "metadata": {},
   "source": [
    "#### Definir parámetros principales del algoritmo y función de evoluación : "
   ]
  },
  {
   "cell_type": "code",
   "execution_count": 7,
   "metadata": {},
   "outputs": [],
   "source": [
    "probCruce = 0.6\n",
    "probMutacion = 0.1\n",
    "nGeneraciones = 50\n",
    "tamPoblacion = 50"
   ]
  },
  {
   "cell_type": "code",
   "execution_count": 8,
   "metadata": {},
   "outputs": [],
   "source": [
    "def realizaEvolucion(toolbox, stats):\n",
    "    \n",
    "    global probCruce\n",
    "    global probMutacion\n",
    "    global nGeneraciones\n",
    "    global tamPoblacion\n",
    "\n",
    "    # Se configura cómo se define cada individuo.\n",
    "    configuraPoblacion(toolbox)\n",
    "\n",
    "    configuracionAlgoritmo(toolbox)\n",
    "\n",
    "    # Se inicializa la poblacion con los individuos especificados en Main.py\n",
    "    population = toolbox.population(n=tamPoblacion)\n",
    "    hof=tools.HallOfFame(1)\n",
    "    # Se llama al algoritmo que permite la evolucion de las soluciones con los parametros especificados en Main.py\n",
    "    population, logbook = algorithms.eaSimple(population, toolbox, cxpb=probCruce, mutpb=probMutacion, ngen=nGeneraciones, verbose=False, stats=stats,halloffame=hof)     \n",
    "    \n",
    "    return logbook,hof[0]"
   ]
  },
  {
   "cell_type": "markdown",
   "metadata": {},
   "source": [
    "#### Función auxiliar para mostrar la evolución del algoritmo: "
   ]
  },
  {
   "cell_type": "code",
   "execution_count": 6,
   "metadata": {},
   "outputs": [],
   "source": [
    "def mostrarGrafica(logbook): \n",
    "    #imprimir grafica \n",
    "    ejex = logbook.select(\"gen\")\n",
    "    maximo = logbook.select(\"max\")\n",
    "    minimo = logbook.select(\"min\")\n",
    "    media = logbook.select(\"avg\")\n",
    "    desviacion = logbook.select(\"std\")\n",
    "    \n",
    "    plt.figure(figsize=(8,6),dpi=80)\n",
    "    plt.subplot(221)\n",
    "    plt.plot(ejex,maximo, color=\"green\")\n",
    "    plt.title(\"max/gen\")\n",
    "    plt.xlabel(\"generacion\")\n",
    "    plt.ylabel(\"maxima área bajo la curva\")\n",
    "    plt.subplot(222)\n",
    "    plt.plot(ejex,minimo, color=\"red\")\n",
    "    plt.title(\"min/gen\")\n",
    "    plt.xlabel(\"generacion\")\n",
    "    plt.ylabel(\"mínima área bajo la curva\")\n",
    "    plt.subplot(223)\n",
    "    plt.plot(ejex, media, color=\"blue\")\n",
    "    plt.title(\"med/gen\")\n",
    "    plt.xlabel(\"generacion\")\n",
    "    plt.ylabel(\"área bajo la curva media \")\n",
    "    plt.subplot(224)\n",
    "    plt.plot(ejex, desviacion, color=\"orange\")\n",
    "    plt.title(\"desviacion/gen\")\n",
    "    plt.xlabel(\"generacion\")\n",
    "    plt.ylabel(\"desviación\")\n",
    "    plt.tight_layout()"
   ]
  },
  {
   "cell_type": "markdown",
   "metadata": {},
   "source": [
    "#### Realizar evolución: "
   ]
  },
  {
   "cell_type": "markdown",
   "metadata": {},
   "source": [
    "1. Para la métrica roc_auc_score: "
   ]
  },
  {
   "cell_type": "code",
   "execution_count": null,
   "metadata": {},
   "outputs": [],
   "source": [
    "metric = mtr.roc_auc_score"
   ]
  },
  {
   "cell_type": "code",
   "execution_count": 10,
   "metadata": {},
   "outputs": [],
   "source": [
    "#generar estadisticas\n",
    "toolbox = base.Toolbox()\n",
    "stats = tools.Statistics(lambda ind: ind.fitness.values)\n",
    "\n",
    "stats.register(\"avg\", np.mean)\n",
    "stats.register(\"std\", np.std)\n",
    "stats.register(\"min\", np.min)\n",
    "stats.register(\"max\", np.max)\n",
    "\n",
    "#realizar evolución \n",
    "logbook,best=realizaEvolucion(toolbox,stats)\n",
    "\n",
    "with open('logbook.pkl','wb') as f:\n",
    "    pk.dump(logbook,f)\n",
    "with open('best.pkl', 'wb') as f: \n",
    "    pk.dump(best,f)"
   ]
  },
  {
   "cell_type": "code",
   "execution_count": 7,
   "metadata": {},
   "outputs": [],
   "source": [
    "logbook = pk.load(open('logbook.pkl','rb'))\n",
    "best = pk.load(open('best.pkl','rb'))"
   ]
  },
  {
   "cell_type": "code",
   "execution_count": 8,
   "metadata": {},
   "outputs": [
    {
     "name": "stdout",
     "output_type": "stream",
     "text": [
      "gen\tnevals\tavg     \tstd      \tmin     \tmax     \n",
      "0  \t50    \t0.581518\t0.0611002\t0.444185\t0.742163\n",
      "1  \t37    \t0.61317 \t0.069521 \t0.363706\t0.742163\n",
      "2  \t26    \t0.64254 \t0.0447767\t0.536197\t0.742163\n",
      "3  \t33    \t0.661518\t0.0446437\t0.558341\t0.742163\n",
      "4  \t36    \t0.674837\t0.050821 \t0.503468\t0.744525\n",
      "5  \t35    \t0.703501\t0.036865 \t0.590668\t0.789829\n",
      "6  \t35    \t0.719725\t0.0385287\t0.618711\t0.789829\n",
      "7  \t29    \t0.733457\t0.0348025\t0.634701\t0.789829\n",
      "8  \t35    \t0.743911\t0.0350213\t0.625482\t0.796514\n",
      "9  \t33    \t0.764747\t0.026189 \t0.661471\t0.796514\n",
      "10 \t35    \t0.764556\t0.0414166\t0.627806\t0.796514\n",
      "11 \t26    \t0.766237\t0.0490005\t0.580264\t0.796514\n",
      "12 \t34    \t0.77512 \t0.0504057\t0.552837\t0.808718\n",
      "13 \t37    \t0.769626\t0.0501887\t0.577603\t0.802427\n",
      "14 \t29    \t0.783711\t0.0342835\t0.626789\t0.802427\n",
      "15 \t18    \t0.786905\t0.0242842\t0.709511\t0.802427\n",
      "16 \t33    \t0.793223\t0.0243188\t0.652662\t0.802427\n",
      "17 \t32    \t0.791027\t0.0409534\t0.535001\t0.802427\n",
      "18 \t37    \t0.788235\t0.0378407\t0.658503\t0.802427\n",
      "19 \t33    \t0.796555\t0.0337926\t0.564374\t0.802427\n",
      "20 \t39    \t0.78822 \t0.0420869\t0.626337\t0.802427\n",
      "21 \t37    \t0.785819\t0.0500862\t0.621353\t0.802427\n",
      "22 \t39    \t0.794167\t0.039742 \t0.579686\t0.802427\n",
      "23 \t33    \t0.78943 \t0.0400357\t0.6279  \t0.802427\n",
      "24 \t31    \t0.797308\t0.0216566\t0.682638\t0.810165\n",
      "25 \t33    \t0.788652\t0.0479317\t0.556475\t0.810165\n",
      "26 \t40    \t0.796885\t0.0239895\t0.681033\t0.823725\n",
      "27 \t26    \t0.800821\t0.0215985\t0.671762\t0.823725\n",
      "28 \t33    \t0.799415\t0.034549 \t0.599427\t0.823725\n",
      "29 \t30    \t0.806576\t0.0269166\t0.659128\t0.823725\n",
      "30 \t32    \t0.802299\t0.0410067\t0.59284 \t0.823725\n",
      "31 \t43    \t0.792781\t0.0408743\t0.624105\t0.823725\n",
      "32 \t25    \t0.81344 \t0.0317931\t0.636796\t0.823725\n",
      "33 \t31    \t0.814342\t0.041587 \t0.59973 \t0.8587  \n",
      "34 \t38    \t0.812645\t0.0402404\t0.652648\t0.8587  \n",
      "35 \t27    \t0.818535\t0.0467783\t0.632555\t0.8587  \n",
      "36 \t36    \t0.818492\t0.0682221\t0.579514\t0.8587  \n",
      "37 \t31    \t0.850126\t0.029705 \t0.689833\t0.8587  \n",
      "38 \t43    \t0.84557 \t0.0456386\t0.593469\t0.8587  \n",
      "39 \t38    \t0.842147\t0.0567718\t0.608813\t0.8587  \n",
      "40 \t32    \t0.850154\t0.0418954\t0.637486\t0.8587  \n",
      "41 \t24    \t0.844756\t0.0491064\t0.614702\t0.8587  \n",
      "42 \t31    \t0.835781\t0.0701731\t0.556385\t0.8587  \n",
      "43 \t34    \t0.855347\t0.0175371\t0.744165\t0.8587  \n",
      "44 \t36    \t0.844688\t0.0450343\t0.661953\t0.8587  \n",
      "45 \t33    \t0.83132 \t0.0714507\t0.531109\t0.8587  \n",
      "46 \t32    \t0.83001 \t0.0747856\t0.56548 \t0.8587  \n",
      "47 \t30    \t0.832041\t0.0745294\t0.578032\t0.8587  \n",
      "48 \t26    \t0.829266\t0.0828542\t0.545676\t0.8587  \n",
      "49 \t23    \t0.846055\t0.0446185\t0.627484\t0.8587  \n",
      "50 \t32    \t0.833328\t0.0702948\t0.582944\t0.8587  \n",
      "El mejor individuo encontrado es: \n",
      "[28, 54, 23, 68, 83, 97, 61, 120, 44, 64]\n"
     ]
    },
    {
     "data": {
      "image/png": "[encoded data removed]",
      "text/plain": [
       "<Figure size 640x480 with 4 Axes>"
      ]
     },
     "metadata": {
      "needs_background": "light"
     },
     "output_type": "display_data"
    }
   ],
   "source": [
    "#imprimir estadisticas\n",
    "print(logbook)\n",
    "\n",
    "#imprimir Grafica\n",
    "mostrarGrafica(logbook)\n",
    "\n",
    "print(\"El mejor individuo encontrado es: \")\n",
    "print(best)"
   ]
  },
  {
   "cell_type": "markdown",
   "metadata": {},
   "source": [
    "### Generar dataframes con las características del mejor individuo: "
   ]
  },
  {
   "cell_type": "code",
   "execution_count": 11,
   "metadata": {},
   "outputs": [],
   "source": [
    "diacrisis1 = pk.load(open('diacrisis1.pdd','rb'))\n",
    "diacrisis2 = pk.load(open('diacrisis2.pdd','rb'))\n",
    "diacrisis1 = diacrisis1[90:].reset_index(drop=True)\n",
    "diacrisis2 = diacrisis2[90:].reset_index(drop=True)\n",
    "\n",
    "seleccion_genetico_diacrisis1 = pd.DataFrame()\n",
    "seleccion_genetico_diacrisis2 = pd.DataFrame()\n",
    "for i in range(len(best)):\n",
    "    for j in range(1,7):\n",
    "        nombre = 'P'+str(j)+features_names[best[i]]\n",
    "        seleccion_genetico_diacrisis1[nombre] = features_diacrisis1[nombre]\n",
    "        seleccion_genetico_diacrisis2[nombre] = features_diacrisis2[nombre]\n",
    "\n",
    "seleccion_genetico_diacrisis2 = seleccion_genetico_diacrisis2.reset_index(drop=True)\n",
    "features_diacrisis2 = features_diacrisis2.reset_index(drop=True)\n",
    "        \n",
    "seleccion_genetico_diacrisis1 = pd.concat([diacrisis1['DateTime'], seleccion_genetico_diacrisis1, features_diacrisis1['target']],axis=1)\n",
    "seleccion_genetico_diacrisis2 = pd.concat([diacrisis2['DateTime'], seleccion_genetico_diacrisis2, features_diacrisis2['target']],axis=1)\n",
    "\n",
    "with open('seleccion_genetico_diacrisis1.pdd','wb') as f:\n",
    "    pk.dump(seleccion_genetico_diacrisis1,f)\n",
    "with open('seleccion_genetico_diacrisis2.pdd', 'wb') as f: \n",
    "    pk.dump(seleccion_genetico_diacrisis2,f)"
   ]
  },
  {
   "cell_type": "code",
   "execution_count": null,
   "metadata": {},
   "outputs": [],
   "source": []
  },
  {
   "cell_type": "code",
   "execution_count": null,
   "metadata": {},
   "outputs": [],
   "source": []
  },
  {
   "cell_type": "code",
   "execution_count": null,
   "metadata": {},
   "outputs": [],
   "source": []
  }
 ],
 "metadata": {
  "kernelspec": {
   "display_name": "Python 3",
   "language": "python",
   "name": "python3"
  },
  "language_info": {
   "codemirror_mode": {
    "name": "ipython",
    "version": 3
   },
   "file_extension": ".py",
   "mimetype": "text/x-python",
   "name": "python",
   "nbconvert_exporter": "python",
   "pygments_lexer": "ipython3",
   "version": "3.6.8"
  }
 },
 "nbformat": 4,
 "nbformat_minor": 2
}
