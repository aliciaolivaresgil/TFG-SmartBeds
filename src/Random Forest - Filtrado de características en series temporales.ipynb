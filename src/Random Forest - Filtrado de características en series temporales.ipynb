{
 "cells": [
  {
   "cell_type": "markdown",
   "metadata": {},
   "source": [
    "# Random Forest - Filtrado de características en series temporales\n",
    "## Grado en Ingeniería Informática. Universidad de Burgos\n",
    "**Autor:** Alicia Olivares Gil"
   ]
  },
  {
   "cell_type": "code",
   "execution_count": 1,
   "metadata": {},
   "outputs": [],
   "source": [
    "%matplotlib inline \n",
    "#para dibujar en el propio notebook\n",
    "import pandas as pd # se importa pandas como pd\n",
    "import numpy as np  #numpy como np\n",
    "import matplotlib.pyplot as plt #matplotlib.pyplot como plot\n",
    "import pickle as pk\n",
    "import loadData as ld\n",
    "from sklearn.ensemble import RandomForestClassifier\n",
    "from sklearn.model_selection import train_test_split\n",
    "from sklearn.metrics import confusion_matrix\n",
    "from sklearn import metrics as mtr\n",
    "import seaborn as sns\n",
    "import tsfresh as tf"
   ]
  },
  {
   "cell_type": "markdown",
   "metadata": {},
   "source": [
    "## Cargar características: "
   ]
  },
  {
   "cell_type": "code",
   "execution_count": 2,
   "metadata": {},
   "outputs": [
    {
     "name": "stdout",
     "output_type": "stream",
     "text": [
      "Filas característcias crisis 1:  121889\n",
      "Filas característcias crisis 2:  123435\n",
      "Filas característcias total:  245324\n",
      "Número de características: 4764\n"
     ]
    },
    {
     "data": {
      "text/html": [
       "<div>\n",
       "<style scoped>\n",
       "    .dataframe tbody tr th:only-of-type {\n",
       "        vertical-align: middle;\n",
       "    }\n",
       "\n",
       "    .dataframe tbody tr th {\n",
       "        vertical-align: top;\n",
       "    }\n",
       "\n",
       "    .dataframe thead th {\n",
       "        text-align: right;\n",
       "    }\n",
       "</style>\n",
       "<table border=\"1\" class=\"dataframe\">\n",
       "  <thead>\n",
       "    <tr style=\"text-align: right;\">\n",
       "      <th></th>\n",
       "      <th>P1__abs_energy</th>\n",
       "      <th>P1__absolute_sum_of_changes</th>\n",
       "      <th>P1__agg_autocorrelation__f_agg_\"mean\"__maxlag_40</th>\n",
       "      <th>P1__agg_autocorrelation__f_agg_\"median\"__maxlag_40</th>\n",
       "      <th>P1__agg_autocorrelation__f_agg_\"var\"__maxlag_40</th>\n",
       "      <th>P1__agg_linear_trend__f_agg_\"max\"__chunk_len_10__attr_\"intercept\"</th>\n",
       "      <th>P1__agg_linear_trend__f_agg_\"max\"__chunk_len_10__attr_\"rvalue\"</th>\n",
       "      <th>P1__agg_linear_trend__f_agg_\"max\"__chunk_len_10__attr_\"slope\"</th>\n",
       "      <th>P1__agg_linear_trend__f_agg_\"max\"__chunk_len_10__attr_\"stderr\"</th>\n",
       "      <th>P1__agg_linear_trend__f_agg_\"max\"__chunk_len_50__attr_\"intercept\"</th>\n",
       "      <th>...</th>\n",
       "      <th>P6__symmetry_looking__r_0.9</th>\n",
       "      <th>P6__symmetry_looking__r_0.9500000000000001</th>\n",
       "      <th>P6__time_reversal_asymmetry_statistic__lag_1</th>\n",
       "      <th>P6__time_reversal_asymmetry_statistic__lag_2</th>\n",
       "      <th>P6__time_reversal_asymmetry_statistic__lag_3</th>\n",
       "      <th>P6__value_count__value_-1</th>\n",
       "      <th>P6__value_count__value_0</th>\n",
       "      <th>P6__value_count__value_1</th>\n",
       "      <th>P6__variance</th>\n",
       "      <th>P6__variance_larger_than_standard_deviation</th>\n",
       "    </tr>\n",
       "  </thead>\n",
       "  <tbody>\n",
       "    <tr>\n",
       "      <th>0</th>\n",
       "      <td>1159.634507</td>\n",
       "      <td>108.196721</td>\n",
       "      <td>0.149281</td>\n",
       "      <td>0.107340</td>\n",
       "      <td>0.014730</td>\n",
       "      <td>4.353370</td>\n",
       "      <td>0.479257</td>\n",
       "      <td>0.095628</td>\n",
       "      <td>0.066192</td>\n",
       "      <td>4.918033</td>\n",
       "      <td>...</td>\n",
       "      <td>1.0</td>\n",
       "      <td>1.0</td>\n",
       "      <td>-1.602056e+00</td>\n",
       "      <td>-0.864482</td>\n",
       "      <td>0.216349</td>\n",
       "      <td>0.0</td>\n",
       "      <td>0.0</td>\n",
       "      <td>0.0</td>\n",
       "      <td>0.063122</td>\n",
       "      <td>0.0</td>\n",
       "    </tr>\n",
       "    <tr>\n",
       "      <th>1</th>\n",
       "      <td>1176.431067</td>\n",
       "      <td>109.016393</td>\n",
       "      <td>0.143872</td>\n",
       "      <td>0.116259</td>\n",
       "      <td>0.015316</td>\n",
       "      <td>4.353370</td>\n",
       "      <td>0.479257</td>\n",
       "      <td>0.095628</td>\n",
       "      <td>0.066192</td>\n",
       "      <td>4.918033</td>\n",
       "      <td>...</td>\n",
       "      <td>1.0</td>\n",
       "      <td>1.0</td>\n",
       "      <td>-2.259150e+00</td>\n",
       "      <td>-1.632910</td>\n",
       "      <td>-1.671789</td>\n",
       "      <td>0.0</td>\n",
       "      <td>0.0</td>\n",
       "      <td>0.0</td>\n",
       "      <td>0.071665</td>\n",
       "      <td>0.0</td>\n",
       "    </tr>\n",
       "    <tr>\n",
       "      <th>2</th>\n",
       "      <td>1193.227627</td>\n",
       "      <td>109.016393</td>\n",
       "      <td>0.136717</td>\n",
       "      <td>0.126383</td>\n",
       "      <td>0.014767</td>\n",
       "      <td>4.353370</td>\n",
       "      <td>0.479257</td>\n",
       "      <td>0.095628</td>\n",
       "      <td>0.066192</td>\n",
       "      <td>4.918033</td>\n",
       "      <td>...</td>\n",
       "      <td>1.0</td>\n",
       "      <td>1.0</td>\n",
       "      <td>-7.509639e-01</td>\n",
       "      <td>-1.524049</td>\n",
       "      <td>-0.780168</td>\n",
       "      <td>0.0</td>\n",
       "      <td>0.0</td>\n",
       "      <td>0.0</td>\n",
       "      <td>0.065113</td>\n",
       "      <td>0.0</td>\n",
       "    </tr>\n",
       "    <tr>\n",
       "      <th>3</th>\n",
       "      <td>1217.414673</td>\n",
       "      <td>109.836066</td>\n",
       "      <td>0.132745</td>\n",
       "      <td>0.144309</td>\n",
       "      <td>0.014770</td>\n",
       "      <td>4.316940</td>\n",
       "      <td>0.387298</td>\n",
       "      <td>0.081967</td>\n",
       "      <td>0.073749</td>\n",
       "      <td>4.918033</td>\n",
       "      <td>...</td>\n",
       "      <td>1.0</td>\n",
       "      <td>1.0</td>\n",
       "      <td>-3.875688e-15</td>\n",
       "      <td>-1.524049</td>\n",
       "      <td>-0.780168</td>\n",
       "      <td>0.0</td>\n",
       "      <td>0.0</td>\n",
       "      <td>0.0</td>\n",
       "      <td>0.065113</td>\n",
       "      <td>0.0</td>\n",
       "    </tr>\n",
       "    <tr>\n",
       "      <th>4</th>\n",
       "      <td>1241.601720</td>\n",
       "      <td>109.836066</td>\n",
       "      <td>0.126637</td>\n",
       "      <td>0.118890</td>\n",
       "      <td>0.017547</td>\n",
       "      <td>4.371585</td>\n",
       "      <td>0.322749</td>\n",
       "      <td>0.068306</td>\n",
       "      <td>0.075711</td>\n",
       "      <td>4.918033</td>\n",
       "      <td>...</td>\n",
       "      <td>1.0</td>\n",
       "      <td>1.0</td>\n",
       "      <td>-3.875688e-15</td>\n",
       "      <td>-0.755621</td>\n",
       "      <td>-1.560336</td>\n",
       "      <td>0.0</td>\n",
       "      <td>0.0</td>\n",
       "      <td>0.0</td>\n",
       "      <td>0.065113</td>\n",
       "      <td>0.0</td>\n",
       "    </tr>\n",
       "  </tbody>\n",
       "</table>\n",
       "<p>5 rows × 4764 columns</p>\n",
       "</div>"
      ],
      "text/plain": [
       "   P1__abs_energy  P1__absolute_sum_of_changes  \\\n",
       "0     1159.634507                   108.196721   \n",
       "1     1176.431067                   109.016393   \n",
       "2     1193.227627                   109.016393   \n",
       "3     1217.414673                   109.836066   \n",
       "4     1241.601720                   109.836066   \n",
       "\n",
       "   P1__agg_autocorrelation__f_agg_\"mean\"__maxlag_40  \\\n",
       "0                                          0.149281   \n",
       "1                                          0.143872   \n",
       "2                                          0.136717   \n",
       "3                                          0.132745   \n",
       "4                                          0.126637   \n",
       "\n",
       "   P1__agg_autocorrelation__f_agg_\"median\"__maxlag_40  \\\n",
       "0                                           0.107340    \n",
       "1                                           0.116259    \n",
       "2                                           0.126383    \n",
       "3                                           0.144309    \n",
       "4                                           0.118890    \n",
       "\n",
       "   P1__agg_autocorrelation__f_agg_\"var\"__maxlag_40  \\\n",
       "0                                         0.014730   \n",
       "1                                         0.015316   \n",
       "2                                         0.014767   \n",
       "3                                         0.014770   \n",
       "4                                         0.017547   \n",
       "\n",
       "   P1__agg_linear_trend__f_agg_\"max\"__chunk_len_10__attr_\"intercept\"  \\\n",
       "0                                           4.353370                   \n",
       "1                                           4.353370                   \n",
       "2                                           4.353370                   \n",
       "3                                           4.316940                   \n",
       "4                                           4.371585                   \n",
       "\n",
       "   P1__agg_linear_trend__f_agg_\"max\"__chunk_len_10__attr_\"rvalue\"  \\\n",
       "0                                           0.479257                \n",
       "1                                           0.479257                \n",
       "2                                           0.479257                \n",
       "3                                           0.387298                \n",
       "4                                           0.322749                \n",
       "\n",
       "   P1__agg_linear_trend__f_agg_\"max\"__chunk_len_10__attr_\"slope\"  \\\n",
       "0                                           0.095628               \n",
       "1                                           0.095628               \n",
       "2                                           0.095628               \n",
       "3                                           0.081967               \n",
       "4                                           0.068306               \n",
       "\n",
       "   P1__agg_linear_trend__f_agg_\"max\"__chunk_len_10__attr_\"stderr\"  \\\n",
       "0                                           0.066192                \n",
       "1                                           0.066192                \n",
       "2                                           0.066192                \n",
       "3                                           0.073749                \n",
       "4                                           0.075711                \n",
       "\n",
       "   P1__agg_linear_trend__f_agg_\"max\"__chunk_len_50__attr_\"intercept\"  \\\n",
       "0                                           4.918033                   \n",
       "1                                           4.918033                   \n",
       "2                                           4.918033                   \n",
       "3                                           4.918033                   \n",
       "4                                           4.918033                   \n",
       "\n",
       "                      ...                       P6__symmetry_looking__r_0.9  \\\n",
       "0                     ...                                               1.0   \n",
       "1                     ...                                               1.0   \n",
       "2                     ...                                               1.0   \n",
       "3                     ...                                               1.0   \n",
       "4                     ...                                               1.0   \n",
       "\n",
       "   P6__symmetry_looking__r_0.9500000000000001  \\\n",
       "0                                         1.0   \n",
       "1                                         1.0   \n",
       "2                                         1.0   \n",
       "3                                         1.0   \n",
       "4                                         1.0   \n",
       "\n",
       "   P6__time_reversal_asymmetry_statistic__lag_1  \\\n",
       "0                                 -1.602056e+00   \n",
       "1                                 -2.259150e+00   \n",
       "2                                 -7.509639e-01   \n",
       "3                                 -3.875688e-15   \n",
       "4                                 -3.875688e-15   \n",
       "\n",
       "   P6__time_reversal_asymmetry_statistic__lag_2  \\\n",
       "0                                     -0.864482   \n",
       "1                                     -1.632910   \n",
       "2                                     -1.524049   \n",
       "3                                     -1.524049   \n",
       "4                                     -0.755621   \n",
       "\n",
       "   P6__time_reversal_asymmetry_statistic__lag_3  P6__value_count__value_-1  \\\n",
       "0                                      0.216349                        0.0   \n",
       "1                                     -1.671789                        0.0   \n",
       "2                                     -0.780168                        0.0   \n",
       "3                                     -0.780168                        0.0   \n",
       "4                                     -1.560336                        0.0   \n",
       "\n",
       "   P6__value_count__value_0  P6__value_count__value_1  P6__variance  \\\n",
       "0                       0.0                       0.0      0.063122   \n",
       "1                       0.0                       0.0      0.071665   \n",
       "2                       0.0                       0.0      0.065113   \n",
       "3                       0.0                       0.0      0.065113   \n",
       "4                       0.0                       0.0      0.065113   \n",
       "\n",
       "   P6__variance_larger_than_standard_deviation  \n",
       "0                                          0.0  \n",
       "1                                          0.0  \n",
       "2                                          0.0  \n",
       "3                                          0.0  \n",
       "4                                          0.0  \n",
       "\n",
       "[5 rows x 4764 columns]"
      ]
     },
     "execution_count": 2,
     "metadata": {},
     "output_type": "execute_result"
    }
   ],
   "source": [
    "features_diacrisis1_p1 = pk.load(open('features_diacrisis1_p1.pdd','rb'))\n",
    "features_diacrisis1_p2 = pk.load(open('features_diacrisis1_p2.pdd','rb'))\n",
    "features_diacrisis1 = pd.concat([features_diacrisis1_p1, features_diacrisis1_p2], axis = 0, ignore_index = True) \n",
    "features_diacrisis2_p1 = pk.load(open('features_diacrisis2_p1.pdd','rb'))\n",
    "features_diacrisis2_p2 = pk.load(open('features_diacrisis2_p2.pdd','rb'))\n",
    "features_diacrisis2 = pd.concat([features_diacrisis2_p1, features_diacrisis2_p2], axis = 0, ignore_index = True)   \n",
    "print('Filas característcias crisis 1: ',features_diacrisis1.shape[0])\n",
    "print('Filas característcias crisis 2: ',features_diacrisis2.shape[0])\n",
    "features = pd.concat([features_diacrisis1,features_diacrisis2], axis = 0, ignore_index = True)\n",
    "targets = features.target\n",
    "features = features.drop(['target'],axis=1)\n",
    "print('Filas característcias total: ',features.shape[0])\n",
    "print('Número de características:',features.shape[1])\n",
    "features.head()"
   ]
  },
  {
   "cell_type": "markdown",
   "metadata": {},
   "source": [
    "## Eliminar atributos con NaN: "
   ]
  },
  {
   "cell_type": "code",
   "execution_count": 3,
   "metadata": {},
   "outputs": [
    {
     "name": "stdout",
     "output_type": "stream",
     "text": [
      "Número de características: 3200\n",
      "Se han eliminado 1564 características\n"
     ]
    }
   ],
   "source": [
    "aux = features.shape[1]\n",
    "\n",
    "features = features.dropna(1)\n",
    "\n",
    "print('Número de características:',features.shape[1])\n",
    "print('Se han eliminado', aux-features.shape[1],'características')"
   ]
  },
  {
   "cell_type": "markdown",
   "metadata": {},
   "source": [
    "## Eliminar atributos que fallan (por alguna razón que no entiendo): "
   ]
  },
  {
   "cell_type": "code",
   "execution_count": 4,
   "metadata": {},
   "outputs": [
    {
     "name": "stdout",
     "output_type": "stream",
     "text": [
      "Número de características: 3194\n",
      "Se han eliminado 6 características\n"
     ]
    }
   ],
   "source": [
    "aux = features.shape[1]\n",
    "\n",
    "features = features.drop(['P1__sample_entropy','P2__sample_entropy','P3__sample_entropy','P4__sample_entropy','P5__sample_entropy','P6__sample_entropy'], axis=1)\n",
    "\n",
    "print('Número de características:',features.shape[1])\n",
    "print('Se han eliminado', aux-features.shape[1],'características')"
   ]
  },
  {
   "cell_type": "markdown",
   "metadata": {},
   "source": [
    "## Eliminar características con baja varianza: "
   ]
  },
  {
   "cell_type": "code",
   "execution_count": 5,
   "metadata": {},
   "outputs": [
    {
     "name": "stdout",
     "output_type": "stream",
     "text": [
      "Número de características: 2561\n",
      "Se han eliminado 633 características\n"
     ]
    }
   ],
   "source": [
    "aux = features.shape[1]\n",
    "\n",
    "from sklearn.feature_selection import VarianceThreshold\n",
    "\n",
    "sel = VarianceThreshold(threshold=(0.01))\n",
    "\n",
    "sel.fit(features)\n",
    "features = features[features.columns[sel.get_support(indices=True)]]\n",
    "\n",
    "print('Número de características:',features.shape[1])\n",
    "print('Se han eliminado', aux-features.shape[1],'características')"
   ]
  },
  {
   "cell_type": "markdown",
   "metadata": {},
   "source": [
    "## Select 1000 Best (chi2): "
   ]
  },
  {
   "cell_type": "code",
   "execution_count": 6,
   "metadata": {},
   "outputs": [],
   "source": [
    "from sklearn.preprocessing import MinMaxScaler \n",
    "\n",
    "scaler = MinMaxScaler()\n",
    "columns = features.columns\n",
    "features[columns] = scaler.fit_transform(features)"
   ]
  },
  {
   "cell_type": "code",
   "execution_count": 7,
   "metadata": {},
   "outputs": [
    {
     "name": "stdout",
     "output_type": "stream",
     "text": [
      "Número de características: 1000\n",
      "Se han eliminado 1561 características\n"
     ]
    }
   ],
   "source": [
    "aux = features.shape[1]\n",
    "\n",
    "from sklearn.feature_selection import SelectKBest\n",
    "from sklearn.feature_selection import chi2\n",
    "\n",
    "sel = SelectKBest(chi2, k=1000)\n",
    "sel.fit(features, targets)\n",
    "features = features[features.columns[sel.get_support(indices=True)]]\n",
    "\n",
    "print('Número de características:',features.shape[1])\n",
    "print('Se han eliminado', aux-features.shape[1],'características')"
   ]
  },
  {
   "cell_type": "markdown",
   "metadata": {},
   "source": [
    "## Select from model (Random Forest): "
   ]
  },
  {
   "cell_type": "code",
   "execution_count": 10,
   "metadata": {},
   "outputs": [
    {
     "name": "stderr",
     "output_type": "stream",
     "text": [
      "/usr/local/anaconda3/envs/TFG/lib/python3.6/site-packages/sklearn/ensemble/forest.py:246: FutureWarning: The default value of n_estimators will change from 10 in version 0.20 to 100 in 0.22.\n",
      "  \"10 in version 0.20 to 100 in 0.22.\", FutureWarning)\n"
     ]
    },
    {
     "name": "stdout",
     "output_type": "stream",
     "text": [
      "Número de características: 8\n",
      "Se han eliminado 24 características\n"
     ]
    }
   ],
   "source": [
    "aux = features.shape[1]\n",
    "\n",
    "from sklearn.feature_selection import SelectFromModel\n",
    "from sklearn.ensemble import RandomForestClassifier\n",
    "\n",
    "rf = RandomForestClassifier()\n",
    "sfm = SelectFromModel(rf, threshold=0.04)\n",
    "sfm.fit(features, targets)\n",
    "features = features[features.columns[sfm.get_support(indices=True)]]\n",
    "\n",
    "print('Número de características:',features.shape[1])\n",
    "print('Se han eliminado', aux-features.shape[1],'características')"
   ]
  },
  {
   "cell_type": "markdown",
   "metadata": {},
   "source": [
    "## Entrenar y aplicar Random Forest: "
   ]
  },
  {
   "cell_type": "code",
   "execution_count": 11,
   "metadata": {},
   "outputs": [
    {
     "name": "stdout",
     "output_type": "stream",
     "text": [
      "roc: 0.4476938225079916\n"
     ]
    }
   ],
   "source": [
    "from sklearn.ensemble import RandomForestClassifier\n",
    "\n",
    "features_diacrisis1 = features[:121889]\n",
    "features_diacrisis2 = features[121889:]\n",
    "targets_diacrisis1 = targets[:121889]\n",
    "targets_diacrisis2 = targets[121889:]\n",
    "\n",
    "rfc = RandomForestClassifier(n_estimators=100, max_depth=2, random_state=0)\n",
    "\n",
    "rfc.fit(features_diacrisis1, targets_diacrisis1)\n",
    "y_pred = rfc.predict_proba(features_diacrisis2)\n",
    "y_score = [i[0] for i in y_pred]\n",
    "roc1 = mtr.roc_auc_score(targets_diacrisis2,y_score)\n",
    "\n",
    "rfc.fit(features_diacrisis2, targets_diacrisis2)\n",
    "y_pred = rfc.predict_proba(features_diacrisis1)\n",
    "y_score = [i[0] for i in y_pred]\n",
    "roc2 = mtr.roc_auc_score(targets_diacrisis1,y_score)\n",
    "\n",
    "roc= (roc1+roc2)/2\n",
    "print('roc:',roc)"
   ]
  },
  {
   "cell_type": "code",
   "execution_count": null,
   "metadata": {},
   "outputs": [],
   "source": []
  }
 ],
 "metadata": {
  "kernelspec": {
   "display_name": "Python 3",
   "language": "python",
   "name": "python3"
  },
  "language_info": {
   "codemirror_mode": {
    "name": "ipython",
    "version": 3
   },
   "file_extension": ".py",
   "mimetype": "text/x-python",
   "name": "python",
   "nbconvert_exporter": "python",
   "pygments_lexer": "ipython3",
   "version": "3.6.8"
  }
 },
 "nbformat": 4,
 "nbformat_minor": 2
}
