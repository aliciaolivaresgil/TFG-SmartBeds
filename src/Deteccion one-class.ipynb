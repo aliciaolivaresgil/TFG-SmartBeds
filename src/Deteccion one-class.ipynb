{
 "cells": [
  {
   "cell_type": "markdown",
   "metadata": {},
   "source": [
    "# Detección de anomalías One-Class\n",
    "## Grado en Ingeniería Informática. Universidad de Burgos\n",
    "**Autor:** Alicia Olivares Gil"
   ]
  },
  {
   "cell_type": "code",
   "execution_count": 1,
   "metadata": {},
   "outputs": [],
   "source": [
    "%matplotlib inline \n",
    "#para dibujar en el propio notebook\n",
    "import pandas as pd # se importa pandas como pd\n",
    "import numpy as np  #numpy como np\n",
    "import matplotlib.pyplot as plt #matplotlib.pyplot como plot\n",
    "import pickle as pk\n",
    "import loadData as ld"
   ]
  },
  {
   "cell_type": "markdown",
   "metadata": {},
   "source": [
    "## Leer datos: "
   ]
  },
  {
   "cell_type": "code",
   "execution_count": 2,
   "metadata": {},
   "outputs": [
    {
     "name": "stdout",
     "output_type": "stream",
     "text": [
      "91\n"
     ]
    }
   ],
   "source": [
    "with open('trozos_limpios.pkl','rb') as f: \n",
    "    trozos_limpios = pk.load(f) \n",
    "\n",
    "print(len(trozos_limpios))"
   ]
  },
  {
   "cell_type": "code",
   "execution_count": null,
   "metadata": {},
   "outputs": [],
   "source": [
    "#buscar días con ataque\n",
    "\n",
    "indices=[]\n",
    "\n",
    "for i in range(len(trozos_limpios)): \n",
    "    for index, row in trozos_limpios[i].iterrows(): \n",
    "        if(row['target'] == True): \n",
    "            indices.append(i)\n",
    "            break; "
   ]
  },
  {
   "cell_type": "code",
   "execution_count": null,
   "metadata": {},
   "outputs": [],
   "source": [
    "indices"
   ]
  },
  {
   "cell_type": "code",
   "execution_count": 4,
   "metadata": {},
   "outputs": [
    {
     "data": {
      "text/html": [
       "<div>\n",
       "<style scoped>\n",
       "    .dataframe tbody tr th:only-of-type {\n",
       "        vertical-align: middle;\n",
       "    }\n",
       "\n",
       "    .dataframe tbody tr th {\n",
       "        vertical-align: top;\n",
       "    }\n",
       "\n",
       "    .dataframe thead th {\n",
       "        text-align: right;\n",
       "    }\n",
       "</style>\n",
       "<table border=\"1\" class=\"dataframe\">\n",
       "  <thead>\n",
       "    <tr style=\"text-align: right;\">\n",
       "      <th></th>\n",
       "      <th>DateTime</th>\n",
       "      <th>P1</th>\n",
       "      <th>P2</th>\n",
       "      <th>P3</th>\n",
       "      <th>P4</th>\n",
       "      <th>P5</th>\n",
       "      <th>P6</th>\n",
       "      <th>target</th>\n",
       "    </tr>\n",
       "  </thead>\n",
       "  <tbody>\n",
       "    <tr>\n",
       "      <th>3849685</th>\n",
       "      <td>2018-11-09 21:03:27</td>\n",
       "      <td>4.098361</td>\n",
       "      <td>18.852459</td>\n",
       "      <td>22.131148</td>\n",
       "      <td>22.131148</td>\n",
       "      <td>13.114754</td>\n",
       "      <td>6.557377</td>\n",
       "      <td>False</td>\n",
       "    </tr>\n",
       "    <tr>\n",
       "      <th>3849686</th>\n",
       "      <td>2018-11-09 21:03:27</td>\n",
       "      <td>4.098361</td>\n",
       "      <td>18.852459</td>\n",
       "      <td>21.311475</td>\n",
       "      <td>22.131148</td>\n",
       "      <td>13.114754</td>\n",
       "      <td>6.557377</td>\n",
       "      <td>False</td>\n",
       "    </tr>\n",
       "    <tr>\n",
       "      <th>3849687</th>\n",
       "      <td>2018-11-09 21:03:28</td>\n",
       "      <td>4.918033</td>\n",
       "      <td>19.672131</td>\n",
       "      <td>22.131148</td>\n",
       "      <td>22.950820</td>\n",
       "      <td>13.934426</td>\n",
       "      <td>7.377049</td>\n",
       "      <td>False</td>\n",
       "    </tr>\n",
       "    <tr>\n",
       "      <th>3849688</th>\n",
       "      <td>2018-11-09 21:03:29</td>\n",
       "      <td>4.098361</td>\n",
       "      <td>18.852459</td>\n",
       "      <td>21.311475</td>\n",
       "      <td>22.131148</td>\n",
       "      <td>13.114754</td>\n",
       "      <td>6.557377</td>\n",
       "      <td>False</td>\n",
       "    </tr>\n",
       "    <tr>\n",
       "      <th>3849689</th>\n",
       "      <td>2018-11-09 21:03:30</td>\n",
       "      <td>0.000000</td>\n",
       "      <td>18.852459</td>\n",
       "      <td>22.131148</td>\n",
       "      <td>22.950820</td>\n",
       "      <td>13.114754</td>\n",
       "      <td>6.557377</td>\n",
       "      <td>False</td>\n",
       "    </tr>\n",
       "  </tbody>\n",
       "</table>\n",
       "</div>"
      ],
      "text/plain": [
       "                   DateTime        P1         P2         P3         P4  \\\n",
       "3849685 2018-11-09 21:03:27  4.098361  18.852459  22.131148  22.131148   \n",
       "3849686 2018-11-09 21:03:27  4.098361  18.852459  21.311475  22.131148   \n",
       "3849687 2018-11-09 21:03:28  4.918033  19.672131  22.131148  22.950820   \n",
       "3849688 2018-11-09 21:03:29  4.098361  18.852459  21.311475  22.131148   \n",
       "3849689 2018-11-09 21:03:30  0.000000  18.852459  22.131148  22.950820   \n",
       "\n",
       "                P5        P6  target  \n",
       "3849685  13.114754  6.557377   False  \n",
       "3849686  13.114754  6.557377   False  \n",
       "3849687  13.934426  7.377049   False  \n",
       "3849688  13.114754  6.557377   False  \n",
       "3849689  13.114754  6.557377   False  "
      ]
     },
     "execution_count": 4,
     "metadata": {},
     "output_type": "execute_result"
    }
   ],
   "source": [
    "diacrisis1 = trozos_limpios[70]\n",
    "diacrisis1.head()"
   ]
  },
  {
   "cell_type": "code",
   "execution_count": 5,
   "metadata": {},
   "outputs": [
    {
     "name": "stdout",
     "output_type": "stream",
     "text": [
      "665\n"
     ]
    },
    {
     "data": {
      "text/html": [
       "<div>\n",
       "<style scoped>\n",
       "    .dataframe tbody tr th:only-of-type {\n",
       "        vertical-align: middle;\n",
       "    }\n",
       "\n",
       "    .dataframe tbody tr th {\n",
       "        vertical-align: top;\n",
       "    }\n",
       "\n",
       "    .dataframe thead th {\n",
       "        text-align: right;\n",
       "    }\n",
       "</style>\n",
       "<table border=\"1\" class=\"dataframe\">\n",
       "  <thead>\n",
       "    <tr style=\"text-align: right;\">\n",
       "      <th></th>\n",
       "      <th>DateTime</th>\n",
       "      <th>P1</th>\n",
       "      <th>P2</th>\n",
       "      <th>P3</th>\n",
       "      <th>P4</th>\n",
       "      <th>P5</th>\n",
       "      <th>P6</th>\n",
       "      <th>target</th>\n",
       "    </tr>\n",
       "  </thead>\n",
       "  <tbody>\n",
       "    <tr>\n",
       "      <th>3908249</th>\n",
       "      <td>2018-11-10 03:36:11</td>\n",
       "      <td>0.0</td>\n",
       "      <td>24.590164</td>\n",
       "      <td>24.590164</td>\n",
       "      <td>30.327869</td>\n",
       "      <td>31.967213</td>\n",
       "      <td>21.311475</td>\n",
       "      <td>True</td>\n",
       "    </tr>\n",
       "    <tr>\n",
       "      <th>3908250</th>\n",
       "      <td>2018-11-10 03:36:11</td>\n",
       "      <td>0.0</td>\n",
       "      <td>22.131148</td>\n",
       "      <td>22.950820</td>\n",
       "      <td>27.868852</td>\n",
       "      <td>27.868852</td>\n",
       "      <td>19.672131</td>\n",
       "      <td>True</td>\n",
       "    </tr>\n",
       "    <tr>\n",
       "      <th>3908251</th>\n",
       "      <td>2018-11-10 03:36:11</td>\n",
       "      <td>0.0</td>\n",
       "      <td>18.032787</td>\n",
       "      <td>18.852459</td>\n",
       "      <td>26.229508</td>\n",
       "      <td>27.868852</td>\n",
       "      <td>18.032787</td>\n",
       "      <td>True</td>\n",
       "    </tr>\n",
       "    <tr>\n",
       "      <th>3908253</th>\n",
       "      <td>2018-11-10 03:36:12</td>\n",
       "      <td>0.0</td>\n",
       "      <td>22.131148</td>\n",
       "      <td>25.409836</td>\n",
       "      <td>34.426230</td>\n",
       "      <td>36.885246</td>\n",
       "      <td>24.590164</td>\n",
       "      <td>True</td>\n",
       "    </tr>\n",
       "    <tr>\n",
       "      <th>3908252</th>\n",
       "      <td>2018-11-10 03:36:12</td>\n",
       "      <td>0.0</td>\n",
       "      <td>19.672131</td>\n",
       "      <td>23.770492</td>\n",
       "      <td>34.426230</td>\n",
       "      <td>36.885246</td>\n",
       "      <td>23.770492</td>\n",
       "      <td>True</td>\n",
       "    </tr>\n",
       "  </tbody>\n",
       "</table>\n",
       "</div>"
      ],
      "text/plain": [
       "                   DateTime   P1         P2         P3         P4         P5  \\\n",
       "3908249 2018-11-10 03:36:11  0.0  24.590164  24.590164  30.327869  31.967213   \n",
       "3908250 2018-11-10 03:36:11  0.0  22.131148  22.950820  27.868852  27.868852   \n",
       "3908251 2018-11-10 03:36:11  0.0  18.032787  18.852459  26.229508  27.868852   \n",
       "3908253 2018-11-10 03:36:12  0.0  22.131148  25.409836  34.426230  36.885246   \n",
       "3908252 2018-11-10 03:36:12  0.0  19.672131  23.770492  34.426230  36.885246   \n",
       "\n",
       "                P6  target  \n",
       "3908249  21.311475    True  \n",
       "3908250  19.672131    True  \n",
       "3908251  18.032787    True  \n",
       "3908253  24.590164    True  \n",
       "3908252  23.770492    True  "
      ]
     },
     "execution_count": 5,
     "metadata": {},
     "output_type": "execute_result"
    }
   ],
   "source": [
    "# seleccionar ataque \n",
    "\n",
    "# inicio estimado: '2018-11-10 3:36:10' fin estimado: '2018-11-10 3:40:37'\n",
    "\n",
    "inicio =pd.to_datetime('2018-11-10 3:36:10')\n",
    "fin = pd.to_datetime('2018-11-10 3:40:37')\n",
    "\n",
    "crisis1 = diacrisis1.loc[diacrisis1['DateTime']>inicio]\n",
    "crisis1 = crisis1.loc[crisis1['DateTime']<fin]\n",
    "\n",
    "print(len(crisis1))\n",
    "crisis1.head()"
   ]
  },
  {
   "cell_type": "code",
   "execution_count": 6,
   "metadata": {},
   "outputs": [
    {
     "data": {
      "text/html": [
       "<div>\n",
       "<style scoped>\n",
       "    .dataframe tbody tr th:only-of-type {\n",
       "        vertical-align: middle;\n",
       "    }\n",
       "\n",
       "    .dataframe tbody tr th {\n",
       "        vertical-align: top;\n",
       "    }\n",
       "\n",
       "    .dataframe thead th {\n",
       "        text-align: right;\n",
       "    }\n",
       "</style>\n",
       "<table border=\"1\" class=\"dataframe\">\n",
       "  <thead>\n",
       "    <tr style=\"text-align: right;\">\n",
       "      <th></th>\n",
       "      <th>DateTime</th>\n",
       "      <th>P1</th>\n",
       "      <th>P2</th>\n",
       "      <th>P3</th>\n",
       "      <th>P4</th>\n",
       "      <th>P5</th>\n",
       "      <th>P6</th>\n",
       "      <th>target</th>\n",
       "    </tr>\n",
       "  </thead>\n",
       "  <tbody>\n",
       "    <tr>\n",
       "      <th>0</th>\n",
       "      <td>2018-11-09 21:03:27</td>\n",
       "      <td>4.098361</td>\n",
       "      <td>18.852459</td>\n",
       "      <td>22.131148</td>\n",
       "      <td>22.131148</td>\n",
       "      <td>13.114754</td>\n",
       "      <td>6.557377</td>\n",
       "      <td>False</td>\n",
       "    </tr>\n",
       "    <tr>\n",
       "      <th>1</th>\n",
       "      <td>2018-11-09 21:03:27</td>\n",
       "      <td>4.098361</td>\n",
       "      <td>18.852459</td>\n",
       "      <td>21.311475</td>\n",
       "      <td>22.131148</td>\n",
       "      <td>13.114754</td>\n",
       "      <td>6.557377</td>\n",
       "      <td>False</td>\n",
       "    </tr>\n",
       "    <tr>\n",
       "      <th>2</th>\n",
       "      <td>2018-11-09 21:03:28</td>\n",
       "      <td>4.918033</td>\n",
       "      <td>19.672131</td>\n",
       "      <td>22.131148</td>\n",
       "      <td>22.950820</td>\n",
       "      <td>13.934426</td>\n",
       "      <td>7.377049</td>\n",
       "      <td>False</td>\n",
       "    </tr>\n",
       "    <tr>\n",
       "      <th>3</th>\n",
       "      <td>2018-11-09 21:03:29</td>\n",
       "      <td>4.098361</td>\n",
       "      <td>18.852459</td>\n",
       "      <td>21.311475</td>\n",
       "      <td>22.131148</td>\n",
       "      <td>13.114754</td>\n",
       "      <td>6.557377</td>\n",
       "      <td>False</td>\n",
       "    </tr>\n",
       "    <tr>\n",
       "      <th>4</th>\n",
       "      <td>2018-11-09 21:03:30</td>\n",
       "      <td>0.000000</td>\n",
       "      <td>18.852459</td>\n",
       "      <td>22.131148</td>\n",
       "      <td>22.950820</td>\n",
       "      <td>13.114754</td>\n",
       "      <td>6.557377</td>\n",
       "      <td>False</td>\n",
       "    </tr>\n",
       "  </tbody>\n",
       "</table>\n",
       "</div>"
      ],
      "text/plain": [
       "             DateTime        P1         P2         P3         P4         P5  \\\n",
       "0 2018-11-09 21:03:27  4.098361  18.852459  22.131148  22.131148  13.114754   \n",
       "1 2018-11-09 21:03:27  4.098361  18.852459  21.311475  22.131148  13.114754   \n",
       "2 2018-11-09 21:03:28  4.918033  19.672131  22.131148  22.950820  13.934426   \n",
       "3 2018-11-09 21:03:29  4.098361  18.852459  21.311475  22.131148  13.114754   \n",
       "4 2018-11-09 21:03:30  0.000000  18.852459  22.131148  22.950820  13.114754   \n",
       "\n",
       "         P6  target  \n",
       "0  6.557377   False  \n",
       "1  6.557377   False  \n",
       "2  7.377049   False  \n",
       "3  6.557377   False  \n",
       "4  6.557377   False  "
      ]
     },
     "execution_count": 6,
     "metadata": {},
     "output_type": "execute_result"
    }
   ],
   "source": [
    "# seleccionar todo lo que no sea crisis \n",
    "\n",
    "inicio = pd.to_datetime('2018-11-10 3:30:00')\n",
    "fin = pd.to_datetime('2018-11-10 3:50:00')\n",
    "\n",
    "nocrisis1antes = diacrisis1.loc[diacrisis1['DateTime']<inicio]\n",
    "nocrisis1despues = diacrisis1.loc[diacrisis1['DateTime']>fin]\n",
    "\n",
    "nocrisis1 = pd.concat([nocrisis1antes, nocrisis1despues], axis = 0, ignore_index = True) \n",
    "nocrisis1.head()"
   ]
  },
  {
   "cell_type": "code",
   "execution_count": 7,
   "metadata": {},
   "outputs": [
    {
     "name": "stdout",
     "output_type": "stream",
     "text": [
      "665\n"
     ]
    },
    {
     "data": {
      "text/html": [
       "<div>\n",
       "<style scoped>\n",
       "    .dataframe tbody tr th:only-of-type {\n",
       "        vertical-align: middle;\n",
       "    }\n",
       "\n",
       "    .dataframe tbody tr th {\n",
       "        vertical-align: top;\n",
       "    }\n",
       "\n",
       "    .dataframe thead th {\n",
       "        text-align: right;\n",
       "    }\n",
       "</style>\n",
       "<table border=\"1\" class=\"dataframe\">\n",
       "  <thead>\n",
       "    <tr style=\"text-align: right;\">\n",
       "      <th></th>\n",
       "      <th>P1</th>\n",
       "      <th>P2</th>\n",
       "      <th>P3</th>\n",
       "      <th>P4</th>\n",
       "      <th>P5</th>\n",
       "      <th>P6</th>\n",
       "    </tr>\n",
       "  </thead>\n",
       "  <tbody>\n",
       "    <tr>\n",
       "      <th>3908249</th>\n",
       "      <td>0.0</td>\n",
       "      <td>24.590164</td>\n",
       "      <td>24.590164</td>\n",
       "      <td>30.327869</td>\n",
       "      <td>31.967213</td>\n",
       "      <td>21.311475</td>\n",
       "    </tr>\n",
       "    <tr>\n",
       "      <th>3908250</th>\n",
       "      <td>0.0</td>\n",
       "      <td>22.131148</td>\n",
       "      <td>22.950820</td>\n",
       "      <td>27.868852</td>\n",
       "      <td>27.868852</td>\n",
       "      <td>19.672131</td>\n",
       "    </tr>\n",
       "    <tr>\n",
       "      <th>3908251</th>\n",
       "      <td>0.0</td>\n",
       "      <td>18.032787</td>\n",
       "      <td>18.852459</td>\n",
       "      <td>26.229508</td>\n",
       "      <td>27.868852</td>\n",
       "      <td>18.032787</td>\n",
       "    </tr>\n",
       "    <tr>\n",
       "      <th>3908253</th>\n",
       "      <td>0.0</td>\n",
       "      <td>22.131148</td>\n",
       "      <td>25.409836</td>\n",
       "      <td>34.426230</td>\n",
       "      <td>36.885246</td>\n",
       "      <td>24.590164</td>\n",
       "    </tr>\n",
       "    <tr>\n",
       "      <th>3908252</th>\n",
       "      <td>0.0</td>\n",
       "      <td>19.672131</td>\n",
       "      <td>23.770492</td>\n",
       "      <td>34.426230</td>\n",
       "      <td>36.885246</td>\n",
       "      <td>23.770492</td>\n",
       "    </tr>\n",
       "  </tbody>\n",
       "</table>\n",
       "</div>"
      ],
      "text/plain": [
       "          P1         P2         P3         P4         P5         P6\n",
       "3908249  0.0  24.590164  24.590164  30.327869  31.967213  21.311475\n",
       "3908250  0.0  22.131148  22.950820  27.868852  27.868852  19.672131\n",
       "3908251  0.0  18.032787  18.852459  26.229508  27.868852  18.032787\n",
       "3908253  0.0  22.131148  25.409836  34.426230  36.885246  24.590164\n",
       "3908252  0.0  19.672131  23.770492  34.426230  36.885246  23.770492"
      ]
     },
     "execution_count": 7,
     "metadata": {},
     "output_type": "execute_result"
    }
   ],
   "source": [
    "presionesCrisis1 = crisis1[['P1', 'P2', 'P3', 'P4', 'P5', 'P6']]\n",
    "print(len(presionesCrisis1))\n",
    "presionesCrisis1.head()"
   ]
  },
  {
   "cell_type": "code",
   "execution_count": 8,
   "metadata": {},
   "outputs": [
    {
     "data": {
      "text/html": [
       "<div>\n",
       "<style scoped>\n",
       "    .dataframe tbody tr th:only-of-type {\n",
       "        vertical-align: middle;\n",
       "    }\n",
       "\n",
       "    .dataframe tbody tr th {\n",
       "        vertical-align: top;\n",
       "    }\n",
       "\n",
       "    .dataframe thead th {\n",
       "        text-align: right;\n",
       "    }\n",
       "</style>\n",
       "<table border=\"1\" class=\"dataframe\">\n",
       "  <thead>\n",
       "    <tr style=\"text-align: right;\">\n",
       "      <th></th>\n",
       "      <th>P1</th>\n",
       "      <th>P2</th>\n",
       "      <th>P3</th>\n",
       "      <th>P4</th>\n",
       "      <th>P5</th>\n",
       "      <th>P6</th>\n",
       "    </tr>\n",
       "  </thead>\n",
       "  <tbody>\n",
       "    <tr>\n",
       "      <th>0</th>\n",
       "      <td>4.098361</td>\n",
       "      <td>18.852459</td>\n",
       "      <td>22.131148</td>\n",
       "      <td>22.131148</td>\n",
       "      <td>13.114754</td>\n",
       "      <td>6.557377</td>\n",
       "    </tr>\n",
       "    <tr>\n",
       "      <th>1</th>\n",
       "      <td>4.098361</td>\n",
       "      <td>18.852459</td>\n",
       "      <td>21.311475</td>\n",
       "      <td>22.131148</td>\n",
       "      <td>13.114754</td>\n",
       "      <td>6.557377</td>\n",
       "    </tr>\n",
       "    <tr>\n",
       "      <th>2</th>\n",
       "      <td>4.918033</td>\n",
       "      <td>19.672131</td>\n",
       "      <td>22.131148</td>\n",
       "      <td>22.950820</td>\n",
       "      <td>13.934426</td>\n",
       "      <td>7.377049</td>\n",
       "    </tr>\n",
       "    <tr>\n",
       "      <th>3</th>\n",
       "      <td>4.098361</td>\n",
       "      <td>18.852459</td>\n",
       "      <td>21.311475</td>\n",
       "      <td>22.131148</td>\n",
       "      <td>13.114754</td>\n",
       "      <td>6.557377</td>\n",
       "    </tr>\n",
       "    <tr>\n",
       "      <th>4</th>\n",
       "      <td>0.000000</td>\n",
       "      <td>18.852459</td>\n",
       "      <td>22.131148</td>\n",
       "      <td>22.950820</td>\n",
       "      <td>13.114754</td>\n",
       "      <td>6.557377</td>\n",
       "    </tr>\n",
       "  </tbody>\n",
       "</table>\n",
       "</div>"
      ],
      "text/plain": [
       "         P1         P2         P3         P4         P5        P6\n",
       "0  4.098361  18.852459  22.131148  22.131148  13.114754  6.557377\n",
       "1  4.098361  18.852459  21.311475  22.131148  13.114754  6.557377\n",
       "2  4.918033  19.672131  22.131148  22.950820  13.934426  7.377049\n",
       "3  4.098361  18.852459  21.311475  22.131148  13.114754  6.557377\n",
       "4  0.000000  18.852459  22.131148  22.950820  13.114754  6.557377"
      ]
     },
     "execution_count": 8,
     "metadata": {},
     "output_type": "execute_result"
    }
   ],
   "source": [
    "presionesNoCrisis1 = nocrisis1[['P1', 'P2', 'P3', 'P4', 'P5', 'P6']]\n",
    "presionesNoCrisis1.head()"
   ]
  },
  {
   "cell_type": "code",
   "execution_count": 9,
   "metadata": {},
   "outputs": [
    {
     "data": {
      "text/html": [
       "<div>\n",
       "<style scoped>\n",
       "    .dataframe tbody tr th:only-of-type {\n",
       "        vertical-align: middle;\n",
       "    }\n",
       "\n",
       "    .dataframe tbody tr th {\n",
       "        vertical-align: top;\n",
       "    }\n",
       "\n",
       "    .dataframe thead th {\n",
       "        text-align: right;\n",
       "    }\n",
       "</style>\n",
       "<table border=\"1\" class=\"dataframe\">\n",
       "  <thead>\n",
       "    <tr style=\"text-align: right;\">\n",
       "      <th></th>\n",
       "      <th>P1</th>\n",
       "      <th>P2</th>\n",
       "      <th>P3</th>\n",
       "      <th>P4</th>\n",
       "      <th>P5</th>\n",
       "      <th>P6</th>\n",
       "    </tr>\n",
       "  </thead>\n",
       "  <tbody>\n",
       "    <tr>\n",
       "      <th>3849685</th>\n",
       "      <td>4.098361</td>\n",
       "      <td>18.852459</td>\n",
       "      <td>22.131148</td>\n",
       "      <td>22.131148</td>\n",
       "      <td>13.114754</td>\n",
       "      <td>6.557377</td>\n",
       "    </tr>\n",
       "    <tr>\n",
       "      <th>3849686</th>\n",
       "      <td>4.098361</td>\n",
       "      <td>18.852459</td>\n",
       "      <td>21.311475</td>\n",
       "      <td>22.131148</td>\n",
       "      <td>13.114754</td>\n",
       "      <td>6.557377</td>\n",
       "    </tr>\n",
       "    <tr>\n",
       "      <th>3849687</th>\n",
       "      <td>4.918033</td>\n",
       "      <td>19.672131</td>\n",
       "      <td>22.131148</td>\n",
       "      <td>22.950820</td>\n",
       "      <td>13.934426</td>\n",
       "      <td>7.377049</td>\n",
       "    </tr>\n",
       "    <tr>\n",
       "      <th>3849688</th>\n",
       "      <td>4.098361</td>\n",
       "      <td>18.852459</td>\n",
       "      <td>21.311475</td>\n",
       "      <td>22.131148</td>\n",
       "      <td>13.114754</td>\n",
       "      <td>6.557377</td>\n",
       "    </tr>\n",
       "    <tr>\n",
       "      <th>3849689</th>\n",
       "      <td>0.000000</td>\n",
       "      <td>18.852459</td>\n",
       "      <td>22.131148</td>\n",
       "      <td>22.950820</td>\n",
       "      <td>13.114754</td>\n",
       "      <td>6.557377</td>\n",
       "    </tr>\n",
       "  </tbody>\n",
       "</table>\n",
       "</div>"
      ],
      "text/plain": [
       "               P1         P2         P3         P4         P5        P6\n",
       "3849685  4.098361  18.852459  22.131148  22.131148  13.114754  6.557377\n",
       "3849686  4.098361  18.852459  21.311475  22.131148  13.114754  6.557377\n",
       "3849687  4.918033  19.672131  22.131148  22.950820  13.934426  7.377049\n",
       "3849688  4.098361  18.852459  21.311475  22.131148  13.114754  6.557377\n",
       "3849689  0.000000  18.852459  22.131148  22.950820  13.114754  6.557377"
      ]
     },
     "execution_count": 9,
     "metadata": {},
     "output_type": "execute_result"
    }
   ],
   "source": [
    "presionesDiaCrisis1 = diacrisis1[['P1', 'P2', 'P3', 'P4', 'P5', 'P6']]\n",
    "presionesDiaCrisis1.head()"
   ]
  },
  {
   "cell_type": "markdown",
   "metadata": {},
   "source": [
    "# Detección One-Class"
   ]
  },
  {
   "cell_type": "markdown",
   "metadata": {},
   "source": [
    "## Datos limpios: "
   ]
  },
  {
   "cell_type": "code",
   "execution_count": 10,
   "metadata": {},
   "outputs": [],
   "source": [
    "from sklearn import svm\n",
    "from sklearn.model_selection import train_test_split\n",
    "from sklearn.metrics import confusion_matrix"
   ]
  },
  {
   "cell_type": "markdown",
   "metadata": {},
   "source": [
    "### - Entrenamiento con la crisis: "
   ]
  },
  {
   "cell_type": "code",
   "execution_count": 11,
   "metadata": {},
   "outputs": [
    {
     "data": {
      "text/plain": [
       "OneClassSVM(cache_size=200, coef0=0.0, degree=3, gamma=0.1, kernel='rbf',\n",
       "      max_iter=-1, nu=0.1, random_state=None, shrinking=True, tol=0.001,\n",
       "      verbose=False)"
      ]
     },
     "execution_count": 11,
     "metadata": {},
     "output_type": "execute_result"
    }
   ],
   "source": [
    "clf = svm.OneClassSVM(nu=0.1, kernel=\"rbf\", gamma=0.1)\n",
    "clf.fit(presionesCrisis1)"
   ]
  },
  {
   "cell_type": "code",
   "execution_count": 12,
   "metadata": {},
   "outputs": [
    {
     "data": {
      "text/plain": [
       "array([-1, -1, -1, ..., -1, -1, -1])"
      ]
     },
     "execution_count": 12,
     "metadata": {},
     "output_type": "execute_result"
    }
   ],
   "source": [
    "y_pred = clf.predict(presionesDiaCrisis1)\n",
    "y_pred"
   ]
  },
  {
   "cell_type": "code",
   "execution_count": 17,
   "metadata": {},
   "outputs": [],
   "source": [
    "y_pred[y_pred==-1]=0\n",
    "y_pred = y_pred.astype(np.bool)"
   ]
  },
  {
   "cell_type": "code",
   "execution_count": 18,
   "metadata": {},
   "outputs": [
    {
     "data": {
      "text/plain": [
       "array([False, False, False, ..., False, False, False])"
      ]
     },
     "execution_count": 18,
     "metadata": {},
     "output_type": "execute_result"
    }
   ],
   "source": [
    "y_pred"
   ]
  },
  {
   "cell_type": "code",
   "execution_count": 19,
   "metadata": {},
   "outputs": [
    {
     "data": {
      "text/plain": [
       "array([[102007,      7],\n",
       "       [  2402,    600]])"
      ]
     },
     "execution_count": 19,
     "metadata": {},
     "output_type": "execute_result"
    }
   ],
   "source": [
    "confusion_matrix(diacrisis1['target'].values ,y_pred)"
   ]
  },
  {
   "cell_type": "code",
   "execution_count": 37,
   "metadata": {},
   "outputs": [
    {
     "data": {
      "text/html": [
       "<div>\n",
       "<style scoped>\n",
       "    .dataframe tbody tr th:only-of-type {\n",
       "        vertical-align: middle;\n",
       "    }\n",
       "\n",
       "    .dataframe tbody tr th {\n",
       "        vertical-align: top;\n",
       "    }\n",
       "\n",
       "    .dataframe thead th {\n",
       "        text-align: right;\n",
       "    }\n",
       "</style>\n",
       "<table border=\"1\" class=\"dataframe\">\n",
       "  <thead>\n",
       "    <tr style=\"text-align: right;\">\n",
       "      <th></th>\n",
       "      <th>DateTime</th>\n",
       "      <th>P1</th>\n",
       "      <th>P2</th>\n",
       "      <th>P3</th>\n",
       "      <th>P4</th>\n",
       "      <th>P5</th>\n",
       "      <th>P6</th>\n",
       "      <th>target</th>\n",
       "      <th>prediction</th>\n",
       "    </tr>\n",
       "  </thead>\n",
       "  <tbody>\n",
       "    <tr>\n",
       "      <th>3849685</th>\n",
       "      <td>2018-11-09 21:03:27</td>\n",
       "      <td>4.098361</td>\n",
       "      <td>18.852459</td>\n",
       "      <td>22.131148</td>\n",
       "      <td>22.131148</td>\n",
       "      <td>13.114754</td>\n",
       "      <td>6.557377</td>\n",
       "      <td>False</td>\n",
       "      <td>False</td>\n",
       "    </tr>\n",
       "    <tr>\n",
       "      <th>3849686</th>\n",
       "      <td>2018-11-09 21:03:27</td>\n",
       "      <td>4.098361</td>\n",
       "      <td>18.852459</td>\n",
       "      <td>21.311475</td>\n",
       "      <td>22.131148</td>\n",
       "      <td>13.114754</td>\n",
       "      <td>6.557377</td>\n",
       "      <td>False</td>\n",
       "      <td>False</td>\n",
       "    </tr>\n",
       "    <tr>\n",
       "      <th>3849687</th>\n",
       "      <td>2018-11-09 21:03:28</td>\n",
       "      <td>4.918033</td>\n",
       "      <td>19.672131</td>\n",
       "      <td>22.131148</td>\n",
       "      <td>22.950820</td>\n",
       "      <td>13.934426</td>\n",
       "      <td>7.377049</td>\n",
       "      <td>False</td>\n",
       "      <td>False</td>\n",
       "    </tr>\n",
       "    <tr>\n",
       "      <th>3849688</th>\n",
       "      <td>2018-11-09 21:03:29</td>\n",
       "      <td>4.098361</td>\n",
       "      <td>18.852459</td>\n",
       "      <td>21.311475</td>\n",
       "      <td>22.131148</td>\n",
       "      <td>13.114754</td>\n",
       "      <td>6.557377</td>\n",
       "      <td>False</td>\n",
       "      <td>False</td>\n",
       "    </tr>\n",
       "    <tr>\n",
       "      <th>3849689</th>\n",
       "      <td>2018-11-09 21:03:30</td>\n",
       "      <td>0.000000</td>\n",
       "      <td>18.852459</td>\n",
       "      <td>22.131148</td>\n",
       "      <td>22.950820</td>\n",
       "      <td>13.114754</td>\n",
       "      <td>6.557377</td>\n",
       "      <td>False</td>\n",
       "      <td>False</td>\n",
       "    </tr>\n",
       "  </tbody>\n",
       "</table>\n",
       "</div>"
      ],
      "text/plain": [
       "                   DateTime        P1         P2         P3         P4  \\\n",
       "3849685 2018-11-09 21:03:27  4.098361  18.852459  22.131148  22.131148   \n",
       "3849686 2018-11-09 21:03:27  4.098361  18.852459  21.311475  22.131148   \n",
       "3849687 2018-11-09 21:03:28  4.918033  19.672131  22.131148  22.950820   \n",
       "3849688 2018-11-09 21:03:29  4.098361  18.852459  21.311475  22.131148   \n",
       "3849689 2018-11-09 21:03:30  0.000000  18.852459  22.131148  22.950820   \n",
       "\n",
       "                P5        P6  target  prediction  \n",
       "3849685  13.114754  6.557377   False       False  \n",
       "3849686  13.114754  6.557377   False       False  \n",
       "3849687  13.934426  7.377049   False       False  \n",
       "3849688  13.114754  6.557377   False       False  \n",
       "3849689  13.114754  6.557377   False       False  "
      ]
     },
     "execution_count": 37,
     "metadata": {},
     "output_type": "execute_result"
    }
   ],
   "source": [
    "diacrisis1['prediction'] = y_pred\n",
    "diacrisis1.head()"
   ]
  },
  {
   "cell_type": "code",
   "execution_count": 38,
   "metadata": {},
   "outputs": [
    {
     "data": {
      "text/plain": [
       "Text(0.5, 1.0, 'predicción')"
      ]
     },
     "execution_count": 38,
     "metadata": {},
     "output_type": "execute_result"
    },
    {
     "data": {
      "image/png": "[encoded data removed]",
      "text/plain": [
       "<Figure size 1080x576 with 2 Axes>"
      ]
     },
     "metadata": {
      "needs_background": "light"
     },
     "output_type": "display_data"
    }
   ],
   "source": [
    "column = 'P5'\n",
    "\n",
    "# datos de crisis real \n",
    "y = np.transpose(diacrisis1['DateTime'])\n",
    "x = np.transpose(presionesDiaCrisis1[column])\n",
    "trues = diacrisis1[diacrisis1['target'] == True]\n",
    "y_trues = np.transpose(trues['DateTime'])\n",
    "x_trues = np.transpose(trues[column])\n",
    "\n",
    "# datos de predicción \n",
    "trues = diacrisis1[diacrisis1['prediction'] == True]\n",
    "y_trues_prediction = np.transpose(trues['DateTime'])\n",
    "x_trues_prediction = np.transpose(trues[column])\n",
    "                 \n",
    "plt.figure(figsize=(15,8))\n",
    "plt.subplot(211)\n",
    "plt.plot(y,x,linewidth=0.5, c='g')\n",
    "plt.plot(y_trues, x_trues, linewidth=0.5, c='r')\n",
    "plt.title(column)\n",
    "plt.subplot(212)\n",
    "plt.plot(y,x,linewidth=0.5, c='g')\n",
    "plt.plot(y_trues_prediction, x_trues_prediction, linewidth=0.5, c='r')\n",
    "plt.title('predicción')"
   ]
  },
  {
   "cell_type": "markdown",
   "metadata": {},
   "source": [
    "### - Entrenamiento sin la crisis: "
   ]
  },
  {
   "cell_type": "code",
   "execution_count": 11,
   "metadata": {},
   "outputs": [
    {
     "data": {
      "text/plain": [
       "OneClassSVM(cache_size=200, coef0=0.0, degree=3, gamma=0.1, kernel='rbf',\n",
       "      max_iter=-1, nu=0.1, random_state=None, shrinking=True, tol=0.001,\n",
       "      verbose=False)"
      ]
     },
     "execution_count": 11,
     "metadata": {},
     "output_type": "execute_result"
    }
   ],
   "source": [
    "clf2 = svm.OneClassSVM(nu=0.1, kernel=\"rbf\", gamma=0.1)\n",
    "clf2.fit(presionesNoCrisis1)"
   ]
  },
  {
   "cell_type": "code",
   "execution_count": 12,
   "metadata": {},
   "outputs": [
    {
     "data": {
      "text/plain": [
       "array([-1,  1, -1, ..., -1, -1, -1])"
      ]
     },
     "execution_count": 12,
     "metadata": {},
     "output_type": "execute_result"
    }
   ],
   "source": [
    "y_pred = clf2.predict(presionesDiaCrisis1)\n",
    "y_pred"
   ]
  },
  {
   "cell_type": "code",
   "execution_count": 13,
   "metadata": {},
   "outputs": [],
   "source": [
    "y_pred = np.array([ 0 if y==1 else 1 for y in y_pred])\n",
    "y_pred = y_pred.astype(np.bool)"
   ]
  },
  {
   "cell_type": "code",
   "execution_count": 14,
   "metadata": {},
   "outputs": [
    {
     "data": {
      "text/plain": [
       "array([ True, False,  True, ...,  True,  True,  True])"
      ]
     },
     "execution_count": 14,
     "metadata": {},
     "output_type": "execute_result"
    }
   ],
   "source": [
    "y_pred"
   ]
  },
  {
   "cell_type": "code",
   "execution_count": 15,
   "metadata": {},
   "outputs": [
    {
     "data": {
      "text/plain": [
       "array([[91149, 10865],\n",
       "       [ 2685,   317]])"
      ]
     },
     "execution_count": 15,
     "metadata": {},
     "output_type": "execute_result"
    }
   ],
   "source": [
    "confusion_matrix(diacrisis1['target'].values ,y_pred)"
   ]
  },
  {
   "cell_type": "code",
   "execution_count": 16,
   "metadata": {},
   "outputs": [
    {
     "data": {
      "text/html": [
       "<div>\n",
       "<style scoped>\n",
       "    .dataframe tbody tr th:only-of-type {\n",
       "        vertical-align: middle;\n",
       "    }\n",
       "\n",
       "    .dataframe tbody tr th {\n",
       "        vertical-align: top;\n",
       "    }\n",
       "\n",
       "    .dataframe thead th {\n",
       "        text-align: right;\n",
       "    }\n",
       "</style>\n",
       "<table border=\"1\" class=\"dataframe\">\n",
       "  <thead>\n",
       "    <tr style=\"text-align: right;\">\n",
       "      <th></th>\n",
       "      <th>DateTime</th>\n",
       "      <th>P1</th>\n",
       "      <th>P2</th>\n",
       "      <th>P3</th>\n",
       "      <th>P4</th>\n",
       "      <th>P5</th>\n",
       "      <th>P6</th>\n",
       "      <th>target</th>\n",
       "      <th>prediction</th>\n",
       "    </tr>\n",
       "  </thead>\n",
       "  <tbody>\n",
       "    <tr>\n",
       "      <th>3849685</th>\n",
       "      <td>2018-11-09 21:03:27</td>\n",
       "      <td>4.098361</td>\n",
       "      <td>18.852459</td>\n",
       "      <td>22.131148</td>\n",
       "      <td>22.131148</td>\n",
       "      <td>13.114754</td>\n",
       "      <td>6.557377</td>\n",
       "      <td>False</td>\n",
       "      <td>True</td>\n",
       "    </tr>\n",
       "    <tr>\n",
       "      <th>3849686</th>\n",
       "      <td>2018-11-09 21:03:27</td>\n",
       "      <td>4.098361</td>\n",
       "      <td>18.852459</td>\n",
       "      <td>21.311475</td>\n",
       "      <td>22.131148</td>\n",
       "      <td>13.114754</td>\n",
       "      <td>6.557377</td>\n",
       "      <td>False</td>\n",
       "      <td>False</td>\n",
       "    </tr>\n",
       "    <tr>\n",
       "      <th>3849687</th>\n",
       "      <td>2018-11-09 21:03:28</td>\n",
       "      <td>4.918033</td>\n",
       "      <td>19.672131</td>\n",
       "      <td>22.131148</td>\n",
       "      <td>22.950820</td>\n",
       "      <td>13.934426</td>\n",
       "      <td>7.377049</td>\n",
       "      <td>False</td>\n",
       "      <td>True</td>\n",
       "    </tr>\n",
       "    <tr>\n",
       "      <th>3849688</th>\n",
       "      <td>2018-11-09 21:03:29</td>\n",
       "      <td>4.098361</td>\n",
       "      <td>18.852459</td>\n",
       "      <td>21.311475</td>\n",
       "      <td>22.131148</td>\n",
       "      <td>13.114754</td>\n",
       "      <td>6.557377</td>\n",
       "      <td>False</td>\n",
       "      <td>False</td>\n",
       "    </tr>\n",
       "    <tr>\n",
       "      <th>3849689</th>\n",
       "      <td>2018-11-09 21:03:30</td>\n",
       "      <td>0.000000</td>\n",
       "      <td>18.852459</td>\n",
       "      <td>22.131148</td>\n",
       "      <td>22.950820</td>\n",
       "      <td>13.114754</td>\n",
       "      <td>6.557377</td>\n",
       "      <td>False</td>\n",
       "      <td>True</td>\n",
       "    </tr>\n",
       "  </tbody>\n",
       "</table>\n",
       "</div>"
      ],
      "text/plain": [
       "                   DateTime        P1         P2         P3         P4  \\\n",
       "3849685 2018-11-09 21:03:27  4.098361  18.852459  22.131148  22.131148   \n",
       "3849686 2018-11-09 21:03:27  4.098361  18.852459  21.311475  22.131148   \n",
       "3849687 2018-11-09 21:03:28  4.918033  19.672131  22.131148  22.950820   \n",
       "3849688 2018-11-09 21:03:29  4.098361  18.852459  21.311475  22.131148   \n",
       "3849689 2018-11-09 21:03:30  0.000000  18.852459  22.131148  22.950820   \n",
       "\n",
       "                P5        P6  target  prediction  \n",
       "3849685  13.114754  6.557377   False        True  \n",
       "3849686  13.114754  6.557377   False       False  \n",
       "3849687  13.934426  7.377049   False        True  \n",
       "3849688  13.114754  6.557377   False       False  \n",
       "3849689  13.114754  6.557377   False        True  "
      ]
     },
     "execution_count": 16,
     "metadata": {},
     "output_type": "execute_result"
    }
   ],
   "source": [
    "diacrisis1['prediction'] = y_pred\n",
    "diacrisis1.head()"
   ]
  },
  {
   "cell_type": "code",
   "execution_count": 17,
   "metadata": {},
   "outputs": [
    {
     "data": {
      "text/plain": [
       "Text(0.5, 1.0, 'predicción')"
      ]
     },
     "execution_count": 17,
     "metadata": {},
     "output_type": "execute_result"
    },
    {
     "data": {
      "image/png": "[encoded data removed]",
      "text/plain": [
       "<Figure size 1080x576 with 2 Axes>"
      ]
     },
     "metadata": {
      "needs_background": "light"
     },
     "output_type": "display_data"
    }
   ],
   "source": [
    "column = 'P5'\n",
    "\n",
    "# datos de crisis real \n",
    "y = np.transpose(diacrisis1['DateTime'])\n",
    "x = np.transpose(presionesDiaCrisis1[column])\n",
    "trues = diacrisis1[diacrisis1['target'] == True]\n",
    "y_trues = np.transpose(trues['DateTime'])\n",
    "x_trues = np.transpose(trues[column])\n",
    "\n",
    "# datos de predicción \n",
    "trues = diacrisis1[diacrisis1['prediction'] == True]\n",
    "y_trues_prediction = np.transpose(trues['DateTime'])\n",
    "x_trues_prediction = np.transpose(trues[column])\n",
    "                 \n",
    "plt.figure(figsize=(15,8))\n",
    "plt.subplot(211)\n",
    "plt.plot(y,x,linewidth=0.5, c='g')\n",
    "plt.plot(y_trues, x_trues, linewidth=0.5, c='r')\n",
    "plt.title(column)\n",
    "plt.subplot(212)\n",
    "plt.plot(y,x,linewidth=0.5, c='g')\n",
    "plt.plot(y_trues_prediction, x_trues_prediction, linewidth=0.5, c='r')\n",
    "plt.title('predicción')"
   ]
  },
  {
   "cell_type": "code",
   "execution_count": null,
   "metadata": {},
   "outputs": [],
   "source": []
  }
 ],
 "metadata": {
  "kernelspec": {
   "display_name": "Python 3",
   "language": "python",
   "name": "python3"
  },
  "language_info": {
   "codemirror_mode": {
    "name": "ipython",
    "version": 3
   },
   "file_extension": ".py",
   "mimetype": "text/x-python",
   "name": "python",
   "nbconvert_exporter": "python",
   "pygments_lexer": "ipython3",
   "version": "3.6.8"
  }
 },
 "nbformat": 4,
 "nbformat_minor": 2
}
