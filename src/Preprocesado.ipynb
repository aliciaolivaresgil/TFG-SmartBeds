{
 "cells": [
  {
   "cell_type": "markdown",
   "metadata": {},
   "source": [
    "# Preprocesado de los datos \n",
    "## Grado en Ingeniería Informática. Universidad de Burgos\n",
    "**Autor:** Alicia Olivares Gil"
   ]
  },
  {
   "cell_type": "code",
   "execution_count": 1,
   "metadata": {},
   "outputs": [],
   "source": [
    "%matplotlib inline \n",
    "#para dibujar en el propio notebook\n",
    "import pandas as pd # se importa pandas como pd\n",
    "import numpy as np  #numpy como np\n",
    "import pickle as pk\n",
    "import matplotlib.pyplot as plt #matplotlib.pyplot como plot"
   ]
  },
  {
   "cell_type": "markdown",
   "metadata": {},
   "source": [
    "# Leer ficheros csv:"
   ]
  },
  {
   "cell_type": "code",
   "execution_count": 2,
   "metadata": {},
   "outputs": [
    {
     "name": "stderr",
     "output_type": "stream",
     "text": [
      "/home/aolivaresg/.local/lib/python3.6/site-packages/IPython/core/interactiveshell.py:3185: DtypeWarning: Columns (1) have mixed types. Specify dtype option on import or set low_memory=False.\n",
      "  if (yield from self.run_code(code, result)):\n"
     ]
    },
    {
     "name": "stdout",
     "output_type": "stream",
     "text": [
      "8016982\n"
     ]
    },
    {
     "data": {
      "text/html": [
       "<div>\n",
       "<style scoped>\n",
       "    .dataframe tbody tr th:only-of-type {\n",
       "        vertical-align: middle;\n",
       "    }\n",
       "\n",
       "    .dataframe tbody tr th {\n",
       "        vertical-align: top;\n",
       "    }\n",
       "\n",
       "    .dataframe thead th {\n",
       "        text-align: right;\n",
       "    }\n",
       "</style>\n",
       "<table border=\"1\" class=\"dataframe\">\n",
       "  <thead>\n",
       "    <tr style=\"text-align: right;\">\n",
       "      <th></th>\n",
       "      <th>DateTime</th>\n",
       "      <th>P1</th>\n",
       "      <th>P2</th>\n",
       "      <th>P3</th>\n",
       "      <th>P4</th>\n",
       "      <th>P5</th>\n",
       "      <th>P6</th>\n",
       "      <th>P7</th>\n",
       "      <th>P8</th>\n",
       "      <th>P9</th>\n",
       "      <th>P10</th>\n",
       "      <th>P11</th>\n",
       "      <th>P12</th>\n",
       "      <th>target</th>\n",
       "    </tr>\n",
       "  </thead>\n",
       "  <tbody>\n",
       "    <tr>\n",
       "      <th>5495415</th>\n",
       "      <td>2018-08-28 11:50:12</td>\n",
       "      <td>0.0</td>\n",
       "      <td>13.0</td>\n",
       "      <td>10.0</td>\n",
       "      <td>18.0</td>\n",
       "      <td>2.0</td>\n",
       "      <td>9.0</td>\n",
       "      <td>0.0</td>\n",
       "      <td>0.0</td>\n",
       "      <td>0.0</td>\n",
       "      <td>0.0</td>\n",
       "      <td>0.0</td>\n",
       "      <td>0.0</td>\n",
       "      <td>False</td>\n",
       "    </tr>\n",
       "    <tr>\n",
       "      <th>5495416</th>\n",
       "      <td>2018-08-28 11:50:13</td>\n",
       "      <td>0.0</td>\n",
       "      <td>13.0</td>\n",
       "      <td>10.0</td>\n",
       "      <td>18.0</td>\n",
       "      <td>2.0</td>\n",
       "      <td>9.0</td>\n",
       "      <td>0.0</td>\n",
       "      <td>0.0</td>\n",
       "      <td>0.0</td>\n",
       "      <td>0.0</td>\n",
       "      <td>0.0</td>\n",
       "      <td>0.0</td>\n",
       "      <td>False</td>\n",
       "    </tr>\n",
       "    <tr>\n",
       "      <th>5495417</th>\n",
       "      <td>2018-08-28 11:50:15</td>\n",
       "      <td>1.0</td>\n",
       "      <td>14.0</td>\n",
       "      <td>11.0</td>\n",
       "      <td>19.0</td>\n",
       "      <td>3.0</td>\n",
       "      <td>9.0</td>\n",
       "      <td>1.0</td>\n",
       "      <td>0.0</td>\n",
       "      <td>0.0</td>\n",
       "      <td>0.0</td>\n",
       "      <td>1.0</td>\n",
       "      <td>0.0</td>\n",
       "      <td>False</td>\n",
       "    </tr>\n",
       "    <tr>\n",
       "      <th>5495418</th>\n",
       "      <td>2018-08-28 11:50:16</td>\n",
       "      <td>1.0</td>\n",
       "      <td>14.0</td>\n",
       "      <td>11.0</td>\n",
       "      <td>19.0</td>\n",
       "      <td>2.0</td>\n",
       "      <td>10.0</td>\n",
       "      <td>2.0</td>\n",
       "      <td>0.0</td>\n",
       "      <td>0.0</td>\n",
       "      <td>0.0</td>\n",
       "      <td>1.0</td>\n",
       "      <td>0.0</td>\n",
       "      <td>False</td>\n",
       "    </tr>\n",
       "    <tr>\n",
       "      <th>5495419</th>\n",
       "      <td>2018-08-28 11:50:17</td>\n",
       "      <td>1.0</td>\n",
       "      <td>14.0</td>\n",
       "      <td>11.0</td>\n",
       "      <td>19.0</td>\n",
       "      <td>3.0</td>\n",
       "      <td>10.0</td>\n",
       "      <td>1.0</td>\n",
       "      <td>0.0</td>\n",
       "      <td>0.0</td>\n",
       "      <td>0.0</td>\n",
       "      <td>1.0</td>\n",
       "      <td>0.0</td>\n",
       "      <td>False</td>\n",
       "    </tr>\n",
       "  </tbody>\n",
       "</table>\n",
       "</div>"
      ],
      "text/plain": [
       "                   DateTime   P1    P2    P3    P4   P5    P6   P7   P8   P9  \\\n",
       "5495415 2018-08-28 11:50:12  0.0  13.0  10.0  18.0  2.0   9.0  0.0  0.0  0.0   \n",
       "5495416 2018-08-28 11:50:13  0.0  13.0  10.0  18.0  2.0   9.0  0.0  0.0  0.0   \n",
       "5495417 2018-08-28 11:50:15  1.0  14.0  11.0  19.0  3.0   9.0  1.0  0.0  0.0   \n",
       "5495418 2018-08-28 11:50:16  1.0  14.0  11.0  19.0  2.0  10.0  2.0  0.0  0.0   \n",
       "5495419 2018-08-28 11:50:17  1.0  14.0  11.0  19.0  3.0  10.0  1.0  0.0  0.0   \n",
       "\n",
       "         P10  P11  P12  target  \n",
       "5495415  0.0  0.0  0.0   False  \n",
       "5495416  0.0  0.0  0.0   False  \n",
       "5495417  0.0  1.0  0.0   False  \n",
       "5495418  0.0  1.0  0.0   False  \n",
       "5495419  0.0  1.0  0.0   False  "
      ]
     },
     "execution_count": 2,
     "metadata": {},
     "output_type": "execute_result"
    }
   ],
   "source": [
    "import loadData as ld\n",
    "\n",
    "path =r'../data/'\n",
    "\n",
    "datos = ld.load(path)\n",
    "datos = ld.preprocess(datos)\n",
    "\n",
    "print(len(datos))\n",
    "datos.head()"
   ]
  },
  {
   "cell_type": "markdown",
   "metadata": {},
   "source": [
    "# Añadir target de los ataques conocidos: "
   ]
  },
  {
   "cell_type": "code",
   "execution_count": 3,
   "metadata": {},
   "outputs": [],
   "source": [
    "datos = ld.newSeizure(datos, '2018-11-10 3:36:10', '2018-11-10 3:40:37')\n",
    "datos = ld.newSeizure(datos, '29/01/2019 6:12:04', '29/01/2019 6:15:37')\n",
    "datos = ld.newSeizure(datos, '2019-01-29 06:12:00', 15*60)\n",
    "datos = ld.newSeizure(datos, '2019-02-06 21:41:00', '2019-02-06 22:00:00')"
   ]
  },
  {
   "cell_type": "markdown",
   "metadata": {},
   "source": [
    "# Normalizar datos en bruto y eliminar ruido: "
   ]
  },
  {
   "cell_type": "code",
   "execution_count": 5,
   "metadata": {},
   "outputs": [],
   "source": [
    "from transformers import Normalizer, NoiseFilter, PipelineTransformer, VarianceThresholdPD"
   ]
  },
  {
   "cell_type": "code",
   "execution_count": 6,
   "metadata": {},
   "outputs": [
    {
     "data": {
      "text/html": [
       "<div>\n",
       "<style scoped>\n",
       "    .dataframe tbody tr th:only-of-type {\n",
       "        vertical-align: middle;\n",
       "    }\n",
       "\n",
       "    .dataframe tbody tr th {\n",
       "        vertical-align: top;\n",
       "    }\n",
       "\n",
       "    .dataframe thead th {\n",
       "        text-align: right;\n",
       "    }\n",
       "</style>\n",
       "<table border=\"1\" class=\"dataframe\">\n",
       "  <thead>\n",
       "    <tr style=\"text-align: right;\">\n",
       "      <th></th>\n",
       "      <th>DateTime</th>\n",
       "      <th>P1</th>\n",
       "      <th>P2</th>\n",
       "      <th>P3</th>\n",
       "      <th>P4</th>\n",
       "      <th>P5</th>\n",
       "      <th>P6</th>\n",
       "      <th>target</th>\n",
       "    </tr>\n",
       "  </thead>\n",
       "  <tbody>\n",
       "    <tr>\n",
       "      <th>5495415</th>\n",
       "      <td>2018-08-28 11:50:12</td>\n",
       "      <td>0.0</td>\n",
       "      <td>10.655738</td>\n",
       "      <td>8.196721</td>\n",
       "      <td>14.754098</td>\n",
       "      <td>0.0</td>\n",
       "      <td>7.377049</td>\n",
       "      <td>False</td>\n",
       "    </tr>\n",
       "    <tr>\n",
       "      <th>5495416</th>\n",
       "      <td>2018-08-28 11:50:13</td>\n",
       "      <td>0.0</td>\n",
       "      <td>10.655738</td>\n",
       "      <td>8.196721</td>\n",
       "      <td>14.754098</td>\n",
       "      <td>0.0</td>\n",
       "      <td>7.377049</td>\n",
       "      <td>False</td>\n",
       "    </tr>\n",
       "    <tr>\n",
       "      <th>5495417</th>\n",
       "      <td>2018-08-28 11:50:15</td>\n",
       "      <td>0.0</td>\n",
       "      <td>11.475410</td>\n",
       "      <td>9.016393</td>\n",
       "      <td>15.573770</td>\n",
       "      <td>0.0</td>\n",
       "      <td>7.377049</td>\n",
       "      <td>False</td>\n",
       "    </tr>\n",
       "    <tr>\n",
       "      <th>5495418</th>\n",
       "      <td>2018-08-28 11:50:16</td>\n",
       "      <td>0.0</td>\n",
       "      <td>11.475410</td>\n",
       "      <td>9.016393</td>\n",
       "      <td>15.573770</td>\n",
       "      <td>0.0</td>\n",
       "      <td>8.196721</td>\n",
       "      <td>False</td>\n",
       "    </tr>\n",
       "    <tr>\n",
       "      <th>5495419</th>\n",
       "      <td>2018-08-28 11:50:17</td>\n",
       "      <td>0.0</td>\n",
       "      <td>11.475410</td>\n",
       "      <td>9.016393</td>\n",
       "      <td>15.573770</td>\n",
       "      <td>0.0</td>\n",
       "      <td>8.196721</td>\n",
       "      <td>False</td>\n",
       "    </tr>\n",
       "  </tbody>\n",
       "</table>\n",
       "</div>"
      ],
      "text/plain": [
       "                   DateTime   P1         P2        P3         P4   P5  \\\n",
       "5495415 2018-08-28 11:50:12  0.0  10.655738  8.196721  14.754098  0.0   \n",
       "5495416 2018-08-28 11:50:13  0.0  10.655738  8.196721  14.754098  0.0   \n",
       "5495417 2018-08-28 11:50:15  0.0  11.475410  9.016393  15.573770  0.0   \n",
       "5495418 2018-08-28 11:50:16  0.0  11.475410  9.016393  15.573770  0.0   \n",
       "5495419 2018-08-28 11:50:17  0.0  11.475410  9.016393  15.573770  0.0   \n",
       "\n",
       "               P6  target  \n",
       "5495415  7.377049   False  \n",
       "5495416  7.377049   False  \n",
       "5495417  7.377049   False  \n",
       "5495418  8.196721   False  \n",
       "5495419  8.196721   False  "
      ]
     },
     "execution_count": 6,
     "metadata": {},
     "output_type": "execute_result"
    }
   ],
   "source": [
    "columnas_presiones = ['P1', 'P2', 'P3', 'P4', 'P5', 'P6']\n",
    "\n",
    "noiseFilter = NoiseFilter(minimum=5)\n",
    "normalizer = Normalizer(max_=100)\n",
    "vt = VarianceThresholdPD(threshold=0.5)\n",
    "pipelineTransformer = PipelineTransformer(noiseFilter, normalizer, vt)\n",
    "datosNormalizados = pipelineTransformer.fit_transform(datos[columnas_presiones])\n",
    "datosNormalizados = pd.concat([datos['DateTime'], datosNormalizados, datos['target']], axis=1)\n",
    "datosNormalizados.head()"
   ]
  },
  {
   "cell_type": "markdown",
   "metadata": {},
   "source": [
    "### Segmentar datos en noches: "
   ]
  },
  {
   "cell_type": "code",
   "execution_count": 7,
   "metadata": {},
   "outputs": [
    {
     "name": "stdout",
     "output_type": "stream",
     "text": [
      "124\n"
     ]
    }
   ],
   "source": [
    "noches_segmentadas = ld.segmentNights(datosNormalizados)\n",
    "print(len(noches_segmentadas))"
   ]
  },
  {
   "cell_type": "code",
   "execution_count": 8,
   "metadata": {},
   "outputs": [],
   "source": [
    "#buscar noches CON ataque\n",
    "indices=[]\n",
    "for i in range(len(noches_segmentadas)): \n",
    "    for index, row in noches_segmentadas[i].iterrows(): \n",
    "        if(row['target'] == True): \n",
    "            indices.append(i)\n",
    "            break; "
   ]
  },
  {
   "cell_type": "code",
   "execution_count": 9,
   "metadata": {},
   "outputs": [
    {
     "data": {
      "text/plain": [
       "[74, 121]"
      ]
     },
     "execution_count": 9,
     "metadata": {},
     "output_type": "execute_result"
    }
   ],
   "source": [
    "indices"
   ]
  },
  {
   "cell_type": "markdown",
   "metadata": {},
   "source": [
    "### Guardar resultado: "
   ]
  },
  {
   "cell_type": "code",
   "execution_count": 8,
   "metadata": {},
   "outputs": [],
   "source": [
    "with open('datos_normalizados.pkl','wb') as f:\n",
    "    pk.dump(noches_segmentadas,f)"
   ]
  },
  {
   "cell_type": "code",
   "execution_count": null,
   "metadata": {},
   "outputs": [],
   "source": [
    "for i in range(len(indices)): \n",
    "    nombre = 'diacrisis'+str(i+1)+'.pdd'\n",
    "    with open(nombre,'wb') as f:\n",
    "        pk.dump(noches_segmentadas[indices[i]],f)"
   ]
  },
  {
   "cell_type": "markdown",
   "metadata": {},
   "source": [
    "# Estadísticas móviles: "
   ]
  },
  {
   "cell_type": "code",
   "execution_count": 11,
   "metadata": {},
   "outputs": [],
   "source": [
    "from transformers import Normalizer, StatisticsTransformer, ConcatenateTransformer"
   ]
  },
  {
   "cell_type": "code",
   "execution_count": 12,
   "metadata": {},
   "outputs": [],
   "source": [
    "window = 25\n",
    "\n",
    "normalizer = Normalizer(max_=100)\n",
    "mean = PipelineTransformer(StatisticsTransformer(mode='mean', window=window), normalizer)\n",
    "std = PipelineTransformer(StatisticsTransformer(mode='std', window=window), normalizer)\n",
    "rang = PipelineTransformer(StatisticsTransformer(mode='range', window=window), normalizer)\n",
    "concat = ConcatenateTransformer(mean,std,rang)"
   ]
  },
  {
   "cell_type": "code",
   "execution_count": 18,
   "metadata": {},
   "outputs": [],
   "source": [
    "noches_segmentadas_estadisticas = []\n",
    "for noche in noches_segmentadas: \n",
    "    noche_estadisticas = concat.fit_transform(noche.drop(['DateTime','target'], axis=1))\n",
    "    noche_estadisticas = pd.concat([noche['DateTime'],noche_estadisticas,noche['target']], axis=1)\n",
    "    noche_estadisticas = noche_estadisticas.dropna()\n",
    "    noches_segmentadas_estadisticas.append(noche_estadisticas)"
   ]
  },
  {
   "cell_type": "code",
   "execution_count": 20,
   "metadata": {},
   "outputs": [
    {
     "data": {
      "text/plain": [
       "124"
      ]
     },
     "execution_count": 20,
     "metadata": {},
     "output_type": "execute_result"
    }
   ],
   "source": [
    "len(noches_segmentadas_estadisticas)"
   ]
  },
  {
   "cell_type": "markdown",
   "metadata": {},
   "source": [
    "### Guardar resultado: "
   ]
  },
  {
   "cell_type": "code",
   "execution_count": 21,
   "metadata": {},
   "outputs": [],
   "source": [
    "with open('datos_estadisticos.pkl','wb') as f:\n",
    "    pk.dump(noches_segmentadas_estadisticas,f)"
   ]
  },
  {
   "cell_type": "code",
   "execution_count": null,
   "metadata": {},
   "outputs": [],
   "source": []
  }
 ],
 "metadata": {
  "kernelspec": {
   "display_name": "Python 3",
   "language": "python",
   "name": "python3"
  },
  "language_info": {
   "codemirror_mode": {
    "name": "ipython",
    "version": 3
   },
   "file_extension": ".py",
   "mimetype": "text/x-python",
   "name": "python",
   "nbconvert_exporter": "python",
   "pygments_lexer": "ipython3",
   "version": "3.6.8"
  }
 },
 "nbformat": 4,
 "nbformat_minor": 2
}
