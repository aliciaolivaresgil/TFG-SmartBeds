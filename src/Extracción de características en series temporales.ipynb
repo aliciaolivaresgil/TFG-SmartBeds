{
 "cells": [
  {
   "cell_type": "markdown",
   "metadata": {},
   "source": [
    "# Extracción de características en series temporales\n",
    "## Grado en Ingeniería Informática. Universidad de Burgos\n",
    "**Autor:** Alicia Olivares Gil"
   ]
  },
  {
   "cell_type": "code",
   "execution_count": null,
   "metadata": {},
   "outputs": [],
   "source": [
    "%matplotlib inline \n",
    "#para dibujar en el propio notebook\n",
    "import pandas as pd # se importa pandas como pd\n",
    "import numpy as np  #numpy como np\n",
    "import matplotlib.pyplot as plt #matplotlib.pyplot como plot\n",
    "import pickle as pk\n",
    "import loadData as ld\n",
    "from sklearn.ensemble import RandomForestClassifier\n",
    "from sklearn.model_selection import train_test_split\n",
    "from sklearn.metrics import confusion_matrix\n",
    "from sklearn import metrics as mtr\n",
    "import seaborn as sns\n",
    "import tsfresh as tf"
   ]
  },
  {
   "cell_type": "markdown",
   "metadata": {},
   "source": [
    "### Cargar días de la crisis 1 y 2: "
   ]
  },
  {
   "cell_type": "code",
   "execution_count": null,
   "metadata": {},
   "outputs": [],
   "source": [
    "with open('diacrisis1.pdd','rb') as f: \n",
    "    diacrisis1 = pk.load(f) \n",
    "print(len(diacrisis1))\n",
    "diacrisis1.head()"
   ]
  },
  {
   "cell_type": "code",
   "execution_count": null,
   "metadata": {},
   "outputs": [],
   "source": [
    "with open('diacrisis2.pdd','rb') as f: \n",
    "    diacrisis2 = pk.load(f) \n",
    "print(len(diacrisis2))\n",
    "diacrisis2.head()"
   ]
  },
  {
   "cell_type": "markdown",
   "metadata": {},
   "source": [
    "### Función de extracción de características por ventana: "
   ]
  },
  {
   "cell_type": "code",
   "execution_count": null,
   "metadata": {},
   "outputs": [],
   "source": [
    "import tsfresh as tf\n",
    "\n",
    "def rolling_extract_features(X, window): \n",
    "    features = pd.DataFrame()\n",
    "    for i in range(len(X)-window): \n",
    "        X_rolling = X.iloc[i:i+window]\n",
    "        features_rolling = tf.extract_features(X_rolling, column_id='id', column_sort='DateTime')\n",
    "        features = pd.concat([features,features_rolling],axis=0)\n",
    "    return features"
   ]
  },
  {
   "cell_type": "markdown",
   "metadata": {},
   "source": [
    "### Extracción de características de los días de la crisis 1 y 2: "
   ]
  },
  {
   "cell_type": "code",
   "execution_count": null,
   "metadata": {},
   "outputs": [],
   "source": [
    "X1,y1 = diacrisis1.drop(['target'],axis=1), diacrisis1['target']\n",
    "X1['id'] = 1\n",
    "X1 = X1.reset_index(drop=True)\n",
    "print(len(X1))\n",
    "X1.head()"
   ]
  },
  {
   "cell_type": "code",
   "execution_count": null,
   "metadata": {},
   "outputs": [],
   "source": [
    "X2,y2 = diacrisis2.drop(['target'],axis=1), diacrisis2['target']\n",
    "X2['id'] = 1\n",
    "X2 = X2.reset_index(drop=True)\n",
    "print(len(X2))\n",
    "X2.head()"
   ]
  },
  {
   "cell_type": "code",
   "execution_count": null,
   "metadata": {},
   "outputs": [],
   "source": [
    "features_diacrisis1 = rolling_extract_features(X1,90)\n",
    "print(len(features_diacrisis1))\n",
    "features_diacrisis1.head()"
   ]
  },
  {
   "cell_type": "code",
   "execution_count": null,
   "metadata": {},
   "outputs": [],
   "source": [
    "features_diacrisis2 = rolling_extract_features(X2,90)\n",
    "print(len(features_diacrisis2))\n",
    "features_diacrisis2.head()"
   ]
  },
  {
   "cell_type": "markdown",
   "metadata": {},
   "source": [
    "### Añadir target a las características calculadas: "
   ]
  },
  {
   "cell_type": "code",
   "execution_count": null,
   "metadata": {},
   "outputs": [],
   "source": [
    "features_diacrisis1.reset_index(drop=True)\n",
    "y=y1[90:].reset_index(drop=True)\n",
    "features_diacrisis1 = pd.concat([features_diacrisis1,y],axis=1)\n",
    "print(len(features_diacrisis1))\n",
    "features_diacrisis1.head()"
   ]
  },
  {
   "cell_type": "code",
   "execution_count": null,
   "metadata": {},
   "outputs": [],
   "source": [
    "features_diacrisis2.reset_index(drop=True)\n",
    "y=y2[90:].reset_index(drop=True)\n",
    "features_diacrisis2 = pd.concat([features_diacrisis2,y],axis=1)\n",
    "print(len(features_diacrisis2))\n",
    "features_diacrisis2.head()"
   ]
  },
  {
   "cell_type": "markdown",
   "metadata": {},
   "source": [
    "### Guardar características: "
   ]
  },
  {
   "cell_type": "code",
   "execution_count": null,
   "metadata": {},
   "outputs": [],
   "source": [
    "#guardar resultados\n",
    "with open('features_diacrisis1_p1.pdd','wb') as f:\n",
    "    pk.dump(features_diacrisis1[:50000],f)\n",
    "with open('features_diacrisis1_p2.pdd','wb') as f: \n",
    "    pk.dump(features_diacrisis1[50000:],f)\n",
    "with open('features_diacrisis2_p1.pdd','wb') as f:\n",
    "    pk.dump(features_diacrisis2[:50000],f)\n",
    "with open('features_diacrisis2_p2.pdd','wb') as f: \n",
    "    pk.dump(features_diacrisis2[50000:],f)"
   ]
  },
  {
   "cell_type": "code",
   "execution_count": null,
   "metadata": {},
   "outputs": [],
   "source": []
  }
 ],
 "metadata": {
  "kernelspec": {
   "display_name": "Python 3",
   "language": "python",
   "name": "python3"
  },
  "language_info": {
   "codemirror_mode": {
    "name": "ipython",
    "version": 3
   },
   "file_extension": ".py",
   "mimetype": "text/x-python",
   "name": "python",
   "nbconvert_exporter": "python",
   "pygments_lexer": "ipython3",
   "version": "3.6.8"
  }
 },
 "nbformat": 4,
 "nbformat_minor": 2
}
