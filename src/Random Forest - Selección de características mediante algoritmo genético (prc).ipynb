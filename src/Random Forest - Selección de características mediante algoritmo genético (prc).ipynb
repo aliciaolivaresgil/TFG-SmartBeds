{
 "cells": [
  {
   "cell_type": "markdown",
   "metadata": {},
   "source": [
    "# Random Forest - Selección de características mediante algoritmo genético\n",
    "## Grado en Ingeniería Informática. Universidad de Burgos\n",
    "**Autor:** Alicia Olivares Gil"
   ]
  },
  {
   "cell_type": "code",
   "execution_count": 1,
   "metadata": {},
   "outputs": [],
   "source": [
    "%matplotlib inline \n",
    "#para dibujar en el propio notebook\n",
    "import pandas as pd # se importa pandas como pd\n",
    "import numpy as np  #numpy como np\n",
    "import matplotlib.pyplot as plt #matplotlib.pyplot como plot\n",
    "import pickle as pk\n",
    "from sklearn.ensemble import RandomForestClassifier\n",
    "from sklearn.model_selection import train_test_split\n",
    "from sklearn.metrics import confusion_matrix\n",
    "from sklearn import metrics as mtr\n",
    "from deap import base, creator, tools, algorithms\n",
    "import random\n",
    "import time "
   ]
  },
  {
   "cell_type": "markdown",
   "metadata": {},
   "source": [
    "## Cargar características: "
   ]
  },
  {
   "cell_type": "code",
   "execution_count": 2,
   "metadata": {},
   "outputs": [
    {
     "name": "stdout",
     "output_type": "stream",
     "text": [
      "Filas característcias crisis 1:  121889\n",
      "Filas característcias crisis 2:  123435\n",
      "Número de características: 123\n"
     ]
    }
   ],
   "source": [
    "with open('selection_diacrisis1.pdd','rb') as f: \n",
    "    features_diacrisis1 = pk.load(f) \n",
    "with open('selection_diacrisis2.pdd','rb') as f: \n",
    "    features_diacrisis2 = pk.load(f)\n",
    "    \n",
    "features_diacrisis1 = features_diacrisis1.drop(['P1__sample_entropy','P2__sample_entropy','P3__sample_entropy','P4__sample_entropy','P5__sample_entropy','P6__sample_entropy'], axis=1)\n",
    "features_diacrisis2 = features_diacrisis2.drop(['P1__sample_entropy','P2__sample_entropy','P3__sample_entropy','P4__sample_entropy','P5__sample_entropy','P6__sample_entropy'], axis=1)\n",
    "\n",
    "print('Filas característcias crisis 1: ',features_diacrisis1.shape[0])\n",
    "print('Filas característcias crisis 2: ',features_diacrisis2.shape[0])\n",
    "print('Número de características:',int((features_diacrisis1.shape[1]-1)/6))\n",
    "# se divide entre 6 porque se incluye la misma característica por cada uno de los 6 tubos de presión "
   ]
  },
  {
   "cell_type": "code",
   "execution_count": 3,
   "metadata": {},
   "outputs": [
    {
     "name": "stdout",
     "output_type": "stream",
     "text": [
      "Número de características: 123\n"
     ]
    }
   ],
   "source": [
    "features_names = []\n",
    "for c in features_diacrisis1.columns: \n",
    "    if c[2:] not in features_names and c!='target': \n",
    "        features_names.append(c[2:])\n",
    "print('Número de características:',len(features_names))"
   ]
  },
  {
   "cell_type": "markdown",
   "metadata": {},
   "source": [
    "## Configurar algoritmo genético: \n",
    "#### Configuración de los individuos: "
   ]
  },
  {
   "cell_type": "code",
   "execution_count": 4,
   "metadata": {},
   "outputs": [],
   "source": [
    "def configuraPoblacion(toolbox):\n",
    "\n",
    "    #maximizar \n",
    "    creator.create(\"FitnessMax\", base.Fitness, weights=(1.0,))\n",
    "    creator.create(\"Individual\", list, fitness=creator.FitnessMax)\n",
    "\n",
    "    n_features = len(features_names)\n",
    "    \n",
    "    #Los genes son de tipo entero. Cada entero representa una característica.\n",
    "    toolbox.register(\"attribute\", random.sample, range(n_features-1), 10) \n",
    "    #El individuo se crea como una lista (o repeticion) de \"attribute\", definido justo antes. \n",
    "    #Tendrá una longitud de 10 atributos\n",
    "    toolbox.register(\"individual\", tools.initIterate, creator.Individual, toolbox.attribute)\n",
    "    \n",
    "    #La población se crea como una lista de \"individual\", definido justo antes\n",
    "    toolbox.register(\"population\", tools.initRepeat, list, toolbox.individual)"
   ]
  },
  {
   "cell_type": "markdown",
   "metadata": {},
   "source": [
    "#### Función de evaluación: \n",
    "\n",
    "Devuelve el roc obtenido mediante la combinación de características extraídas del genotipo del individuo. "
   ]
  },
  {
   "cell_type": "code",
   "execution_count": 5,
   "metadata": {},
   "outputs": [],
   "source": [
    "def evalROC(individual):\n",
    "    global metric\n",
    "\n",
    "    auc =0\n",
    "    \n",
    "    individual = list(set(individual))\n",
    "\n",
    "    rfc = RandomForestClassifier(n_estimators=100, max_depth=2, random_state=0)\n",
    "    y1 = features_diacrisis1['target']\n",
    "    y2 = features_diacrisis2['target']\n",
    "    \n",
    "    X1 = pd.DataFrame()\n",
    "    X2 = pd.DataFrame()\n",
    "\n",
    "    for i in range(len(individual)):\n",
    "        for j in range(1,7):\n",
    "            nombre = 'P'+str(j)+features_names[individual[i]]\n",
    "            X1[nombre] = features_diacrisis1[nombre]\n",
    "            X2[nombre] = features_diacrisis2[nombre]\n",
    "    \n",
    "    rfc.fit(X1, y1)\n",
    "    y_pred = rfc.predict_proba(X2)\n",
    "    y_score = [i[0] for i in y_pred]\n",
    "    auc1 = metric(y2,y_score)\n",
    "\n",
    "    rfc.fit(X2, y2)\n",
    "    y_pred = rfc.predict_proba(X1)\n",
    "    y_score = [i[0] for i in y_pred]\n",
    "    auc2 = metric(y1,y_score)\n",
    "\n",
    "    auc= (auc1+auc2)/2\n",
    "    end = time.time()\n",
    "\n",
    "    return (auc,)"
   ]
  },
  {
   "cell_type": "markdown",
   "metadata": {},
   "source": [
    "#### Configuración del algoritmo: \n",
    "\n",
    "Define: \n",
    "    - Procedimientos y parámetros de cruce, mutación y selección. \n",
    "    - La función de evaluación a emplear "
   ]
  },
  {
   "cell_type": "code",
   "execution_count": 6,
   "metadata": {},
   "outputs": [],
   "source": [
    "def configuracionAlgoritmo(toolbox): \n",
    "    n_features = len(features_names)\n",
    "    \n",
    "    # Se seleccionan procedimiento standard para cruce, mutacion y seleccion\n",
    "    toolbox.register(\"mate\", tools.cxUniform, indpb=0.5)\n",
    "    toolbox.register(\"mutate\", tools.mutUniformInt,low=0, up=(n_features-1), indpb=0.2)\n",
    "    toolbox.register(\"select\", tools.selTournament, tournsize=3)\n",
    "    \n",
    "    # Se define cómo se evaluará cada individuo\n",
    "    # En este caso, se hará uso de la función de evaluación que se ha definido en la celda anterior \n",
    "    toolbox.register(\"evaluate\", evalROC)"
   ]
  },
  {
   "cell_type": "markdown",
   "metadata": {},
   "source": [
    "#### Definir parámetros principales del algoritmo y función de evoluación : "
   ]
  },
  {
   "cell_type": "code",
   "execution_count": 7,
   "metadata": {},
   "outputs": [],
   "source": [
    "probCruce = 0.6\n",
    "probMutacion = 0.1\n",
    "nGeneraciones = 50\n",
    "tamPoblacion = 50"
   ]
  },
  {
   "cell_type": "code",
   "execution_count": 8,
   "metadata": {},
   "outputs": [],
   "source": [
    "def realizaEvolucion(toolbox, stats):\n",
    "    \n",
    "    global probCruce\n",
    "    global probMutacion\n",
    "    global nGeneraciones\n",
    "    global tamPoblacion\n",
    "\n",
    "    # Se configura cómo se define cada individuo.\n",
    "    configuraPoblacion(toolbox)\n",
    "\n",
    "    configuracionAlgoritmo(toolbox)\n",
    "\n",
    "    # Se inicializa la poblacion con los individuos especificados en Main.py\n",
    "    population = toolbox.population(n=tamPoblacion)\n",
    "    hof=tools.HallOfFame(1)\n",
    "    # Se llama al algoritmo que permite la evolucion de las soluciones con los parametros especificados en Main.py\n",
    "    population, logbook = algorithms.eaSimple(population, toolbox, cxpb=probCruce, mutpb=probMutacion, ngen=nGeneraciones, verbose=False, stats=stats,halloffame=hof)     \n",
    "    \n",
    "    return logbook,hof[0]"
   ]
  },
  {
   "cell_type": "markdown",
   "metadata": {},
   "source": [
    "#### Función auxiliar para mostrar la evolución del algoritmo: "
   ]
  },
  {
   "cell_type": "code",
   "execution_count": 9,
   "metadata": {},
   "outputs": [],
   "source": [
    "def mostrarGrafica(logbook): \n",
    "    #imprimir grafica \n",
    "    ejex = logbook.select(\"gen\")\n",
    "    maximo = logbook.select(\"max\")\n",
    "    minimo = logbook.select(\"min\")\n",
    "    media = logbook.select(\"avg\")\n",
    "    desviacion = logbook.select(\"std\")\n",
    "    \n",
    "    plt.figure(figsize=(8,6),dpi=80)\n",
    "    plt.subplot(221)\n",
    "    plt.plot(ejex,maximo, color=\"green\")\n",
    "    plt.title(\"max/gen\")\n",
    "    plt.xlabel(\"generacion\")\n",
    "    plt.ylabel(\"maxima área bajo la curva\")\n",
    "    plt.subplot(222)\n",
    "    plt.plot(ejex,minimo, color=\"red\")\n",
    "    plt.title(\"min/gen\")\n",
    "    plt.xlabel(\"generacion\")\n",
    "    plt.ylabel(\"mínima área bajo la curva\")\n",
    "    plt.subplot(223)\n",
    "    plt.plot(ejex, media, color=\"blue\")\n",
    "    plt.title(\"med/gen\")\n",
    "    plt.xlabel(\"generacion\")\n",
    "    plt.ylabel(\"área bajo la curva media \")\n",
    "    plt.subplot(224)\n",
    "    plt.plot(ejex, desviacion, color=\"orange\")\n",
    "    plt.title(\"desviacion/gen\")\n",
    "    plt.xlabel(\"generacion\")\n",
    "    plt.ylabel(\"desviación\")\n",
    "    plt.tight_layout()"
   ]
  },
  {
   "cell_type": "markdown",
   "metadata": {},
   "source": [
    "#### Realizar evolución: "
   ]
  },
  {
   "cell_type": "markdown",
   "metadata": {},
   "source": [
    "1. Para la métrica average_precision_score: "
   ]
  },
  {
   "cell_type": "code",
   "execution_count": 10,
   "metadata": {},
   "outputs": [],
   "source": [
    "metric = mtr.average_precision_score"
   ]
  },
  {
   "cell_type": "code",
   "execution_count": 11,
   "metadata": {},
   "outputs": [],
   "source": [
    "#generar estadisticas\n",
    "toolbox = base.Toolbox()\n",
    "stats = tools.Statistics(lambda ind: ind.fitness.values)\n",
    "\n",
    "stats.register(\"avg\", np.mean)\n",
    "stats.register(\"std\", np.std)\n",
    "stats.register(\"min\", np.min)\n",
    "stats.register(\"max\", np.max)\n",
    "\n",
    "#realizar evolución \n",
    "logbook,best=realizaEvolucion(toolbox,stats)\n",
    "\n",
    "with open('logbook_prc.pkl','wb') as f:\n",
    "    pk.dump(logbook,f)\n",
    "with open('best_prc.pkl', 'wb') as f: \n",
    "    pk.dump(best,f)"
   ]
  },
  {
   "cell_type": "code",
   "execution_count": 12,
   "metadata": {},
   "outputs": [],
   "source": [
    "logbook = pk.load(open('logbook_prc.pkl','rb'))\n",
    "best = pk.load(open('best_prc.pkl','rb'))"
   ]
  },
  {
   "cell_type": "code",
   "execution_count": 13,
   "metadata": {},
   "outputs": [
    {
     "name": "stdout",
     "output_type": "stream",
     "text": [
      "gen\tnevals\tavg      \tstd      \tmin       \tmax      \n",
      "0  \t50    \t0.0222229\t0.0128279\t0.00834264\t0.0749395\n",
      "1  \t36    \t0.0297384\t0.0139128\t0.0117742 \t0.0749395\n",
      "2  \t31    \t0.0327413\t0.012117 \t0.0125939 \t0.0656244\n",
      "3  \t31    \t0.039292 \t0.0165246\t0.015382  \t0.0837657\n",
      "4  \t37    \t0.0458459\t0.024664 \t0.0154136 \t0.130444 \n",
      "5  \t32    \t0.0525772\t0.0278822\t0.0145594 \t0.130444 \n",
      "6  \t33    \t0.057463 \t0.0304928\t0.0194374 \t0.130444 \n",
      "7  \t32    \t0.0667933\t0.0317406\t0.0167    \t0.13922  \n",
      "8  \t28    \t0.0746982\t0.0347768\t0.0173302 \t0.147477 \n",
      "9  \t29    \t0.0783227\t0.036847 \t0.0174445 \t0.147477 \n",
      "10 \t38    \t0.0841681\t0.0383199\t0.0155466 \t0.147477 \n",
      "11 \t32    \t0.0875878\t0.0390071\t0.0188553 \t0.147477 \n",
      "12 \t34    \t0.0933048\t0.0389161\t0.0198736 \t0.148294 \n",
      "13 \t36    \t0.0948529\t0.0413807\t0.0161515 \t0.148294 \n",
      "14 \t30    \t0.10251  \t0.039166 \t0.0164256 \t0.15845  \n",
      "15 \t33    \t0.102253 \t0.0384533\t0.0237704 \t0.163443 \n",
      "16 \t39    \t0.0980783\t0.0418835\t0.0133456 \t0.163443 \n",
      "17 \t34    \t0.101811 \t0.0421254\t0.0204799 \t0.163443 \n",
      "18 \t31    \t0.118558 \t0.039192 \t0.0261198 \t0.196665 \n",
      "19 \t29    \t0.126293 \t0.0449103\t0.0250597 \t0.196665 \n",
      "20 \t34    \t0.139036 \t0.0497615\t0.0162433 \t0.196665 \n",
      "21 \t33    \t0.158054 \t0.0502076\t0.0228813 \t0.196665 \n",
      "22 \t26    \t0.17576  \t0.0427581\t0.0227463 \t0.196665 \n",
      "23 \t23    \t0.176587 \t0.0492533\t0.0192599 \t0.196665 \n",
      "24 \t33    \t0.191545 \t0.0250817\t0.0672677 \t0.196665 \n",
      "25 \t33    \t0.19478  \t0.0131908\t0.102445  \t0.196665 \n",
      "26 \t37    \t0.17646  \t0.0503424\t0.0148496 \t0.196665 \n",
      "27 \t36    \t0.187109 \t0.0345862\t0.0193321 \t0.196665 \n",
      "28 \t36    \t0.194434 \t0.015614 \t0.0851366 \t0.196665 \n",
      "29 \t34    \t0.177911 \t0.0512175\t0.0229232 \t0.196665 \n",
      "30 \t31    \t0.194139 \t0.0152152\t0.0892526 \t0.196665 \n",
      "31 \t28    \t0.179495 \t0.0462076\t0.0200823 \t0.196665 \n",
      "32 \t35    \t0.180671 \t0.0411596\t0.0382764 \t0.196665 \n",
      "33 \t27    \t0.17305  \t0.0503646\t0.0294233 \t0.196665 \n",
      "34 \t38    \t0.190026 \t0.0279421\t0.0286355 \t0.196665 \n",
      "35 \t25    \t0.183717 \t0.0411075\t0.0307071 \t0.196665 \n",
      "36 \t31    \t0.184749 \t0.0386286\t0.0225535 \t0.196665 \n",
      "37 \t32    \t0.184143 \t0.0429499\t0.0142274 \t0.196665 \n",
      "38 \t30    \t0.179786 \t0.0497248\t0.0157612 \t0.196665 \n",
      "39 \t31    \t0.188496 \t0.0321119\t0.0383827 \t0.196665 \n",
      "40 \t30    \t0.18955  \t0.0292136\t0.046723  \t0.199029 \n",
      "41 \t32    \t0.183284 \t0.0374938\t0.0576961 \t0.199029 \n",
      "42 \t32    \t0.17995  \t0.0464885\t0.0163639 \t0.199029 \n",
      "43 \t27    \t0.180688 \t0.0426928\t0.0319728 \t0.196665 \n",
      "44 \t26    \t0.187699 \t0.0357727\t0.0261004 \t0.196665 \n",
      "45 \t27    \t0.184047 \t0.0429888\t0.0254387 \t0.196665 \n",
      "46 \t32    \t0.190127 \t0.0268206\t0.0609015 \t0.196665 \n",
      "47 \t28    \t0.188008 \t0.0318522\t0.033974  \t0.196665 \n",
      "48 \t34    \t0.183707 \t0.043996 \t0.02379   \t0.196665 \n",
      "49 \t37    \t0.190758 \t0.0289356\t0.0484999 \t0.196665 \n",
      "50 \t28    \t0.188341 \t0.0337619\t0.0173425 \t0.196665 \n",
      "El mejor individuo encontrado es: \n",
      "[24, 54, 39, 3, 17, 21, 74, 36, 73, 5]\n"
     ]
    },
    {
     "data": {
      "image/png": "[encoded data removed]",
      "text/plain": [
       "<Figure size 640x480 with 4 Axes>"
      ]
     },
     "metadata": {
      "needs_background": "light"
     },
     "output_type": "display_data"
    }
   ],
   "source": [
    "#imprimir estadisticas\n",
    "print(logbook)\n",
    "\n",
    "#imprimir Grafica\n",
    "mostrarGrafica(logbook)\n",
    "\n",
    "print(\"El mejor individuo encontrado es: \")\n",
    "print(best)"
   ]
  },
  {
   "cell_type": "markdown",
   "metadata": {},
   "source": [
    "### Generar dataframes con las características del mejor individuo: "
   ]
  },
  {
   "cell_type": "code",
   "execution_count": 14,
   "metadata": {},
   "outputs": [],
   "source": [
    "diacrisis1 = pk.load(open('diacrisis1.pdd','rb'))\n",
    "diacrisis2 = pk.load(open('diacrisis2.pdd','rb'))\n",
    "diacrisis1 = diacrisis1[90:].reset_index(drop=True)\n",
    "diacrisis2 = diacrisis2[90:].reset_index(drop=True)\n",
    "\n",
    "seleccion_genetico_diacrisis1 = pd.DataFrame()\n",
    "seleccion_genetico_diacrisis2 = pd.DataFrame()\n",
    "for i in range(len(best)):\n",
    "    for j in range(1,7):\n",
    "        nombre = 'P'+str(j)+features_names[best[i]]\n",
    "        seleccion_genetico_diacrisis1[nombre] = features_diacrisis1[nombre]\n",
    "        seleccion_genetico_diacrisis2[nombre] = features_diacrisis2[nombre]\n",
    "\n",
    "seleccion_genetico_diacrisis2 = seleccion_genetico_diacrisis2.reset_index(drop=True)\n",
    "features_diacrisis2 = features_diacrisis2.reset_index(drop=True)\n",
    "        \n",
    "seleccion_genetico_diacrisis1 = pd.concat([diacrisis1['DateTime'], seleccion_genetico_diacrisis1, features_diacrisis1['target']],axis=1)\n",
    "seleccion_genetico_diacrisis2 = pd.concat([diacrisis2['DateTime'], seleccion_genetico_diacrisis2, features_diacrisis2['target']],axis=1)\n",
    "\n",
    "with open('seleccion_genetico_diacrisis1_prc.pdd','wb') as f:\n",
    "    pk.dump(seleccion_genetico_diacrisis1,f)\n",
    "with open('seleccion_genetico_diacrisis2_prc.pdd', 'wb') as f: \n",
    "    pk.dump(seleccion_genetico_diacrisis2,f)"
   ]
  },
  {
   "cell_type": "code",
   "execution_count": null,
   "metadata": {},
   "outputs": [],
   "source": []
  },
  {
   "cell_type": "code",
   "execution_count": null,
   "metadata": {},
   "outputs": [],
   "source": []
  }
 ],
 "metadata": {
  "kernelspec": {
   "display_name": "Python 3",
   "language": "python",
   "name": "python3"
  },
  "language_info": {
   "codemirror_mode": {
    "name": "ipython",
    "version": 3
   },
   "file_extension": ".py",
   "mimetype": "text/x-python",
   "name": "python",
   "nbconvert_exporter": "python",
   "pygments_lexer": "ipython3",
   "version": "3.6.8"
  }
 },
 "nbformat": 4,
 "nbformat_minor": 2
}
